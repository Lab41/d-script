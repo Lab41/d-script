{
 "cells": [
  {
   "cell_type": "code",
   "execution_count": 1,
   "metadata": {
    "collapsed": false
   },
   "outputs": [
    {
     "name": "stderr",
     "output_type": "stream",
     "text": [
      "Using gpu device 0: GeForce GTX TITAN X (CNMeM is disabled)\n"
     ]
    }
   ],
   "source": [
    "import time\n",
    "import random\n",
    "import numpy as np\n",
    "from collections import defaultdict\n",
    "from optparse import OptionParser\n",
    "import pickle\n",
    "import scipy.misc as smi\n",
    "\n",
    "# Required libraries\n",
    "import h5py\n",
    "import keras\n",
    "from keras.models import Sequential\n",
    "from keras.layers.core import Dense, Dropout, Activation, Flatten\n",
    "from keras.layers.convolutional import Convolution2D, MaxPooling2D\n",
    "from keras.optimizers import SGD\n",
    "from keras.utils.np_utils import to_categorical\n",
    "from keras.layers.normalization import BatchNormalization as BN\n",
    "\n",
    "import matplotlib.pylab as plt\n",
    "%matplotlib inline\n",
    "\n",
    "import sys\n",
    "sys.path.append('/work/code/repo/d-script/')\n",
    "# d-script imports\n",
    "from data_iters.minibatcher import MiniBatcher\n",
    "from data_iters.iam_hdf5_iterator import IAM_MiniBatcher\n",
    "\n",
    "from fielutil import *"
   ]
  },
  {
   "cell_type": "code",
   "execution_count": 2,
   "metadata": {
    "collapsed": true
   },
   "outputs": [],
   "source": [
    "hdf5_file = '/memory/author_lines.hdf5'\n",
    "num_forms_per_author=50; batch_size=32; num_authors=47; shingle_dim=(120,120); use_form=True\n",
    "\n",
    "iam_m = IAM_MiniBatcher(hdf5_file, num_authors, num_forms_per_author, shingle_dim=shingle_dim, default_mode=MiniBatcher.TRAIN, batch_size=batch_size)\n",
    "[X_test, Y_test] = iam_m.get_test_batch(batch_size*20)\n",
    "X_test = np.expand_dims(X_test, 1)\n",
    "X_test = randangle(X_test)\n",
    "Y_test = to_categorical(Y_test, num_authors)\n",
    "\n",
    "im = smi.imread('/fileserver/iam/forms/h07-025a.png')\n",
    "im = 1.0-im/256.0\n",
    "maxx, maxy = im.shape\n",
    "maxx = maxx/3\n",
    "maxy = maxy/3\n",
    "halfim = im[ :maxx, :maxy ]\n",
    "halfim = np.expand_dims( np.expand_dims( halfim, 0 ), 0 )"
   ]
  },
  {
   "cell_type": "code",
   "execution_count": 3,
   "metadata": {
    "collapsed": false
   },
   "outputs": [
    {
     "name": "stdout",
     "output_type": "stream",
     "text": [
      "Loading original weights into GPU memory\n",
      "Finished weight load\n"
     ]
    }
   ],
   "source": [
    "print \"Loading original weights into GPU memory\"\n",
    "model = fielnet('../convnets/fielnet/fielnet.hdf5', layer='fc8')\n",
    "model.compile(loss='mse', optimizer='sgd')\n",
    "print \"Finished weight load\""
   ]
  },
  {
   "cell_type": "code",
   "execution_count": null,
   "metadata": {
    "collapsed": false
   },
   "outputs": [],
   "source": [
    "input_shape = model.input_shape\n",
    "output_shape = model.output_shape[1]\n",
    "im = halfim[0]\n",
    "vskip = 2\n",
    "hskip = 2\n",
    "\n",
    "obufx = (im.shape[1]-input_shape[2])/vskip+1\n",
    "obufy = (im.shape[2]-input_shape[3])/hskip+1\n",
    "obuflen = obufx*obufy\n",
    "ibuflen = 3200\n",
    "# input_buffer = np.zeros((obuflen, 1, input_shape[2], input_shape[3]))\n",
    "input_buffer = np.zeros((ibuflen, 1, input_shape[2], input_shape[3]))\n",
    "output_buffer = np.zeros( (obuflen, output_shape) )"
   ]
  },
  {
   "cell_type": "code",
   "execution_count": null,
   "metadata": {
    "collapsed": false
   },
   "outputs": [
    {
     "name": "stdout",
     "output_type": "stream",
     "text": [
      "Begin data transfer to buffers\n",
      "\u001b[FFinished output_buffer fill (0 - 3200) / 187974 : 1.702363 %\n",
      "\u001b[FFinished output_buffer fill (3200 - 6400) / 187974 : 3.404726 %\n",
      "\u001b[F"
     ]
    }
   ],
   "source": [
    "import sys\n",
    "print \"Begin data transfer to buffers\"\n",
    "k = 0; lb=0; le=0\n",
    "for i in xrange(0, im.shape[1] - input_shape[2] + vskip, vskip):\n",
    "    for j in xrange(0, im.shape[2] - input_shape[3] + hskip, hskip):\n",
    "        input_buffer[k] = im[:, i:(i+input_shape[2]), j:(j+input_shape[3])]\n",
    "        k+=1; le+=1;\n",
    "        # Dump buffer and do inference\n",
    "        if k==ibuflen:\n",
    "            output_buffer[lb:le] = model.predict( input_buffer )\n",
    "            pctdone = float(le)/obuflen*100\n",
    "            sys.stdout.write(\"\\033[F\") # Cursor up one line\n",
    "            print (\"Finished output_buffer fill (%d - %d) / %d : %f %%\" %( lb, le, obuflen, float(le)/obuflen*100 ))\n",
    "            k=0; lb=le"
   ]
  },
  {
   "cell_type": "code",
   "execution_count": null,
   "metadata": {
    "collapsed": true
   },
   "outputs": [],
   "source": [
    "output_map = output_buffer.reshape(obufx, obufy, output_shape)"
   ]
  },
  {
   "cell_type": "code",
   "execution_count": null,
   "metadata": {
    "collapsed": false
   },
   "outputs": [],
   "source": [
    "numcols = 3\n",
    "numrows = 16\n",
    "\n",
    "k = 0\n",
    "for j in xrange(numrows):\n",
    "    plt.figure()\n",
    "    for i in xrange(numcols):\n",
    "        if k < output_shape:\n",
    "            plt.subplot(1,numcols,i+1)\n",
    "            plt.imshow(output_map[:,:,k]) #,aspect='auto')\n",
    "            plt.title('Neuron '+str(j*numcols+i))\n",
    "            # plt.colorbar()"
   ]
  },
  {
   "cell_type": "code",
   "execution_count": null,
   "metadata": {
    "collapsed": true
   },
   "outputs": [],
   "source": []
  }
 ],
 "metadata": {
  "kernelspec": {
   "display_name": "Python 2",
   "language": "python",
   "name": "python2"
  },
  "language_info": {
   "codemirror_mode": {
    "name": "ipython",
    "version": 2
   },
   "file_extension": ".py",
   "mimetype": "text/x-python",
   "name": "python",
   "nbconvert_exporter": "python",
   "pygments_lexer": "ipython2",
   "version": "2.7.6"
  }
 },
 "nbformat": 4,
 "nbformat_minor": 0
}
