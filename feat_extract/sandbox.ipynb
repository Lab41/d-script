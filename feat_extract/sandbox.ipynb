{
 "cells": [
  {
   "cell_type": "code",
   "execution_count": 1,
   "metadata": {
    "collapsed": false
   },
   "outputs": [
    {
     "name": "stderr",
     "output_type": "stream",
     "text": [
      "Using gpu device 0: GeForce GTX TITAN X (CNMeM is disabled)\n"
     ]
    }
   ],
   "source": [
    "import time\n",
    "import random\n",
    "import numpy as np\n",
    "from collections import defaultdict\n",
    "from optparse import OptionParser\n",
    "import pickle\n",
    "import scipy.misc as smi\n",
    "\n",
    "# Required libraries\n",
    "import h5py\n",
    "import keras\n",
    "from keras.models import Sequential\n",
    "from keras.layers.core import Dense, Dropout, Activation, Flatten\n",
    "from keras.layers.convolutional import Convolution2D, MaxPooling2D\n",
    "from keras.optimizers import SGD\n",
    "from keras.utils.np_utils import to_categorical\n",
    "from keras.layers.normalization import BatchNormalization as BN\n",
    "\n",
    "import matplotlib.pylab as plt\n",
    "%matplotlib inline\n",
    "\n",
    "import sys\n",
    "sys.path.append('/work/code/repo/d-script/')\n",
    "# d-script imports\n",
    "from data_iters.minibatcher import MiniBatcher\n",
    "from data_iters.iam_hdf5_iterator import IAM_MiniBatcher\n",
    "\n",
    "from fielutil import *"
   ]
  },
  {
   "cell_type": "code",
   "execution_count": 2,
   "metadata": {
    "collapsed": false
   },
   "outputs": [],
   "source": [
    "hdf5_file = '/memory/author_lines.hdf5'\n",
    "num_forms_per_author=50; batch_size=32; num_authors=47; shingle_dim=(120,120); use_form=True\n",
    "\n",
    "iam_m = IAM_MiniBatcher(hdf5_file, num_authors, num_forms_per_author, shingle_dim=shingle_dim, use_form=use_form, default_mode=MiniBatcher.TRAIN, batch_size=batch_size)\n",
    "[X_test, Y_test] = iam_m.get_test_batch(batch_size*20)\n",
    "X_test = np.expand_dims(X_test, 1)\n",
    "X_test = randangle(X_test)\n",
    "Y_test = to_categorical(Y_test, num_authors)\n",
    "\n",
    "maxx = X_test.shape[2]\n",
    "maxy = X_test.shape[3]"
   ]
  },
  {
   "cell_type": "code",
   "execution_count": 33,
   "metadata": {
    "collapsed": false
   },
   "outputs": [
    {
     "name": "stdout",
     "output_type": "stream",
     "text": [
      "Loading original weights into GPU memory\n",
      "Finished loading, now begin iterating through layers to copy over to feature model\n",
      "Model created and weights loaded in\n"
     ]
    }
   ],
   "source": [
    "print \"Loading original weights into GPU memory\"\n",
    "model = fielnet('../convnets/fielnet/fielnet.hdf5', layer='fc8')\n",
    "# When we flatten a convolutional layer, we need to know what the original dimensions were\n",
    "flatten_shape = [layer.input_shape for layer in model.layers if type(layer)==Flatten][0]\n",
    "flattened = False\n",
    "\n",
    "print \"Finished loading, now begin iterating through layers to copy over to feature model\"\n",
    "featmodel = Sequential()\n",
    "for layer in model.layers:\n",
    "    # The first layer\n",
    "    if layer == model.layers[0] and type(layer)==Convolution2D:\n",
    "        Wl = layer.get_weights()[0]\n",
    "        bl = layer.get_weights()[1]\n",
    "        convshape = Wl.shape[2:]\n",
    "        convshape = (Wl.shape[0],)+convshape\n",
    "        featmodel.add(Convolution2D( *convshape, border_mode=layer.border_mode,\n",
    "                                     input_shape=(1, maxx, maxy), weights=[Wl,bl]))\n",
    "    # From the layer \"Flatten\" on, we'll need to make changes to Dense layers\n",
    "    elif type( layer ) == Flatten:\n",
    "        convshape = flatten_shape[-2:]\n",
    "        flattened = True\n",
    "    # Take the convolutional shape and add our newest layer\n",
    "    elif type( layer ) == Dense:\n",
    "        convshape = (layer.output_shape[-1],)+convshape\n",
    "        Wl = layer.get_weights()[0]\n",
    "        Wl = Wl.T.reshape( convshape[0], Wl.shape[0]/np.product(convshape[1:]), *convshape[1:] )\n",
    "        # Flip all the weights for convolution\n",
    "        for d0 in xrange(Wl.shape[0]): \n",
    "            for d1 in xrange(Wl.shape[1]):\n",
    "                Wl[d0][d1] = np.flipud( np.fliplr( Wl[d0][d1] ))\n",
    "        bl = layer.get_weights()[1]\n",
    "        featmodel.add(Convolution2D( *convshape, border_mode = 'valid', weights=[Wl,bl] ))\n",
    "        convshape = (1,1)\n",
    "    elif type( layer ) == BN and flattened:\n",
    "        weights = [ np.expand_dims(np.expand_dims(weight,1),1)  for weight in layer.get_weights() ]\n",
    "        featmodel.add (layer )\n",
    "        featmodel.layers[-1].set_weights( weights )\n",
    "    else:\n",
    "        weights = layer.get_weights()\n",
    "        featmodel.add( layer )\n",
    "        if weights:\n",
    "            featmodel.layers[-1].set_weights(weights)\n",
    "\n",
    "print \"Model created and weights loaded in\""
   ]
  },
  {
   "cell_type": "code",
   "execution_count": 34,
   "metadata": {
    "collapsed": false
   },
   "outputs": [],
   "source": [
    "featmodel.compile(loss='mse',optimizer='sgd')\n",
    "featpred = featmodel.predict(X_test).squeeze()\n",
    "model2 = fielnet('../convnets/fielnet/fielnet.hdf5', layer='fc8')\n",
    "model2.compile(loss='mse',optimizer='sgd')\n",
    "modelpred = model2.predict(X_test)"
   ]
  },
  {
   "cell_type": "code",
   "execution_count": 36,
   "metadata": {
    "collapsed": false
   },
   "outputs": [
    {
     "name": "stdout",
     "output_type": "stream",
     "text": [
      "[  7.54371738  -0.6113497  -13.37036514  -7.8403759  -19.5206871\n",
      " -14.36899757   0.41958624  -5.95518017  -6.57374525   4.02400875\n",
      "   6.7355032    7.2667551   13.33190823 -12.94529057  16.76345253\n",
      "  -1.09137201   8.87202549   5.12641096   3.66256666  -2.8329742\n",
      "  -1.10933924   1.98169875   1.31195366   9.80548859   7.21185064\n",
      "  10.44740009   3.84643865   0.32390028   4.20608664   4.54079342\n",
      "  -2.91334152   2.96376634 -17.10731697   4.52771139  -1.25956392\n",
      " -12.18439674   1.25669229 -16.96313477   4.03064442   0.85732257\n",
      "  -0.83283478  15.19937706  -4.32480335   3.47857046   3.59147739\n",
      "   0.3569175   -6.60848475]\n",
      "[  7.54372787  -0.61133361 -13.37032986  -7.84035397 -19.52067757\n",
      " -14.36898708   0.41958517  -5.9551692   -6.57376862   4.02398777\n",
      "   6.73551464   7.26674891  13.33191299 -12.94527149  16.76346397\n",
      "  -1.09137106   8.87203121   5.12642002   3.66254711  -2.83298516\n",
      "  -1.10935688   1.98167396   1.31196344   9.80549622   7.21184444\n",
      "  10.44742107   3.84644198   0.32387623   4.20608521   4.54080486\n",
      "  -2.9133606    2.96374011 -17.10729218   4.5276947   -1.25956595\n",
      " -12.18437767   1.25669265 -16.9631424    4.03063059   0.85728967\n",
      "  -0.83284658  15.1993866   -4.32479      3.47856402   3.59145689\n",
      "   0.35689461  -6.60847998]\n"
     ]
    }
   ],
   "source": [
    "print modelpred[0]\n",
    "print featpred[0]"
   ]
  },
  {
   "cell_type": "code",
   "execution_count": null,
   "metadata": {
    "collapsed": false
   },
   "outputs": [],
   "source": []
  },
  {
   "cell_type": "code",
   "execution_count": null,
   "metadata": {
    "collapsed": true
   },
   "outputs": [],
   "source": []
  }
 ],
 "metadata": {
  "kernelspec": {
   "display_name": "Python 2",
   "language": "python",
   "name": "python2"
  },
  "language_info": {
   "codemirror_mode": {
    "name": "ipython",
    "version": 2
   },
   "file_extension": ".py",
   "mimetype": "text/x-python",
   "name": "python",
   "nbconvert_exporter": "python",
   "pygments_lexer": "ipython2",
   "version": "2.7.6"
  }
 },
 "nbformat": 4,
 "nbformat_minor": 0
}
