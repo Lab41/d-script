{
 "cells": [
  {
   "cell_type": "code",
   "execution_count": 7,
   "metadata": {
    "collapsed": true
   },
   "outputs": [],
   "source": [
    "import numpy as np\n",
    "from collections import namedtuple"
   ]
  },
  {
   "cell_type": "code",
   "execution_count": 19,
   "metadata": {
    "collapsed": false
   },
   "outputs": [],
   "source": [
    "# purpose. given an author-fragment dictionary-of-dictionaries-of-arrays object,\n",
    "# pick a random fragment, produce deterministic shingles from that document\n",
    "\n",
    "class InferenceShingler:\n",
    "    ShingleSize=namedtuple('ShingleSize', ['rows','cols'])\n",
    "    \n",
    "    def __init__(self, img, num_shingles=None, \n",
    "                 hskip=None, vskip=None, \n",
    "                 shingle_size=ShingleSize(rows=120,cols=120)):\n",
    "        \"\"\" given an image of a document fragment, \n",
    "        produce deterministic shingles from that document\n",
    "        \n",
    "        Arguments:\n",
    "            img --\n",
    "            num_shingles --\n",
    "            hskip --\n",
    "            vskip --\n",
    "            shingle_size -- ROWS, COLS format!!\n",
    "        \"\"\"\n",
    "        self.img = img\n",
    "        assert num_shingles is not None or (hskip is not None and vskip is not None)\n",
    "        self.shingle_size = shingle_size\n",
    "        self.vskip = vskip\n",
    "        self.hskip = hskip\n",
    "        \n",
    "        # TODO: warn if danger of leaving off right or bottom edge\n",
    "        h_margin = self.img.shape[1] - self.hskip\n",
    "        if h_margin\n",
    "        \n",
    "    def iter_shingles(self):\n",
    "        for row_i in xrange(0, self.img.shape[0] - self.shingle_size[0], self.vskip):\n",
    "            for col_j in xrange(0, self.img.shape[1] - self.shingle_size[1], self.hskip):\n",
    "                end_col = col_j + self.shingle_size[1]\n",
    "                end_row = row_i + self.shingle_size[0]\n",
    "                yield self.img[row_i:end_row, col_j:end_col]"
   ]
  },
  {
   "cell_type": "code",
   "execution_count": 22,
   "metadata": {
    "collapsed": false
   },
   "outputs": [
    {
     "name": "stdout",
     "output_type": "stream",
     "text": [
      "[[ 0  1  2  3  4  5  6  7  8  9]\n",
      " [10 11 12 13 14 15 16 17 18 19]\n",
      " [20 21 22 23 24 25 26 27 28 29]\n",
      " [30 31 32 33 34 35 36 37 38 39]\n",
      " [40 41 42 43 44 45 46 47 48 49]\n",
      " [50 51 52 53 54 55 56 57 58 59]\n",
      " [60 61 62 63 64 65 66 67 68 69]\n",
      " [70 71 72 73 74 75 76 77 78 79]\n",
      " [80 81 82 83 84 85 86 87 88 89]\n",
      " [90 91 92 93 94 95 96 97 98 99]]\n",
      "[[ 0  1]\n",
      " [10 11]]\n",
      "[[ 3  4]\n",
      " [13 14]]\n",
      "[[ 6  7]\n",
      " [16 17]]\n",
      "[[30 31]\n",
      " [40 41]]\n",
      "[[33 34]\n",
      " [43 44]]\n",
      "[[36 37]\n",
      " [46 47]]\n",
      "[[60 61]\n",
      " [70 71]]\n",
      "[[63 64]\n",
      " [73 74]]\n",
      "[[66 67]\n",
      " [76 77]]\n"
     ]
    }
   ],
   "source": [
    "#img_coords = np.dstack(np.meshgrid(np.arange(10), np.arange(10,20)))\n",
    "img = np.arange(100).reshape(10,10)\n",
    "print img\n",
    "\n",
    "inf_shin = InferenceShingler(img, hskip=3, vskip=3, shingle_size=(2,2))\n",
    "\n",
    "for shingle in inf_shin.iter_shingles():\n",
    "    print shingle"
   ]
  },
  {
   "cell_type": "code",
   "execution_count": null,
   "metadata": {
    "collapsed": true
   },
   "outputs": [],
   "source": []
  }
 ],
 "metadata": {
  "kernelspec": {
   "display_name": "Python 2",
   "language": "python",
   "name": "python2"
  },
  "language_info": {
   "codemirror_mode": {
    "name": "ipython",
    "version": 2
   },
   "file_extension": ".py",
   "mimetype": "text/x-python",
   "name": "python",
   "nbconvert_exporter": "python",
   "pygments_lexer": "ipython2",
   "version": "2.7.6"
  }
 },
 "nbformat": 4,
 "nbformat_minor": 0
}
