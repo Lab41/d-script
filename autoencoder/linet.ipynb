{
 "cells": [
  {
   "cell_type": "code",
   "execution_count": 2,
   "metadata": {
    "collapsed": false
   },
   "outputs": [
    {
     "name": "stderr",
     "output_type": "stream",
     "text": [
      "Using Theano backend.\n",
      "Using gpu device 0: GeForce GTX 980M (CNMeM is disabled)"
     ]
    },
    {
     "name": "stdout",
     "output_type": "stream",
     "text": [
      "Automatic pdb calling has been turned OFF\n"
     ]
    },
    {
     "name": "stderr",
     "output_type": "stream",
     "text": [
      "\n"
     ]
    }
   ],
   "source": [
    "import time\n",
    "import random\n",
    "import numpy as np\n",
    "from collections import defaultdict\n",
    "from optparse import OptionParser\n",
    "import pickle\n",
    "\n",
    "# Required libraries\n",
    "import h5py\n",
    "import keras\n",
    "from keras.models import Sequential\n",
    "from keras.layers.core import Dense, Dropout, Activation, Flatten\n",
    "from keras.layers.convolutional import Convolution2D, MaxPooling2D\n",
    "from keras.optimizers import SGD\n",
    "from keras.utils.np_utils import to_categorical\n",
    "from keras.layers.normalization import BatchNormalization as BN\n",
    "\n",
    "# Plotting and stuffs (which probably won't work due to X11 issues)\n",
    "import matplotlib.pylab as plt\n",
    "import sys\n",
    "\n",
    "# d-script imports\n",
    "sys.path.append('..')\n",
    "import data_iters\n",
    "from data_iters.hdf5_iterator import Hdf5MiniBatcher\n",
    "from data_iters.archive.iam_iterator import IAM_MiniBatcher\n",
    "from data_iters.minibatcher import MiniBatcher\n",
    "\n",
    "# Denoising stuff\n",
    "from data_iters.CoffeeStainer import *\n",
    "from data_iters.NoiseAdder import *\n",
    "\n",
    "%pdb off"
   ]
  },
  {
   "cell_type": "code",
   "execution_count": 3,
   "metadata": {
    "collapsed": true
   },
   "outputs": [],
   "source": [
    "# Which training dataset do we want to train from?\n",
    "train_dataset='iam-binlines'\n",
    "noise_dataset='noise'\n",
    "\n",
    "# All the images that you require extraction should be in this HDF5 file\n",
    "if train_dataset=='nmec':\n",
    "    hdf5authors='/fileserver/nmec-handwriting/nmec_scaled_author_form.hdf5'\n",
    "    hdf5images='nmecdata/nmec_scaled_flat.hdf5'\n",
    "elif train_dataset=='nmec-bin':\n",
    "    hdf5authors='nmecdata/author_nmec_bin_uint8.hdf5'\n",
    "    hdf5images='nmecdata/flat_nmec_bin_uint8.hdf5'\n",
    "elif train_dataset=='iam-words':\n",
    "    hdf5authors='/fileserver/iam/iam-processed/words/author_words.hdf5'\n",
    "elif train_dataset=='iam-binwords':\n",
    "    hdf5authors='/fileserver/iam/iam-binary/iam_author_words.hdf5'\n",
    "    hdf5images='/fileserver/iam/iam-binary/iam_flat_words.hdf5'\n",
    "elif train_dataset=='iam-lines':\n",
    "    hdf5authors='/fileserver/iam/iam-processed/lines/author_lines.hdf5'\n",
    "elif train_dataset=='iam-binlines':\n",
    "    hdf5authors='/fileserver/iam/iam-binary/iam_author_lines_bin.hdf5'\n",
    "    hdf5images='/fileserver/iam/iam-binary/iam_flat_lines_bin.hdf5'\n",
    "elif train_dataset=='iam_binforms':\n",
    "    hdf5authors='/fileserver/iam/iam-binary/iam_author_forms_bin.hdf5'\n",
    "else:\n",
    "    hdf5authors='/fileserver/iam/iam-processed/forms/author_forms.hdf5'\n",
    "    \n",
    "# Setup HDF5 Files\n",
    "labels = h5py.File(hdf5authors, 'r')\n",
    "# num_authors=len(labels)\n",
    "# num_forms_per_author=-1\n",
    "num_authors=300\n",
    "num_forms_per_author=10\n",
    "shingle_dim=(120,120)\n",
    "batch_size=32\n",
    "load_size=batch_size*1000\n",
    "iterations = 1000\n",
    "lr = 0.001"
   ]
  },
  {
   "cell_type": "code",
   "execution_count": 10,
   "metadata": {
    "collapsed": false
   },
   "outputs": [],
   "source": [
    "# mini_m = Hdf5MiniBatcher(hdf5authors, num_authors, num_forms_per_author,\n",
    "#                             shingle_dim=shingle_dim, default_mode=MiniBatcher.TRAIN,\n",
    "#                             batch_size=batch_size, add_rotation=False)\n",
    "mini_m = IAM_MiniBatcher(hdf5authors, num_authors, num_forms_per_author,\n",
    "                            shingle_dim=shingle_dim, default_mode=MiniBatcher.TRAIN,\n",
    "                            batch_size=load_size)\n",
    "noise_m = NoiseAdder('noisedir')\n",
    "\n",
    "(X,Y) = mini_m.get_batch(10)\n",
    "rng = np.random.RandomState(100)\n",
    "Xnoise = noise_m.add_noise_np(X[5], rng=rng, shingle_dim=shingle_dim)"
   ]
  },
  {
   "cell_type": "code",
   "execution_count": 11,
   "metadata": {
    "collapsed": true
   },
   "outputs": [],
   "source": [
    "import matplotlib.pylab as plt\n",
    "%matplotlib inline"
   ]
  },
  {
   "cell_type": "code",
   "execution_count": 12,
   "metadata": {
    "collapsed": false
   },
   "outputs": [
    {
     "data": {
      "text/plain": [
       "<matplotlib.image.AxesImage at 0x7f2e7c579550>"
      ]
     },
     "execution_count": 12,
     "metadata": {},
     "output_type": "execute_result"
    },
    {
     "data": {
      "image/png": "[encoded data removed]",
      "text/plain": [
       "<matplotlib.figure.Figure at 0x7f2e81143dd0>"
      ]
     },
     "metadata": {},
     "output_type": "display_data"
    },
    {
     "data": {
      "image/png": "[encoded data removed]",
      "text/plain": [
       "<matplotlib.figure.Figure at 0x7f2e81219c90>"
      ]
     },
     "metadata": {},
     "output_type": "display_data"
    }
   ],
   "source": [
    "plt.imshow(1-X[4]/255.0, cmap='gray')\n",
    "plt.figure()\n",
    "plt.imshow(Xnoise, cmap='gray')"
   ]
  },
  {
   "cell_type": "code",
   "execution_count": null,
   "metadata": {
    "collapsed": false
   },
   "outputs": [],
   "source": [
    "Xnoisefft = np.fft.rfft2(Xnoise)\n",
    "plt.imshow(Xnoisefft)"
   ]
  },
  {
   "cell_type": "code",
   "execution_count": null,
   "metadata": {
    "collapsed": true
   },
   "outputs": [],
   "source": []
  }
 ],
 "metadata": {
  "kernelspec": {
   "display_name": "Python 2",
   "language": "python",
   "name": "python2"
  },
  "language_info": {
   "codemirror_mode": {
    "name": "ipython",
    "version": 2
   },
   "file_extension": ".py",
   "mimetype": "text/x-python",
   "name": "python",
   "nbconvert_exporter": "python",
   "pygments_lexer": "ipython2",
   "version": "2.7.6"
  }
 },
 "nbformat": 4,
 "nbformat_minor": 0
}
