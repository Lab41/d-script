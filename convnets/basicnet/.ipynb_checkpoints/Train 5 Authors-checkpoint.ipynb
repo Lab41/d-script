{
 "cells": [
  {
   "cell_type": "code",
   "execution_count": 48,
   "metadata": {
    "collapsed": false
   },
   "outputs": [],
   "source": [
    "import pickle\n",
    "import numpy\n",
    "import keras\n",
    "\n",
    "from keras.models import Sequential\n",
    "from keras.layers.core import Dense, Dropout, Activation, Flatten\n",
    "from keras.layers.convolutional import Convolution2D, MaxPooling2D\n",
    "from keras.optimizers import SGD\n",
    "from keras.utils.np_utils import to_categorical\n",
    "from keras.layers.normalization import BatchNormalization as BN\n",
    "\n",
    "import matplotlib.pylab as plt\n",
    "%matplotlib inline"
   ]
  },
  {
   "cell_type": "code",
   "execution_count": 7,
   "metadata": {
    "collapsed": true
   },
   "outputs": [],
   "source": [
    "datafile='/work/iam-data/pngs/output_shingles_sample.pkl'\n",
    "split = 0.8"
   ]
  },
  {
   "cell_type": "code",
   "execution_count": null,
   "metadata": {
    "collapsed": true
   },
   "outputs": [],
   "source": [
    "data = pickle.load(open(datafile))\n",
    "authors = data.keys()\n",
    "\n",
    "# Thought this would help with speed by pre-initializing data matrix\n",
    "imcount = 0\n",
    "imcount += sum( len(data[author]) for author in authors )\n",
    "randomdata = numpy.zeros( (imcount, 120, 120) )\n",
    "randomclass = numpy.zeros( imcount )\n",
    "\n",
    "# Load in all the data into matrix to pass to Keras\n",
    "imcount = 0\n",
    "authorcount = 0\n",
    "for author in authors:\n",
    "    for shard in data[author]:\n",
    "        randomdata[imcount,:,:] = shard\n",
    "        randomclass[imcount] =authorcount\n",
    "        imcount+=1\n",
    "    authorcount+=1\n",
    "randomorder = numpy.random.permutation(imcount)\n",
    "randomdata = randomdata[ randomorder, :, : ]\n",
    "randomclass = randomclass[ randomorder ]\n",
    "\n",
    "realsplit = int(split*imcount)\n",
    "X_train = randomdata[0:realsplit,:,:]\n",
    "Y_train = randomclass[0:realsplit]\n",
    "\n",
    "X_train = numpy.expand_dims(X_train, 1)\n",
    "Y_train = to_categorical(Y_train, authorcount)\n",
    "\n",
    "X_test = randomdata[realsplit:,:,:]\n",
    "Y_test = randomclass[realsplit:]\n",
    "\n",
    "X_test = numpy.expand_dims(X_test, 1)\n",
    "Y_test = to_categorical(Y_test, authorcount)\n",
    "\n",
    "X_train/=255.0\n",
    "X_test/=255.0\n",
    "X_train = 1.0 - X_train\n",
    "X_test = 1.0 - X_test"
   ]
  },
  {
   "cell_type": "code",
   "execution_count": 79,
   "metadata": {
    "collapsed": false
   },
   "outputs": [],
   "source": [
    "model = Sequential()\n",
    "model.add(Convolution2D(10, 12, 12,\n",
    "                        border_mode='full',\n",
    "                        input_shape=(1, 120, 120)))\n",
    "model.add(Activation('relu'))\n",
    "    \n",
    "model.add(Convolution2D(7, 6, 6))\n",
    "model.add(Activation('relu'))\n",
    "model.add(MaxPooling2D(pool_size=(2,2)))\n",
    "model.add(Dropout(0.25))\n",
    "    \n",
    "model.add(Flatten())\n",
    "model.add(Dense(10))\n",
    "model.add(Activation('relu'))\n",
    "model.add(Dropout(0.5))\n",
    "model.add(Dense(5))\n",
    "model.add(Activation('softmax'))"
   ]
  },
  {
   "cell_type": "code",
   "execution_count": 90,
   "metadata": {
    "collapsed": false
   },
   "outputs": [
    {
     "name": "stdout",
     "output_type": "stream",
     "text": [
      "Compiling model\n",
      "Finished compilation\n"
     ]
    }
   ],
   "source": [
    "print \"Compiling model\" \n",
    "sgd = SGD(lr=0.00001, decay=1e-6, momentum=0.9, nesterov=True)\n",
    "# sgd = SGD(lr=0.0001)\n",
    "model.compile(loss='categorical_crossentropy', optimizer=sgd)\n",
    "# model.compile(loss='categorical_crossentropy', optimizer='adadelta')\n",
    "print \"Finished compilation\""
   ]
  },
  {
   "cell_type": "code",
   "execution_count": null,
   "metadata": {
    "collapsed": false
   },
   "outputs": [
    {
     "name": "stdout",
     "output_type": "stream",
     "text": [
      "Train on 1312 samples, validate on 328 samples\n",
      "Epoch 1/100\n",
      "1312/1312 [==============================] - 8s - loss: 0.7603 - acc: 0.6814 - val_loss: 0.9217 - val_acc: 0.7134\n",
      "Epoch 2/100\n",
      "1312/1312 [==============================] - 10s - loss: 0.7087 - acc: 0.7088 - val_loss: 0.9215 - val_acc: 0.7134\n",
      "Epoch 3/100\n",
      "1312/1312 [==============================] - 10s - loss: 0.7173 - acc: 0.7066 - val_loss: 0.9215 - val_acc: 0.7134\n",
      "Epoch 4/100\n",
      "1312/1312 [==============================] - 10s - loss: 0.7152 - acc: 0.7027 - val_loss: 0.9212 - val_acc: 0.7134\n",
      "Epoch 5/100\n",
      "1312/1312 [==============================] - 10s - loss: 0.7255 - acc: 0.7020 - val_loss: 0.9210 - val_acc: 0.7134\n",
      "Epoch 6/100\n",
      "1312/1312 [==============================] - 8s - loss: 0.7341 - acc: 0.6974 - val_loss: 0.9208 - val_acc: 0.7134\n",
      "Epoch 7/100\n",
      "1312/1312 [==============================] - 10s - loss: 0.7337 - acc: 0.7027 - val_loss: 0.9208 - val_acc: 0.7134\n",
      "Epoch 8/100\n",
      "1312/1312 [==============================] - 10s - loss: 0.7242 - acc: 0.7058 - val_loss: 0.9208 - val_acc: 0.7134\n",
      "Epoch 9/100\n",
      "1312/1312 [==============================] - 10s - loss: 0.7417 - acc: 0.6898 - val_loss: 0.9205 - val_acc: 0.7134\n",
      "Epoch 10/100\n",
      "1312/1312 [==============================] - 9s - loss: 0.7455 - acc: 0.7012 - val_loss: 0.9203 - val_acc: 0.7134\n",
      "Epoch 11/100\n",
      "1312/1312 [==============================] - 9s - loss: 0.7173 - acc: 0.7035 - val_loss: 0.9202 - val_acc: 0.7134\n",
      "Epoch 12/100\n",
      "1312/1312 [==============================] - 10s - loss: 0.7510 - acc: 0.6829 - val_loss: 0.9199 - val_acc: 0.7134\n",
      "Epoch 13/100\n",
      "1312/1312 [==============================] - 10s - loss: 0.7351 - acc: 0.6951 - val_loss: 0.9197 - val_acc: 0.7134\n",
      "Epoch 14/100\n",
      "1312/1312 [==============================] - 10s - loss: 0.7187 - acc: 0.7119 - val_loss: 0.9197 - val_acc: 0.7134\n",
      "Epoch 15/100\n",
      "1312/1312 [==============================] - 8s - loss: 0.7399 - acc: 0.6928 - val_loss: 0.9196 - val_acc: 0.7134\n",
      "Epoch 16/100\n",
      "1312/1312 [==============================] - 10s - loss: 0.7473 - acc: 0.6883 - val_loss: 0.9196 - val_acc: 0.7134\n",
      "Epoch 17/100\n",
      "1312/1312 [==============================] - 10s - loss: 0.7721 - acc: 0.6806 - val_loss: 0.9200 - val_acc: 0.7134\n",
      "Epoch 18/100\n",
      "1312/1312 [==============================] - 10s - loss: 0.7359 - acc: 0.6936 - val_loss: 0.9202 - val_acc: 0.7134\n",
      "Epoch 19/100\n",
      " 384/1312 [=======>......................] - ETA: 6s - loss: 0.7677 - acc: 0.6536"
     ]
    }
   ],
   "source": [
    "model.fit(X_train, Y_train, batch_size=128, nb_epoch=100, show_accuracy=True, verbose=1, validation_data=(X_test, Y_test))"
   ]
  },
  {
   "cell_type": "code",
   "execution_count": 75,
   "metadata": {
    "collapsed": false
   },
   "outputs": [
    {
     "ename": "IndexError",
     "evalue": "index 30 is out of bounds for axis 0 with size 10",
     "output_type": "error",
     "traceback": [
      "\u001b[1;31m---------------------------------------------------------------------------\u001b[0m",
      "\u001b[1;31mIndexError\u001b[0m                                Traceback (most recent call last)",
      "\u001b[1;32m<ipython-input-75-57d8ca88b993>\u001b[0m in \u001b[0;36m<module>\u001b[1;34m()\u001b[0m\n\u001b[0;32m      1\u001b[0m \u001b[0mfiltnum\u001b[0m\u001b[1;33m=\u001b[0m\u001b[1;36m30\u001b[0m\u001b[1;33m\u001b[0m\u001b[0m\n\u001b[1;32m----> 2\u001b[1;33m \u001b[0mfilt1\u001b[0m \u001b[1;33m=\u001b[0m \u001b[0mmodel\u001b[0m\u001b[1;33m.\u001b[0m\u001b[0mlayers\u001b[0m\u001b[1;33m[\u001b[0m\u001b[1;36m0\u001b[0m\u001b[1;33m]\u001b[0m\u001b[1;33m.\u001b[0m\u001b[0mget_weights\u001b[0m\u001b[1;33m(\u001b[0m\u001b[1;33m)\u001b[0m\u001b[1;33m[\u001b[0m\u001b[1;36m0\u001b[0m\u001b[1;33m]\u001b[0m\u001b[1;33m[\u001b[0m\u001b[0mfiltnum\u001b[0m\u001b[1;33m]\u001b[0m\u001b[1;33m.\u001b[0m\u001b[0msqueeze\u001b[0m\u001b[1;33m(\u001b[0m\u001b[1;33m)\u001b[0m\u001b[1;33m\u001b[0m\u001b[0m\n\u001b[0m\u001b[0;32m      3\u001b[0m \u001b[0mfilt1\u001b[0m \u001b[1;33m=\u001b[0m \u001b[1;36m1.0\u001b[0m \u001b[1;33m-\u001b[0m \u001b[0mfilt1\u001b[0m\u001b[1;33m\u001b[0m\u001b[0m\n\u001b[0;32m      4\u001b[0m \u001b[0mplt\u001b[0m\u001b[1;33m.\u001b[0m\u001b[0mimshow\u001b[0m\u001b[1;33m(\u001b[0m\u001b[0mfilt1\u001b[0m\u001b[1;33m,\u001b[0m \u001b[0mcmap\u001b[0m\u001b[1;33m=\u001b[0m\u001b[0mplt\u001b[0m\u001b[1;33m.\u001b[0m\u001b[0mget_cmap\u001b[0m\u001b[1;33m(\u001b[0m\u001b[1;34m'gray'\u001b[0m\u001b[1;33m)\u001b[0m\u001b[1;33m)\u001b[0m\u001b[1;33m\u001b[0m\u001b[0m\n",
      "\u001b[1;31mIndexError\u001b[0m: index 30 is out of bounds for axis 0 with size 10"
     ]
    }
   ],
   "source": [
    "filtnum=30\n",
    "filt1 = model.layers[0].get_weights()[0][filtnum].squeeze()\n",
    "filt1 = 1.0 - filt1\n",
    "plt.imshow(filt1, cmap=plt.get_cmap('gray'))"
   ]
  },
  {
   "cell_type": "code",
   "execution_count": 91,
   "metadata": {
    "collapsed": false
   },
   "outputs": [
    {
     "data": {
      "text/plain": [
       "<matplotlib.image.AxesImage at 0x7fc114fee190>"
      ]
     },
     "execution_count": 91,
     "metadata": {},
     "output_type": "execute_result"
    },
    {
     "data": {
      "image/png": "[encoded data removed]",
      "text/plain": [
       "<matplotlib.figure.Figure at 0x7fc14c78a350>"
      ]
     },
     "metadata": {},
     "output_type": "display_data"
    }
   ],
   "source": [
    "conv0 = model.layers[0].get_weights()[0]\n",
    "conv0 = (conv0 - conv0.min()) / ( conv0.max()-conv0.min() )\n",
    "conv0wn = conv0[1].squeeze()\n",
    "conv1wn = conv0[0].squeeze()\n",
    "conv2wn = conv0[2].squeeze()\n",
    "conv3wn = conv0[4].squeeze()\n",
    "\n",
    "fig, (ax1, ax2, ax3, ax4) = plt.subplots(1,4)\n",
    "ax1.imshow(conv0wn, plt.get_cmap('gray'))\n",
    "ax2.imshow(conv1wn, plt.get_cmap('gray'))\n",
    "ax3.imshow(conv2wn, plt.get_cmap('gray'))\n",
    "ax4.imshow(conv3wn, plt.get_cmap('gray'))"
   ]
  },
  {
   "cell_type": "code",
   "execution_count": 68,
   "metadata": {
    "collapsed": false
   },
   "outputs": [
    {
     "data": {
      "text/plain": [
       "<matplotlib.image.AxesImage at 0x7fc114596d10>"
      ]
     },
     "execution_count": 68,
     "metadata": {},
     "output_type": "execute_result"
    },
    {
     "data": {
      "image/png": "[encoded data removed]",
      "text/plain": [
       "<matplotlib.figure.Figure at 0x7fc114624450>"
      ]
     },
     "metadata": {},
     "output_type": "display_data"
    }
   ],
   "source": [
    "X_sample = X_train[10].squeeze()\n",
    "plt.imshow(X_sample, cmap=plt.get_cmap('gray'))"
   ]
  },
  {
   "cell_type": "code",
   "execution_count": null,
   "metadata": {
    "collapsed": true
   },
   "outputs": [],
   "source": []
  }
 ],
 "metadata": {
  "kernelspec": {
   "display_name": "Python 2",
   "language": "python",
   "name": "python2"
  },
  "language_info": {
   "codemirror_mode": {
    "name": "ipython",
    "version": 2
   },
   "file_extension": ".py",
   "mimetype": "text/x-python",
   "name": "python",
   "nbconvert_exporter": "python",
   "pygments_lexer": "ipython2",
   "version": "2.7.6"
  }
 },
 "nbformat": 4,
 "nbformat_minor": 0
}
