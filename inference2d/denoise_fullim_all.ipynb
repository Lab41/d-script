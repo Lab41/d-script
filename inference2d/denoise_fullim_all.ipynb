{
 "cells": [
  {
   "cell_type": "code",
   "execution_count": 1,
   "metadata": {
    "collapsed": false
   },
   "outputs": [
    {
     "name": "stderr",
     "output_type": "stream",
     "text": [
      "Using Theano backend.\n",
      "Using gpu device 0: GeForce GTX TITAN X (CNMeM is disabled, CuDNN 4004)\n",
      "/usr/local/lib/python2.7/dist-packages/theano/tensor/signal/downsample.py:5: UserWarning: downsample module has been moved to the pool module.\n",
      "  warnings.warn(\"downsample module has been moved to the pool module.\")\n"
     ]
    }
   ],
   "source": [
    "import time\n",
    "import random\n",
    "import numpy as np\n",
    "from collections import defaultdict\n",
    "from optparse import OptionParser\n",
    "import pickle\n",
    "import scipy.misc as smi\n",
    "from PIL import Image\n",
    "import sys\n",
    "\n",
    "# Required libraries\n",
    "import h5py\n",
    "import keras\n",
    "from keras.models import Sequential\n",
    "from keras.layers.core import Dense, Dropout, Activation, Flatten\n",
    "from keras.layers.convolutional import Convolution2D, MaxPooling2D\n",
    "from keras.optimizers import SGD\n",
    "from keras.utils.np_utils import to_categorical\n",
    "from keras.layers.normalization import BatchNormalization as BN\n",
    "\n",
    "import matplotlib.pylab as plt\n",
    "from IPython.display import Image, display\n",
    "%matplotlib inline\n",
    "\n",
    "import sys\n",
    "sys.path.append('../')\n",
    "# d-script imports\n",
    "import data_iters\n",
    "from data_iters.hdf5_iterator import Hdf5MiniBatcher\n",
    "from data_iters.archive.iam_iterator import IAM_MiniBatcher\n",
    "from data_iters.minibatcher import MiniBatcher\n",
    "from viz_tools.array_to_png import get_png_from_array, display_img_array\n",
    "from demo_pipeline.fielutil import *\n",
    "from denoiser.noisenet import conv4p_model, conv3p_model, conv2p_model, conv2_model\n",
    "\n",
    "from fielutil import *"
   ]
  },
  {
   "cell_type": "code",
   "execution_count": 3,
   "metadata": {
    "collapsed": false
   },
   "outputs": [
    {
     "name": "stdout",
     "output_type": "stream",
     "text": [
      "Loading original weights into GPU memory\n",
      "Compiling model\n",
      "Finished compilation\n",
      "Finished weight load\n"
     ]
    }
   ],
   "source": [
    "print \"Loading original weights into GPU memory\"\n",
    "model=conv4p_model(shingle_dim=(56,56))\n",
    "model.load_weights('/work/models/conv4p_linet56-iambin-tifs.hdf5')\n",
    "print \"Finished weight load\"\n",
    "input_shape = model.input_shape\n",
    "output_shape = model.output_shape[1]"
   ]
  },
  {
   "cell_type": "code",
   "execution_count": 4,
   "metadata": {
    "collapsed": true
   },
   "outputs": [],
   "source": [
    "hdf5ims = h5py.File('/fileserver/nmec-handwriting/flat_nmec_bin_uint8.hdf5','r')\n",
    "acoh = 'nmec_author_cleaned.hdf5'\n",
    "fcoh = 'nmec_flat_cleaned.hdf5'"
   ]
  },
  {
   "cell_type": "code",
   "execution_count": null,
   "metadata": {
    "collapsed": false
   },
   "outputs": [
    {
     "name": "stdout",
     "output_type": "stream",
     "text": [
      "Working on FR-003-001.bin.tif author 003\n",
      "2610/2610 [==============================] - 0s     \n",
      "Working on FR-003-002.bin.tif author 003\n",
      "2610/2610 [==============================] - 0s     \n",
      "Working on FR-003-003.bin.tif author 003\n",
      "2610/2610 [==============================] - 0s     \n",
      "Working on FR-003-004.bin.tif author 003\n",
      "2610/2610 [==============================] - 0s     \n",
      "Working on FR-003-005.bin.tif author 003\n",
      "2610/2610 [==============================] - 0s     \n",
      "Working on FR-003-006.bin.tif author 003\n",
      "2610/2610 [==============================] - 0s     \n",
      "Working on FR-003-007.bin.tif author 003\n",
      "2610/2610 [==============================] - 0s     \n",
      "Working on FR-003-008.bin.tif author 003\n",
      "2610/2610 [==============================] - 0s     \n",
      "Working on FR-004-001.bin.tif author 004\n",
      "2610/2610 [==============================] - 0s     \n",
      "Working on FR-004-002.bin.tif author 004\n",
      "2610/2610 [==============================] - 0s     \n",
      "Working on FR-004-003.bin.tif author 004\n",
      "2610/2610 [==============================] - 0s     \n",
      "Working on FR-004-004.bin.tif author 004\n",
      "2610/2610 [==============================] - 0s     \n",
      "Working on FR-004-005.bin.tif author 004\n",
      "2610/2610 [==============================] - 0s     \n",
      "Working on FR-004-006.bin.tif author 004\n",
      "2610/2610 [==============================] - 0s     \n",
      "Working on FR-004-007.bin.tif author 004\n",
      "2610/2610 [==============================] - 0s     \n",
      "Working on FR-004-008.bin.tif author 004\n",
      "2610/2610 [==============================] - 0s     \n",
      "Working on FR-005-001.bin.tif author 005\n",
      "2610/2610 [==============================] - 0s     \n",
      "Working on FR-005-002.bin.tif author 005\n",
      "2610/2610 [==============================] - 0s     \n",
      "Working on FR-005-003.bin.tif author 005\n",
      "2610/2610 [==============================] - 0s     \n",
      "Working on FR-005-004.bin.tif author 005\n",
      "2610/2610 [==============================] - 0s     \n",
      "Working on FR-005-005.bin.tif author 005\n",
      "2610/2610 [==============================] - 0s     \n",
      "Working on FR-005-006.bin.tif author 005\n",
      "2610/2610 [==============================] - 0s     \n",
      "Working on FR-005-007.bin.tif author 005\n",
      "2610/2610 [==============================] - 0s     \n",
      "Working on FR-005-008.bin.tif author 005\n",
      "2610/2610 [==============================] - 0s     \n",
      "Working on FR-006-001.bin.tif author 006\n",
      " 768/2610 [=======>......................] - ETA: 0s"
     ]
    }
   ],
   "source": [
    "a_out = h5py.File(acoh,'w')\n",
    "f_out = h5py.File(fcoh,'w')\n",
    "author_groups = {}\n",
    "\n",
    "for imhdf5 in hdf5ims.keys():\n",
    "    \n",
    "    # images referenced in original file\n",
    "    im = hdf5ims[imhdf5].value\n",
    "    the_author = imhdf5.split('-')[1]\n",
    "    print \"Working on \"+imhdf5+\" author \"+the_author\n",
    "    \n",
    "    # Cleanse the image\n",
    "    # Build the input buffer\n",
    "    input_buffer = []\n",
    "    for i in xrange(0, im.shape[0] - input_shape[2] + 1, input_shape[2]):\n",
    "        for j in xrange(0, im.shape[1] - input_shape[3] + 1, input_shape[3]):\n",
    "            input_buffer += [im[i:i+input_shape[2], j:j+input_shape[3]]]\n",
    "    # Use NN to predict the image\n",
    "    predictbuffer = np.expand_dims(1.0-np.array(input_buffer)/255.0, 1)\n",
    "    output_buffer = model.predict(predictbuffer, verbose = 1)\n",
    "    output_im = np.zeros(im.shape)\n",
    "    shapesize = (input_shape[2], input_shape[3])\n",
    "    k=0\n",
    "    # Rearrange the output to form an image\n",
    "    for i in xrange(0, im.shape[0] - input_shape[2] + 1, input_shape[2]):\n",
    "        for j in xrange(0, im.shape[1] - input_shape[3] + 1, input_shape[3]):\n",
    "            output_im[i:i+input_shape[2],j:j+input_shape[3]] = output_buffer[k].reshape(shapesize)\n",
    "            k+=1\n",
    "    \n",
    "    # Threshold black white\n",
    "    output_im = output_im > 0.5\n",
    "    \n",
    "    # Write image to HDF5 file\n",
    "    if not author_groups.has_key(the_author):\n",
    "        author_groups[the_author] = a_out.create_group(the_author)\n",
    "    author_groups[the_author].create_dataset( imhdf5, data=output_im.astype(np.uint8) )\n",
    "    data_group = f_out.create_dataset( imhdf5, data=output_im.astype(np.uint8) )\n",
    "\n",
    "a_out.close()\n",
    "f_out.close()"
   ]
  },
  {
   "cell_type": "code",
   "execution_count": null,
   "metadata": {
    "collapsed": true
   },
   "outputs": [],
   "source": []
  }
 ],
 "metadata": {
  "kernelspec": {
   "display_name": "Python 2",
   "language": "python",
   "name": "python2"
  },
  "language_info": {
   "codemirror_mode": {
    "name": "ipython",
    "version": 2
   },
   "file_extension": ".py",
   "mimetype": "text/x-python",
   "name": "python",
   "nbconvert_exporter": "python",
   "pygments_lexer": "ipython2",
   "version": "2.7.9"
  }
 },
 "nbformat": 4,
 "nbformat_minor": 0
}
