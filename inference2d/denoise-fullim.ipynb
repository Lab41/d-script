{
 "cells": [
  {
   "cell_type": "code",
   "execution_count": null,
   "metadata": {
    "collapsed": false
   },
   "outputs": [],
   "source": [
    "import time\n",
    "import random\n",
    "import numpy as np\n",
    "from collections import defaultdict\n",
    "from optparse import OptionParser\n",
    "import pickle\n",
    "import scipy.misc as smi\n",
    "from PIL import Image\n",
    "\n",
    "# Required libraries\n",
    "import h5py\n",
    "import keras\n",
    "from keras.models import Sequential\n",
    "from keras.layers.core import Dense, Dropout, Activation, Flatten\n",
    "from keras.layers.convolutional import Convolution2D, MaxPooling2D\n",
    "from keras.optimizers import SGD\n",
    "from keras.utils.np_utils import to_categorical\n",
    "from keras.layers.normalization import BatchNormalization as BN\n",
    "\n",
    "import matplotlib.pylab as plt\n",
    "from IPython.display import Image, display\n",
    "%matplotlib inline\n",
    "\n",
    "import sys\n",
    "sys.path.append('../')\n",
    "# d-script imports\n",
    "import data_iters\n",
    "from data_iters.hdf5_iterator import Hdf5MiniBatcher\n",
    "from data_iters.archive.iam_iterator import IAM_MiniBatcher\n",
    "from data_iters.minibatcher import MiniBatcher\n",
    "from viz_tools.array_to_png import get_png_from_array, display_img_array\n",
    "from demo_pipeline.fielutil import *\n",
    "from denoiser.noisenet import conv2p_model, conv2_model\n",
    "\n",
    "from fielutil import *"
   ]
  },
  {
   "cell_type": "code",
   "execution_count": 2,
   "metadata": {
    "collapsed": false
   },
   "outputs": [
    {
     "name": "stdout",
     "output_type": "stream",
     "text": [
      "Loading original weights into GPU memory\n",
      "Compiling model\n",
      "Finished compilation\n",
      "Finished weight load\n"
     ]
    }
   ],
   "source": [
    "print \"Loading original weights into GPU memory\"\n",
    "model=conv2_model(shingle_dim=(56,56))\n",
    "model.load_weights('../denoiser/conv2_linet_icdar-ex.hdf5')\n",
    "print \"Finished weight load\"\n",
    "input_shape = model.input_shape\n",
    "output_shape = model.output_shape[1]"
   ]
  },
  {
   "cell_type": "code",
   "execution_count": 23,
   "metadata": {
    "collapsed": false
   },
   "outputs": [
    {
     "data": {
      "text/plain": [
       "<matplotlib.image.AxesImage at 0x7fcc0fcb8b10>"
      ]
     },
     "execution_count": 23,
     "metadata": {},
     "output_type": "execute_result"
    },
    {
     "data": {
      "image/png": "[encoded data removed]",
      "text/plain": [
       "<matplotlib.figure.Figure at 0x7fcc499e6210>"
      ]
     },
     "metadata": {},
     "output_type": "display_data"
    }
   ],
   "source": [
    "hdf5ims = h5py.File('/fileserver/nmec-handwriting/flat_nmec_bin_uint8.hdf5')\n",
    "im = hdf5ims['FR-003-007.bin.tif'].value\n",
    "plt.imshow(im,cmap='gray')"
   ]
  },
  {
   "cell_type": "code",
   "execution_count": 24,
   "metadata": {
    "collapsed": false
   },
   "outputs": [],
   "source": [
    "vskip = 56\n",
    "hskip = 56\n",
    "\n",
    "obufx = (im.shape[0]-input_shape[2])/vskip+1\n",
    "obufy = (im.shape[1]-input_shape[3])/hskip+1\n",
    "obuflen = obufx*obufy\n",
    "ibuflen = 3200\n",
    "\n",
    "# input_buffer = np.zeros((obuflen, 1, input_shape[2], input_shape[3]))\n",
    "input_buffer = np.zeros((ibuflen, 1, input_shape[2], input_shape[3]))\n",
    "output_buffer = np.zeros( (obuflen, output_shape) )"
   ]
  },
  {
   "cell_type": "code",
   "execution_count": 25,
   "metadata": {
    "collapsed": false
   },
   "outputs": [
    {
     "name": "stdout",
     "output_type": "stream",
     "text": [
      "Begin data transfer to buffers\n",
      "2610/2610 [==============================] - 1s     \n"
     ]
    }
   ],
   "source": [
    "import sys\n",
    "print \"Begin data transfer to buffers\"\n",
    "input_buffer = []\n",
    "for i in xrange(0, im.shape[0] - input_shape[2] + 1, vskip):\n",
    "    for j in xrange(0, im.shape[1] - input_shape[3] + 1, hskip):\n",
    "        input_buffer += [im[i:i+input_shape[2], j:j+input_shape[3]]]\n",
    "predictbuffer = np.expand_dims(1.0-np.array(input_buffer)/255.0, 1)\n",
    "output_buffer = model.predict(predictbuffer, verbose = 1)"
   ]
  },
  {
   "cell_type": "code",
   "execution_count": 26,
   "metadata": {
    "collapsed": false
   },
   "outputs": [
    {
     "data": {
      "text/plain": [
       "<matplotlib.image.AxesImage at 0x7fcc0bc17310>"
      ]
     },
     "execution_count": 26,
     "metadata": {},
     "output_type": "execute_result"
    },
    {
     "data": {
      "image/png": "[encoded data removed]",
      "text/plain": [
       "<matplotlib.figure.Figure at 0x7fcc48688610>"
      ]
     },
     "metadata": {},
     "output_type": "display_data"
    }
   ],
   "source": [
    "output_im = np.zeros(im.shape)\n",
    "shapesize = (input_shape[2], input_shape[3])\n",
    "k = 0\n",
    "for i in xrange(0, im.shape[0] - input_shape[2] + 1, vskip):\n",
    "    for j in xrange(0, im.shape[1] - input_shape[3] + 1, hskip):\n",
    "        output_im[i:i+input_shape[2],j:j+input_shape[3]] = output_buffer[k].reshape(shapesize)\n",
    "        k+=1\n",
    "plt.imshow(1-output_im, cmap='gray')"
   ]
  },
  {
   "cell_type": "code",
   "execution_count": 11,
   "metadata": {
    "collapsed": false
   },
   "outputs": [
    {
     "data": {
      "text/plain": [
       "56"
      ]
     },
     "execution_count": 11,
     "metadata": {},
     "output_type": "execute_result"
    }
   ],
   "source": [
    "vskip"
   ]
  }
 ],
 "metadata": {
  "kernelspec": {
   "display_name": "Python 2",
   "language": "python",
   "name": "python2"
  },
  "language_info": {
   "codemirror_mode": {
    "name": "ipython",
    "version": 2
   },
   "file_extension": ".py",
   "mimetype": "text/x-python",
   "name": "python",
   "nbconvert_exporter": "python",
   "pygments_lexer": "ipython2",
   "version": "2.7.6"
  }
 },
 "nbformat": 4,
 "nbformat_minor": 0
}
