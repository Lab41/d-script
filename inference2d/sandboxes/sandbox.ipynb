{
 "cells": [
  {
   "cell_type": "code",
   "execution_count": 1,
   "metadata": {
    "collapsed": false
   },
   "outputs": [
    {
     "name": "stderr",
     "output_type": "stream",
     "text": [
      "Using gpu device 0: GeForce GTX TITAN X (CNMeM is disabled)\n"
     ]
    }
   ],
   "source": [
    "import time\n",
    "import random\n",
    "import numpy as np\n",
    "from collections import defaultdict\n",
    "from optparse import OptionParser\n",
    "import pickle\n",
    "import scipy.misc as smi\n",
    "\n",
    "# Required libraries\n",
    "import h5py\n",
    "import keras\n",
    "from keras.models import Sequential\n",
    "from keras.layers.core import Dense, Dropout, Activation, Flatten\n",
    "from keras.layers.convolutional import Convolution2D, MaxPooling2D\n",
    "from keras.optimizers import SGD\n",
    "from keras.utils.np_utils import to_categorical\n",
    "from keras.layers.normalization import BatchNormalization as BN\n",
    "\n",
    "import matplotlib.pylab as plt\n",
    "%matplotlib inline\n",
    "\n",
    "import sys\n",
    "sys.path.append('/work/code/repo/d-script/')\n",
    "# d-script imports\n",
    "from data_iters.minibatcher import MiniBatcher\n",
    "from data_iters.iam_hdf5_iterator import IAM_MiniBatcher\n",
    "\n",
    "from fielutil import *"
   ]
  },
  {
   "cell_type": "code",
   "execution_count": 2,
   "metadata": {
    "collapsed": false
   },
   "outputs": [],
   "source": [
    "hdf5_file = '/memory/author_lines.hdf5'\n",
    "num_forms_per_author=50; batch_size=32; num_authors=47; shingle_dim=(120,120); use_form=True\n",
    "\n",
    "iam_m = IAM_MiniBatcher(hdf5_file, num_authors, num_forms_per_author, shingle_dim=shingle_dim, default_mode=MiniBatcher.TRAIN, batch_size=batch_size)\n",
    "[X_test, Y_test] = iam_m.get_test_batch(batch_size*20)\n",
    "X_test = np.expand_dims(X_test, 1)\n",
    "X_test = randangle(X_test)\n",
    "Y_test = to_categorical(Y_test, num_authors)\n",
    "\n",
    "maxx = X_test.shape[2]\n",
    "maxy = X_test.shape[3]"
   ]
  },
  {
   "cell_type": "code",
   "execution_count": 3,
   "metadata": {
    "collapsed": false
   },
   "outputs": [
    {
     "name": "stdout",
     "output_type": "stream",
     "text": [
      "Loading original weights into GPU memory\n",
      "Finished loading, now begin iterating through layers to copy over to feature model\n",
      "Model created and weights loaded in\n"
     ]
    }
   ],
   "source": [
    "print \"Loading original weights into GPU memory\"\n",
    "model = fielnet('../convnets/fielnet/fielnet.hdf5', layer='fc8')\n",
    "# When we flatten a convolutional layer, we need to know what the original dimensions were\n",
    "flatten_shape = [layer.input_shape for layer in model.layers if type(layer)==Flatten][0]\n",
    "flattened = False\n",
    "\n",
    "print \"Finished loading, now begin iterating through layers to copy over to feature model\"\n",
    "featmodel = Sequential()\n",
    "for layer in model.layers:\n",
    "    # The first layer\n",
    "    if layer == model.layers[0] and type(layer)==Convolution2D:\n",
    "        Wl = layer.get_weights()[0]\n",
    "        bl = layer.get_weights()[1]\n",
    "        convshape = Wl.shape[2:]\n",
    "        convshape = (Wl.shape[0],)+convshape\n",
    "        featmodel.add(Convolution2D( *convshape, border_mode=layer.border_mode,\n",
    "                                     input_shape=(1, maxx, maxy), weights=[Wl,bl]))\n",
    "    # From the layer \"Flatten\" on, we'll need to make changes to Dense layers\n",
    "    elif type( layer ) == Flatten:\n",
    "        convshape = flatten_shape[-2:]\n",
    "        flattened = True\n",
    "    # Take the convolutional shape and add our newest layer\n",
    "    elif type( layer ) == Dense:\n",
    "        convshape = (layer.output_shape[-1],)+convshape\n",
    "        Wl = layer.get_weights()[0]\n",
    "        Wl = Wl.T.reshape( convshape[0], Wl.shape[0]/np.product(convshape[1:]), *convshape[1:] )\n",
    "        # Flip all the weights for convolution\n",
    "        for d0 in xrange(Wl.shape[0]): \n",
    "            for d1 in xrange(Wl.shape[1]):\n",
    "                Wl[d0][d1] = np.flipud( np.fliplr( Wl[d0][d1] ))\n",
    "        bl = layer.get_weights()[1]\n",
    "        featmodel.add(Convolution2D( *convshape, border_mode = 'valid', weights=[Wl,bl] ))\n",
    "        convshape = (1,1)\n",
    "    elif type( layer ) == BN and flattened:\n",
    "        weights = [ np.expand_dims(np.expand_dims(weight,1),1)  for weight in layer.get_weights() ]\n",
    "        featmodel.add (layer )\n",
    "        featmodel.layers[-1].set_weights( weights )\n",
    "    elif type( layer ) == BN:\n",
    "        weights = layer.get_weights()\n",
    "        break\n",
    "    else:\n",
    "        weights = layer.get_weights()\n",
    "        featmodel.add( layer )\n",
    "        if weights:\n",
    "            featmodel.layers[-1].set_weights(weights)\n",
    "\n",
    "print \"Model created and weights loaded in\""
   ]
  },
  {
   "cell_type": "code",
   "execution_count": 6,
   "metadata": {
    "collapsed": false
   },
   "outputs": [],
   "source": [
    "featmodel.compile(loss='mse',optimizer='sgd')\n",
    "featpred = featmodel.predict(X_test).squeeze()\n",
    "model2 = fielnet('../convnets/fielnet/fielnet.hdf5', layer='fc8')\n",
    "model2.compile(loss='mse',optimizer='sgd')\n",
    "modelpred = model2.predict(X_test)"
   ]
  },
  {
   "cell_type": "code",
   "execution_count": 7,
   "metadata": {
    "collapsed": false
   },
   "outputs": [
    {
     "name": "stdout",
     "output_type": "stream",
     "text": [
      "[  7.54371738  -0.6113497  -13.37036514  -7.8403759  -19.5206871\n",
      " -14.36899757   0.41958624  -5.95518017  -6.57374525   4.02400875\n",
      "   6.7355032    7.2667551   13.33190823 -12.94529057  16.76345253\n",
      "  -1.09137201   8.87202549   5.12641096   3.66256666  -2.8329742\n",
      "  -1.10933924   1.98169875   1.31195366   9.80548859   7.21185064\n",
      "  10.44740009   3.84643865   0.32390028   4.20608664   4.54079342\n",
      "  -2.91334152   2.96376634 -17.10731697   4.52771139  -1.25956392\n",
      " -12.18439674   1.25669229 -16.96313477   4.03064442   0.85732257\n",
      "  -0.83283478  15.19937706  -4.32480335   3.47857046   3.59147739\n",
      "   0.3569175   -6.60848475]\n",
      "[[[  9.64159966e-02  -3.07671547e-01  -7.28446364e-01 ...,  -2.45948792e-01\n",
      "    -1.09268069e-01  -4.15601730e-02]\n",
      "  [  1.13961101e-01  -3.21918368e-01  -8.04472327e-01 ...,  -1.10690224e+00\n",
      "    -8.67880464e-01  -7.01709390e-01]\n",
      "  [  5.44888973e-02  -3.94641161e-01  -9.35462594e-01 ...,  -3.65228033e+00\n",
      "    -2.90070534e+00  -2.32070589e+00]\n",
      "  ..., \n",
      "  [ -2.25878811e+00  -2.10861206e+00  -1.89652216e+00 ...,   7.86942542e-01\n",
      "     9.09876585e-01   9.90598559e-01]\n",
      "  [ -1.56272352e+00  -1.37995183e+00  -1.15925777e+00 ...,   6.84763312e-01\n",
      "     8.50130558e-01   1.00977683e+00]\n",
      "  [ -8.98166776e-01  -7.65732646e-01  -6.23981833e-01 ...,   7.64506459e-01\n",
      "     9.04087782e-01   1.04063761e+00]]\n",
      "\n",
      " [[ -2.83154249e-02   4.54935670e-01   8.99813771e-01 ...,   2.85269618e-01\n",
      "     1.55550718e-01   7.89895058e-02]\n",
      "  [ -1.75776482e-02   5.10534167e-01   1.01245582e+00 ...,   1.21036661e+00\n",
      "     9.58331704e-01   8.18624616e-01]\n",
      "  [  4.42875624e-02   6.19072795e-01   1.21130025e+00 ...,   3.80907297e+00\n",
      "     3.03465414e+00   2.36846590e+00]\n",
      "  ..., \n",
      "  [  2.65670919e+00   2.49437809e+00   2.24840355e+00 ...,  -8.06384146e-01\n",
      "    -9.35907066e-01  -1.01750243e+00]\n",
      "  [  1.84945762e+00   1.68576157e+00   1.47575939e+00 ...,  -6.98579073e-01\n",
      "    -9.03203249e-01  -1.03901434e+00]\n",
      "  [  1.15455806e+00   9.99052644e-01   8.49391341e-01 ...,  -7.06401229e-01\n",
      "    -9.22378719e-01  -1.08488774e+00]]\n",
      "\n",
      " [[ -1.85005302e+01  -1.84803791e+01  -1.84200687e+01 ...,  -1.22043552e+01\n",
      "    -1.20868425e+01  -1.22686100e+01]\n",
      "  [ -1.86667805e+01  -1.86476192e+01  -1.87096024e+01 ...,  -1.06952524e+01\n",
      "    -1.11115160e+01  -1.17152443e+01]\n",
      "  [ -1.87145939e+01  -1.88099403e+01  -1.89831619e+01 ...,  -1.17932320e+00\n",
      "    -4.50393486e+00  -7.36180782e+00]\n",
      "  ..., \n",
      "  [ -3.17205086e+01  -3.15263214e+01  -3.09979668e+01 ...,  -1.84869804e+01\n",
      "    -1.87022762e+01  -1.88982925e+01]\n",
      "  [ -3.02824059e+01  -2.99929619e+01  -2.93888779e+01 ...,  -1.88678284e+01\n",
      "    -1.91002731e+01  -1.93525715e+01]\n",
      "  [ -2.88515434e+01  -2.85092754e+01  -2.78898602e+01 ...,  -1.96953964e+01\n",
      "    -1.96218128e+01  -1.96227055e+01]]\n",
      "\n",
      " ..., \n",
      " [[  9.84576106e-01   5.69969296e-01   1.32505178e-01 ...,   3.94282818e-01\n",
      "     5.34835100e-01   6.38706803e-01]\n",
      "  [  9.46977854e-01   4.86780047e-01   4.85341549e-02 ...,  -5.71274757e-01\n",
      "    -2.74726868e-01  -7.30443001e-02]\n",
      "  [  8.46129298e-01   3.53227377e-01  -1.28083944e-01 ...,  -3.48957658e+00\n",
      "    -2.56513429e+00  -1.82681823e+00]\n",
      "  ..., \n",
      "  [ -1.30752897e+00  -1.16063905e+00  -9.40875530e-01 ...,   1.65342212e+00\n",
      "     1.80936027e+00   1.89221883e+00]\n",
      "  [ -5.77605724e-01  -3.89524937e-01  -1.89468622e-01 ...,   1.56807733e+00\n",
      "     1.77076423e+00   1.91109765e+00]\n",
      "  [  8.27333927e-02   2.27859259e-01   4.00737524e-01 ...,   1.59139049e+00\n",
      "     1.81294024e+00   1.96089041e+00]]\n",
      "\n",
      " [[  5.88193655e-01   1.51431322e-01  -2.94838190e-01 ...,   1.10137343e-01\n",
      "     2.65581846e-01   3.40964913e-01]\n",
      "  [  5.66630244e-01   6.95471764e-02  -3.83784056e-01 ...,  -8.13339472e-01\n",
      "    -5.29588461e-01  -3.92022610e-01]\n",
      "  [  4.56174493e-01  -4.98228073e-02  -5.72405338e-01 ...,  -3.54244614e+00\n",
      "    -2.71001577e+00  -2.04920483e+00]\n",
      "  ..., \n",
      "  [ -1.79944539e+00  -1.68578911e+00  -1.41065645e+00 ...,   1.24038363e+00\n",
      "     1.37529099e+00   1.45348907e+00]\n",
      "  [ -1.05666327e+00  -9.04275656e-01  -7.29166508e-01 ...,   1.12774467e+00\n",
      "     1.32870865e+00   1.47992516e+00]\n",
      "  [ -4.13534880e-01  -2.45199919e-01  -1.33727789e-01 ...,   1.19796371e+00\n",
      "     1.36009371e+00   1.51734698e+00]]\n",
      "\n",
      " [[ -2.09059596e+00  -1.68040729e+00  -1.27006507e+00 ...,  -1.36051154e+00\n",
      "    -1.51477051e+00  -1.54338682e+00]\n",
      "  [ -2.12835312e+00  -1.64304233e+00  -1.20376468e+00 ...,  -4.16254282e-01\n",
      "    -6.83231831e-01  -8.64508867e-01]\n",
      "  [ -2.07647467e+00  -1.58313322e+00  -1.08600807e+00 ...,   2.40518188e+00\n",
      "     1.53358555e+00   8.39149952e-01]\n",
      "  ..., \n",
      "  [ -2.49016762e-01  -4.17026043e-01  -5.79639435e-01 ...,  -2.67460680e+00\n",
      "    -2.76706219e+00  -2.82846260e+00]\n",
      "  [ -9.16422367e-01  -1.07343984e+00  -1.19596457e+00 ...,  -2.58915758e+00\n",
      "    -2.73873472e+00  -2.86091518e+00]\n",
      "  [ -1.52261817e+00  -1.63333154e+00  -1.72370601e+00 ...,  -2.60583353e+00\n",
      "    -2.84183884e+00  -2.92023802e+00]]]\n"
     ]
    }
   ],
   "source": [
    "print modelpred[0]\n",
    "print featpred[0]"
   ]
  },
  {
   "cell_type": "code",
   "execution_count": 5,
   "metadata": {
    "collapsed": false
   },
   "outputs": [
    {
     "data": {
      "text/plain": [
       "(48, 109, 109)"
      ]
     },
     "execution_count": 5,
     "metadata": {},
     "output_type": "execute_result"
    }
   ],
   "source": [
    "weights[0].shape"
   ]
  },
  {
   "cell_type": "code",
   "execution_count": null,
   "metadata": {
    "collapsed": true
   },
   "outputs": [],
   "source": []
  }
 ],
 "metadata": {
  "kernelspec": {
   "display_name": "Python 2",
   "language": "python",
   "name": "python2"
  },
  "language_info": {
   "codemirror_mode": {
    "name": "ipython",
    "version": 2
   },
   "file_extension": ".py",
   "mimetype": "text/x-python",
   "name": "python",
   "nbconvert_exporter": "python",
   "pygments_lexer": "ipython2",
   "version": "2.7.6"
  }
 },
 "nbformat": 4,
 "nbformat_minor": 0
}
