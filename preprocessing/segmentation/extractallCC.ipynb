{
 "cells": [
  {
   "cell_type": "code",
   "execution_count": 5,
   "metadata": {
    "collapsed": false
   },
   "outputs": [],
   "source": [
    "import h5py\n",
    "from scipy import ndimage\n",
    "import matplotlib.pylab as plt\n",
    "import numpy as np\n",
    "import sys\n",
    "\n",
    "sys.path.append('../../')\n",
    "%matplotlib inline"
   ]
  },
  {
   "cell_type": "markdown",
   "metadata": {},
   "source": [
    "### Shingle items from Yonas's original code"
   ]
  },
  {
   "cell_type": "code",
   "execution_count": 2,
   "metadata": {
    "collapsed": true
   },
   "outputs": [],
   "source": [
    "def shingler(original_line, shingle_dim=(120,120)):\n",
    "\n",
    "    # Pull shingle from the line\n",
    "    # TODO: pull out shingle_dim[n] into two holder variables\n",
    "    (height, width) = original_line.shape\n",
    "    max_x = max(width - shingle_dim[1], 1)\n",
    "    max_y = max(height - shingle_dim[0], 1)\n",
    "    x_start = np.random.randint(0, max_x)\n",
    "    y_start = np.random.randint(0, max_y)\n",
    "    # check if the line is too small on at least one axis\n",
    "    if width < shingle_dim[1]:\n",
    "        x_slice = slice(0,width)\n",
    "    else:\n",
    "        x_slice = slice(x_start, x_start+shingle_dim[1])\n",
    "    if  height < shingle_dim[0]: \n",
    "        y_slice = slice(0,height)\n",
    "    else:\n",
    "        y_slice = slice(y_start, y_start+shingle_dim[1])\n",
    "    slice_width = x_slice.stop - x_slice.start\n",
    "    slice_height = y_slice.stop - y_slice.start\n",
    "    # create an output shingle, copy our thing onto it\n",
    "    output_arr = np.zeros(shingle_dim)\n",
    "    output_arr.fill(255)\n",
    "    output_arr[:slice_height,:slice_width] = original_line[y_slice, x_slice]\n",
    "    return output_arr"
   ]
  },
  {
   "cell_type": "markdown",
   "metadata": {},
   "source": [
    "### Functions for finding the connected components and example"
   ]
  },
  {
   "cell_type": "code",
   "execution_count": 3,
   "metadata": {
    "collapsed": true
   },
   "outputs": [],
   "source": [
    "# Calculate the connected components\n",
    "def connectedcomponents( im ):\n",
    "    im = im.value\n",
    "    if im.max()==1:\n",
    "        im = 255*(1-im)\n",
    "    im = im < 128\n",
    "    return ndimage.label(im > 0.5)\n",
    "\n",
    "# Threshold connected components based on number of pixels\n",
    "def thresholdcc( ccis, minthresh=500 ):\n",
    "    ccs = []\n",
    "    for i in xrange(1,ccis[1]):\n",
    "        if np.array(ccis[0]==i).sum() > minthresh:\n",
    "            ccs+=[i]\n",
    "    return ccs\n",
    "\n",
    "def shinglesfromcc( ccis, minthresh=500 ):\n",
    "    ccs = []\n",
    "    for i in xrange(1,ccis[1]):\n",
    "        energy = np.array(ccis[0]==i).sum()\n",
    "        if energy > minthresh:\n",
    "            ii = np.where( ccis[0] == i )\n",
    "            xb = ii[0].min()\n",
    "            yb = ii[1].min()\n",
    "            xe = ii[0].max()\n",
    "            ye = ii[1].max()\n",
    "            ccs += [ shingler( ccis[0][xb:xe, yb:ye], shingle_dim=(56,56) ) ]\n",
    "    print \"Finished finding \"+str(len(ccs))+\" features from image.\"\n",
    "    return np.expand_dims( np.array( ccs ), 1 )\n",
    "            "
   ]
  },
  {
   "cell_type": "markdown",
   "metadata": {},
   "source": [
    "### Define feature extractor and denoiser"
   ]
  },
  {
   "cell_type": "code",
   "execution_count": 6,
   "metadata": {
    "collapsed": false
   },
   "outputs": [
    {
     "name": "stderr",
     "output_type": "stream",
     "text": [
      "Using Theano backend.\n",
      "Using gpu device 0: GeForce GTX 980M (CNMeM is disabled)"
     ]
    },
    {
     "name": "stdout",
     "output_type": "stream",
     "text": [
      "Establishing Fiel's verbatim network\n",
      "Loaded neural network up to fc7 layer\n",
      "Compiling model\n",
      "Finished compilation\n"
     ]
    },
    {
     "name": "stderr",
     "output_type": "stream",
     "text": [
      "\n"
     ]
    }
   ],
   "source": [
    "# Neural network\n",
    "from globalclassify.fielutil import load_verbatimnet\n",
    "featext  = load_verbatimnet('fc7', paramsfile='/fileserver/iam/iam-processed/models/fiel_657.hdf5')\n",
    "featext.compile(loss='mse', optimizer='sgd')\n",
    "\n",
    "# Denoising neural network\n",
    "from denoiser.noisenet import conv4p_model\n",
    "denoiser = conv4p_model()\n",
    "denoiser.load_weights('/work/models/conv4p_linet56-iambin-tifs.hdf5')"
   ]
  },
  {
   "cell_type": "markdown",
   "metadata": {},
   "source": [
    "### Run through all the images"
   ]
  },
  {
   "cell_type": "code",
   "execution_count": null,
   "metadata": {
    "collapsed": false
   },
   "outputs": [
    {
     "name": "stdout",
     "output_type": "stream",
     "text": [
      "Finished finding 0 features from image.\n",
      "WARNING FR-010-002.bin.tif has no features!\n",
      "Finished finding 2 features from image.\n",
      "2/2 [==============================] - 0s\n",
      "2/2 [==============================] - 0s\n",
      "FR-010-003.bin.tif\n",
      "Finished finding 10 features from image.\n",
      "10/10 [==============================] - 0s\n",
      "10/10 [==============================] - 0s\n",
      "FR-010-004.bin.tif\n",
      "Finished finding 8 features from image.\n",
      "8/8 [==============================] - 0s\n",
      "8/8 [==============================] - 0s\n",
      "FR-010-005.bin.tif\n",
      "Finished finding 0 features from image.\n",
      "WARNING FR-010-006.bin.tif has no features!\n",
      "Finished finding 26 features from image.\n",
      "26/26 [==============================] - 0s\n",
      "26/26 [==============================] - 0s\n",
      "FR-010-007.bin.tif\n",
      "Finished finding 1 features from image.\n",
      "1/1 [==============================] - 0s\n",
      "1/1 [==============================] - 0s\n",
      "FR-010-008.bin.tif\n",
      "Finished finding 90 features from image.\n",
      "90/90 [==============================] - 0s\n",
      "90/90 [==============================] - 0s\n",
      "FR-011-001.bin.tif\n",
      "Finished finding 61 features from image.\n",
      "61/61 [==============================] - 0s\n",
      "61/61 [==============================] - 0s\n",
      "FR-011-002.bin.tif\n",
      "Finished finding 51 features from image.\n",
      "51/51 [==============================] - 0s\n",
      "51/51 [==============================] - 0s\n",
      "FR-011-003.bin.tif\n",
      "Finished finding 62 features from image.\n",
      "62/62 [==============================] - 0s\n",
      "62/62 [==============================] - 0s\n",
      "FR-011-004.bin.tif\n",
      "Finished finding 60 features from image.\n",
      "60/60 [==============================] - 0s\n",
      "60/60 [==============================] - 0s\n",
      "FR-011-005.bin.tif\n",
      "Finished finding 59 features from image.\n",
      "59/59 [==============================] - 0s\n",
      "59/59 [==============================] - 0s\n",
      "FR-011-006.bin.tif\n",
      "Finished finding 81 features from image.\n",
      "81/81 [==============================] - 0s\n",
      "81/81 [==============================] - 0s\n",
      "FR-011-007.bin.tif\n",
      "Finished finding 56 features from image.\n",
      "56/56 [==============================] - 0s\n",
      "56/56 [==============================] - 0s\n",
      "FR-011-008.bin.tif\n",
      "Finished finding 69 features from image.\n",
      "69/69 [==============================] - 0s\n",
      "69/69 [==============================] - 0s\n",
      "FR-012-001.bin.tif\n",
      "Finished finding 167 features from image.\n",
      "167/167 [==============================] - 0s     \n",
      "167/167 [==============================] - 0s     "
     ]
    }
   ],
   "source": [
    "hdf5file='/fileserver/nmec-handwriting/flat_nmec_cleaned_uint8.hdf5'\n",
    "flatnmec=h5py.File(hdf5file,'r')\n",
    "\n",
    "outputdir = '/fileserver/nmec-handwriting/localfeatures/first-pass/'\n",
    "\n",
    "# Extract connected components, and then shingles with minimum threshold 500\n",
    "# for imname in flatnmec.keys():\n",
    "for imname in flatnmec.keys()[57:]:\n",
    "    ccis = connectedcomponents( flatnmec[imname] )\n",
    "    shards = shinglesfromcc( ccis, minthresh=500 )\n",
    "    if len(shards)==0:\n",
    "        print \"WARNING \"+str(imname)+\" has no features!\"\n",
    "        continue\n",
    "    denoised = denoiser.predict( shards, verbose=1 )\n",
    "    features = featext.predict( np.expand_dims( np.reshape(denoised, (denoised.shape[0],56,56)), 1), verbose = 1 )\n",
    "    \n",
    "    print imname\n",
    "    np.save(outputdir+imname+'.npy', features)"
   ]
  },
  {
   "cell_type": "code",
   "execution_count": null,
   "metadata": {
    "collapsed": true
   },
   "outputs": [],
   "source": []
  }
 ],
 "metadata": {
  "kernelspec": {
   "display_name": "Python 2",
   "language": "python",
   "name": "python2"
  },
  "language_info": {
   "codemirror_mode": {
    "name": "ipython",
    "version": 2
   },
   "file_extension": ".py",
   "mimetype": "text/x-python",
   "name": "python",
   "nbconvert_exporter": "python",
   "pygments_lexer": "ipython2",
   "version": "2.7.6"
  }
 },
 "nbformat": 4,
 "nbformat_minor": 0
}
