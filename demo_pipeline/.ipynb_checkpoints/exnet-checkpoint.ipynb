{
 "cells": [
  {
   "cell_type": "code",
   "execution_count": 1,
   "metadata": {
    "collapsed": false
   },
   "outputs": [
    {
     "name": "stderr",
     "output_type": "stream",
     "text": [
      "Using gpu device 0: GeForce GTX TITAN X (CNMeM is disabled)\n"
     ]
    }
   ],
   "source": [
    "import time\n",
    "import random\n",
    "import numpy as np\n",
    "from collections import defaultdict\n",
    "from optparse import OptionParser\n",
    "\n",
    "# Required libraries\n",
    "import h5py\n",
    "import keras\n",
    "from keras.models import Sequential\n",
    "from keras.layers.core import Dense, Dropout, Activation, Flatten\n",
    "from keras.layers.convolutional import Convolution2D, MaxPooling2D\n",
    "from keras.optimizers import SGD\n",
    "from keras.utils.np_utils import to_categorical\n",
    "from keras.layers.normalization import BatchNormalization as BN\n",
    "\n",
    "import matplotlib.pylab as plt\n",
    "%matplotlib inline\n",
    "\n",
    "import sys\n",
    "sys.path.append('../')\n",
    "# d-script imports\n",
    "from data_iters.minibatcher import MiniBatcher\n",
    "from data_iters.iam_hdf5_iterator import IAM_MiniBatcher\n",
    "from fielutil import fielnet"
   ]
  },
  {
   "cell_type": "markdown",
   "metadata": {},
   "source": [
    "### Word level document sharding\n",
    "#### Be sure to set use_form=True due to HDF5 structure"
   ]
  },
  {
   "cell_type": "code",
   "execution_count": 2,
   "metadata": {
    "collapsed": true
   },
   "outputs": [],
   "source": [
    "hdf5_file = '/fileserver/icdar13/benchmarking-processed/author_icdar_be.hdf5'\n",
    "neural_network_params = '../convnets/fielnet/fielnet.hdf5'\n",
    "num_authors=100\n",
    "num_forms_per_author=-1\n",
    "# num_forms_per_author=4\n",
    "shingle_dim=(120,120)\n",
    "use_form=True\n",
    "\n",
    "batch_size=32\n",
    "lr = 0.01\n",
    "total_iters=5"
   ]
  },
  {
   "cell_type": "markdown",
   "metadata": {},
   "source": [
    "### Call the minibatcher and check the data"
   ]
  },
  {
   "cell_type": "code",
   "execution_count": 3,
   "metadata": {
    "collapsed": false
   },
   "outputs": [
    {
     "name": "stderr",
     "output_type": "stream",
     "text": [
      "WARNING:data_iters.minibatcher:Set 1 being assigned zero documents for author 098, maybe increase minimum docs per author?\n",
      "WARNING:data_iters.minibatcher:Set 2 being assigned zero documents for author 098, maybe increase minimum docs per author?\n",
      "WARNING:data_iters.minibatcher:Set 1 being assigned zero documents for author 099, maybe increase minimum docs per author?\n",
      "WARNING:data_iters.minibatcher:Set 2 being assigned zero documents for author 099, maybe increase minimum docs per author?\n",
      "WARNING:data_iters.minibatcher:Set 1 being assigned zero documents for author 090, maybe increase minimum docs per author?\n",
      "WARNING:data_iters.minibatcher:Set 2 being assigned zero documents for author 090, maybe increase minimum docs per author?\n",
      "WARNING:data_iters.minibatcher:Set 1 being assigned zero documents for author 091, maybe increase minimum docs per author?\n",
      "WARNING:data_iters.minibatcher:Set 2 being assigned zero documents for author 091, maybe increase minimum docs per author?\n",
      "WARNING:data_iters.minibatcher:Set 1 being assigned zero documents for author 092, maybe increase minimum docs per author?\n",
      "WARNING:data_iters.minibatcher:Set 2 being assigned zero documents for author 092, maybe increase minimum docs per author?\n",
      "WARNING:data_iters.minibatcher:Set 1 being assigned zero documents for author 093, maybe increase minimum docs per author?\n",
      "WARNING:data_iters.minibatcher:Set 2 being assigned zero documents for author 093, maybe increase minimum docs per author?\n",
      "WARNING:data_iters.minibatcher:Set 1 being assigned zero documents for author 094, maybe increase minimum docs per author?\n",
      "WARNING:data_iters.minibatcher:Set 2 being assigned zero documents for author 094, maybe increase minimum docs per author?\n",
      "WARNING:data_iters.minibatcher:Set 1 being assigned zero documents for author 095, maybe increase minimum docs per author?\n",
      "WARNING:data_iters.minibatcher:Set 2 being assigned zero documents for author 095, maybe increase minimum docs per author?\n",
      "WARNING:data_iters.minibatcher:Set 1 being assigned zero documents for author 096, maybe increase minimum docs per author?\n",
      "WARNING:data_iters.minibatcher:Set 2 being assigned zero documents for author 096, maybe increase minimum docs per author?\n",
      "WARNING:data_iters.minibatcher:Set 1 being assigned zero documents for author 097, maybe increase minimum docs per author?\n",
      "WARNING:data_iters.minibatcher:Set 2 being assigned zero documents for author 097, maybe increase minimum docs per author?\n",
      "WARNING:data_iters.minibatcher:Set 1 being assigned zero documents for author 010, maybe increase minimum docs per author?\n",
      "WARNING:data_iters.minibatcher:Set 2 being assigned zero documents for author 010, maybe increase minimum docs per author?\n",
      "WARNING:data_iters.minibatcher:Set 1 being assigned zero documents for author 011, maybe increase minimum docs per author?\n",
      "WARNING:data_iters.minibatcher:Set 2 being assigned zero documents for author 011, maybe increase minimum docs per author?\n",
      "WARNING:data_iters.minibatcher:Set 1 being assigned zero documents for author 012, maybe increase minimum docs per author?\n",
      "WARNING:data_iters.minibatcher:Set 2 being assigned zero documents for author 012, maybe increase minimum docs per author?\n",
      "WARNING:data_iters.minibatcher:Set 1 being assigned zero documents for author 013, maybe increase minimum docs per author?\n",
      "WARNING:data_iters.minibatcher:Set 2 being assigned zero documents for author 013, maybe increase minimum docs per author?\n",
      "WARNING:data_iters.minibatcher:Set 1 being assigned zero documents for author 014, maybe increase minimum docs per author?\n",
      "WARNING:data_iters.minibatcher:Set 2 being assigned zero documents for author 014, maybe increase minimum docs per author?\n",
      "WARNING:data_iters.minibatcher:Set 1 being assigned zero documents for author 015, maybe increase minimum docs per author?\n",
      "WARNING:data_iters.minibatcher:Set 2 being assigned zero documents for author 015, maybe increase minimum docs per author?\n",
      "WARNING:data_iters.minibatcher:Set 1 being assigned zero documents for author 016, maybe increase minimum docs per author?\n",
      "WARNING:data_iters.minibatcher:Set 2 being assigned zero documents for author 016, maybe increase minimum docs per author?\n",
      "WARNING:data_iters.minibatcher:Set 1 being assigned zero documents for author 017, maybe increase minimum docs per author?\n",
      "WARNING:data_iters.minibatcher:Set 2 being assigned zero documents for author 017, maybe increase minimum docs per author?\n",
      "WARNING:data_iters.minibatcher:Set 1 being assigned zero documents for author 018, maybe increase minimum docs per author?\n",
      "WARNING:data_iters.minibatcher:Set 2 being assigned zero documents for author 018, maybe increase minimum docs per author?\n",
      "WARNING:data_iters.minibatcher:Set 1 being assigned zero documents for author 019, maybe increase minimum docs per author?\n",
      "WARNING:data_iters.minibatcher:Set 2 being assigned zero documents for author 019, maybe increase minimum docs per author?\n",
      "WARNING:data_iters.minibatcher:Set 1 being assigned zero documents for author 025, maybe increase minimum docs per author?\n",
      "WARNING:data_iters.minibatcher:Set 2 being assigned zero documents for author 025, maybe increase minimum docs per author?\n",
      "WARNING:data_iters.minibatcher:Set 1 being assigned zero documents for author 024, maybe increase minimum docs per author?\n",
      "WARNING:data_iters.minibatcher:Set 2 being assigned zero documents for author 024, maybe increase minimum docs per author?\n",
      "WARNING:data_iters.minibatcher:Set 1 being assigned zero documents for author 027, maybe increase minimum docs per author?\n",
      "WARNING:data_iters.minibatcher:Set 2 being assigned zero documents for author 027, maybe increase minimum docs per author?\n",
      "WARNING:data_iters.minibatcher:Set 1 being assigned zero documents for author 026, maybe increase minimum docs per author?\n",
      "WARNING:data_iters.minibatcher:Set 2 being assigned zero documents for author 026, maybe increase minimum docs per author?\n",
      "WARNING:data_iters.minibatcher:Set 1 being assigned zero documents for author 021, maybe increase minimum docs per author?\n",
      "WARNING:data_iters.minibatcher:Set 2 being assigned zero documents for author 021, maybe increase minimum docs per author?\n",
      "WARNING:data_iters.minibatcher:Set 1 being assigned zero documents for author 020, maybe increase minimum docs per author?\n",
      "WARNING:data_iters.minibatcher:Set 2 being assigned zero documents for author 020, maybe increase minimum docs per author?\n",
      "WARNING:data_iters.minibatcher:Set 1 being assigned zero documents for author 023, maybe increase minimum docs per author?\n",
      "WARNING:data_iters.minibatcher:Set 2 being assigned zero documents for author 023, maybe increase minimum docs per author?\n",
      "WARNING:data_iters.minibatcher:Set 1 being assigned zero documents for author 022, maybe increase minimum docs per author?\n",
      "WARNING:data_iters.minibatcher:Set 2 being assigned zero documents for author 022, maybe increase minimum docs per author?\n",
      "WARNING:data_iters.minibatcher:Set 1 being assigned zero documents for author 029, maybe increase minimum docs per author?\n",
      "WARNING:data_iters.minibatcher:Set 2 being assigned zero documents for author 029, maybe increase minimum docs per author?\n",
      "WARNING:data_iters.minibatcher:Set 1 being assigned zero documents for author 028, maybe increase minimum docs per author?\n",
      "WARNING:data_iters.minibatcher:Set 2 being assigned zero documents for author 028, maybe increase minimum docs per author?\n",
      "WARNING:data_iters.minibatcher:Set 1 being assigned zero documents for author 038, maybe increase minimum docs per author?\n",
      "WARNING:data_iters.minibatcher:Set 2 being assigned zero documents for author 038, maybe increase minimum docs per author?\n",
      "WARNING:data_iters.minibatcher:Set 1 being assigned zero documents for author 039, maybe increase minimum docs per author?\n",
      "WARNING:data_iters.minibatcher:Set 2 being assigned zero documents for author 039, maybe increase minimum docs per author?\n",
      "WARNING:data_iters.minibatcher:Set 1 being assigned zero documents for author 032, maybe increase minimum docs per author?\n",
      "WARNING:data_iters.minibatcher:Set 2 being assigned zero documents for author 032, maybe increase minimum docs per author?\n",
      "WARNING:data_iters.minibatcher:Set 1 being assigned zero documents for author 033, maybe increase minimum docs per author?\n",
      "WARNING:data_iters.minibatcher:Set 2 being assigned zero documents for author 033, maybe increase minimum docs per author?\n",
      "WARNING:data_iters.minibatcher:Set 1 being assigned zero documents for author 030, maybe increase minimum docs per author?\n",
      "WARNING:data_iters.minibatcher:Set 2 being assigned zero documents for author 030, maybe increase minimum docs per author?\n",
      "WARNING:data_iters.minibatcher:Set 1 being assigned zero documents for author 031, maybe increase minimum docs per author?\n",
      "WARNING:data_iters.minibatcher:Set 2 being assigned zero documents for author 031, maybe increase minimum docs per author?\n",
      "WARNING:data_iters.minibatcher:Set 1 being assigned zero documents for author 036, maybe increase minimum docs per author?\n",
      "WARNING:data_iters.minibatcher:Set 2 being assigned zero documents for author 036, maybe increase minimum docs per author?\n",
      "WARNING:data_iters.minibatcher:Set 1 being assigned zero documents for author 037, maybe increase minimum docs per author?\n",
      "WARNING:data_iters.minibatcher:Set 2 being assigned zero documents for author 037, maybe increase minimum docs per author?\n",
      "WARNING:data_iters.minibatcher:Set 1 being assigned zero documents for author 034, maybe increase minimum docs per author?\n",
      "WARNING:data_iters.minibatcher:Set 2 being assigned zero documents for author 034, maybe increase minimum docs per author?\n",
      "WARNING:data_iters.minibatcher:Set 1 being assigned zero documents for author 035, maybe increase minimum docs per author?\n",
      "WARNING:data_iters.minibatcher:Set 2 being assigned zero documents for author 035, maybe increase minimum docs per author?\n",
      "WARNING:data_iters.minibatcher:Set 1 being assigned zero documents for author 051, maybe increase minimum docs per author?\n",
      "WARNING:data_iters.minibatcher:Set 2 being assigned zero documents for author 051, maybe increase minimum docs per author?\n",
      "WARNING:data_iters.minibatcher:Set 1 being assigned zero documents for author 049, maybe increase minimum docs per author?\n",
      "WARNING:data_iters.minibatcher:Set 2 being assigned zero documents for author 049, maybe increase minimum docs per author?\n",
      "WARNING:data_iters.minibatcher:Set 1 being assigned zero documents for author 048, maybe increase minimum docs per author?\n",
      "WARNING:data_iters.minibatcher:Set 2 being assigned zero documents for author 048, maybe increase minimum docs per author?\n",
      "WARNING:data_iters.minibatcher:Set 1 being assigned zero documents for author 047, maybe increase minimum docs per author?\n",
      "WARNING:data_iters.minibatcher:Set 2 being assigned zero documents for author 047, maybe increase minimum docs per author?\n",
      "WARNING:data_iters.minibatcher:Set 1 being assigned zero documents for author 046, maybe increase minimum docs per author?\n",
      "WARNING:data_iters.minibatcher:Set 2 being assigned zero documents for author 046, maybe increase minimum docs per author?\n",
      "WARNING:data_iters.minibatcher:Set 1 being assigned zero documents for author 100, maybe increase minimum docs per author?\n",
      "WARNING:data_iters.minibatcher:Set 2 being assigned zero documents for author 100, maybe increase minimum docs per author?\n",
      "WARNING:data_iters.minibatcher:Set 1 being assigned zero documents for author 044, maybe increase minimum docs per author?\n",
      "WARNING:data_iters.minibatcher:Set 2 being assigned zero documents for author 044, maybe increase minimum docs per author?\n",
      "WARNING:data_iters.minibatcher:Set 1 being assigned zero documents for author 043, maybe increase minimum docs per author?\n",
      "WARNING:data_iters.minibatcher:Set 2 being assigned zero documents for author 043, maybe increase minimum docs per author?\n",
      "WARNING:data_iters.minibatcher:Set 1 being assigned zero documents for author 042, maybe increase minimum docs per author?\n",
      "WARNING:data_iters.minibatcher:Set 2 being assigned zero documents for author 042, maybe increase minimum docs per author?\n",
      "WARNING:data_iters.minibatcher:Set 1 being assigned zero documents for author 041, maybe increase minimum docs per author?\n",
      "WARNING:data_iters.minibatcher:Set 2 being assigned zero documents for author 041, maybe increase minimum docs per author?\n",
      "WARNING:data_iters.minibatcher:Set 1 being assigned zero documents for author 040, maybe increase minimum docs per author?\n",
      "WARNING:data_iters.minibatcher:Set 2 being assigned zero documents for author 040, maybe increase minimum docs per author?\n",
      "WARNING:data_iters.minibatcher:Set 1 being assigned zero documents for author 058, maybe increase minimum docs per author?\n",
      "WARNING:data_iters.minibatcher:Set 2 being assigned zero documents for author 058, maybe increase minimum docs per author?\n",
      "WARNING:data_iters.minibatcher:Set 1 being assigned zero documents for author 059, maybe increase minimum docs per author?\n",
      "WARNING:data_iters.minibatcher:Set 2 being assigned zero documents for author 059, maybe increase minimum docs per author?\n",
      "WARNING:data_iters.minibatcher:Set 1 being assigned zero documents for author 054, maybe increase minimum docs per author?\n",
      "WARNING:data_iters.minibatcher:Set 2 being assigned zero documents for author 054, maybe increase minimum docs per author?\n",
      "WARNING:data_iters.minibatcher:Set 1 being assigned zero documents for author 055, maybe increase minimum docs per author?\n",
      "WARNING:data_iters.minibatcher:Set 2 being assigned zero documents for author 055, maybe increase minimum docs per author?\n",
      "WARNING:data_iters.minibatcher:Set 1 being assigned zero documents for author 056, maybe increase minimum docs per author?\n",
      "WARNING:data_iters.minibatcher:Set 2 being assigned zero documents for author 056, maybe increase minimum docs per author?\n",
      "WARNING:data_iters.minibatcher:Set 1 being assigned zero documents for author 057, maybe increase minimum docs per author?\n",
      "WARNING:data_iters.minibatcher:Set 2 being assigned zero documents for author 057, maybe increase minimum docs per author?\n",
      "WARNING:data_iters.minibatcher:Set 1 being assigned zero documents for author 050, maybe increase minimum docs per author?\n",
      "WARNING:data_iters.minibatcher:Set 2 being assigned zero documents for author 050, maybe increase minimum docs per author?\n",
      "WARNING:data_iters.minibatcher:Set 1 being assigned zero documents for author 045, maybe increase minimum docs per author?\n",
      "WARNING:data_iters.minibatcher:Set 2 being assigned zero documents for author 045, maybe increase minimum docs per author?\n",
      "WARNING:data_iters.minibatcher:Set 1 being assigned zero documents for author 052, maybe increase minimum docs per author?\n",
      "WARNING:data_iters.minibatcher:Set 2 being assigned zero documents for author 052, maybe increase minimum docs per author?\n",
      "WARNING:data_iters.minibatcher:Set 1 being assigned zero documents for author 053, maybe increase minimum docs per author?\n",
      "WARNING:data_iters.minibatcher:Set 2 being assigned zero documents for author 053, maybe increase minimum docs per author?\n",
      "WARNING:data_iters.minibatcher:Set 1 being assigned zero documents for author 061, maybe increase minimum docs per author?\n",
      "WARNING:data_iters.minibatcher:Set 2 being assigned zero documents for author 061, maybe increase minimum docs per author?\n",
      "WARNING:data_iters.minibatcher:Set 1 being assigned zero documents for author 060, maybe increase minimum docs per author?\n",
      "WARNING:data_iters.minibatcher:Set 2 being assigned zero documents for author 060, maybe increase minimum docs per author?\n",
      "WARNING:data_iters.minibatcher:Set 1 being assigned zero documents for author 063, maybe increase minimum docs per author?\n",
      "WARNING:data_iters.minibatcher:Set 2 being assigned zero documents for author 063, maybe increase minimum docs per author?\n",
      "WARNING:data_iters.minibatcher:Set 1 being assigned zero documents for author 062, maybe increase minimum docs per author?\n",
      "WARNING:data_iters.minibatcher:Set 2 being assigned zero documents for author 062, maybe increase minimum docs per author?\n",
      "WARNING:data_iters.minibatcher:Set 1 being assigned zero documents for author 065, maybe increase minimum docs per author?\n",
      "WARNING:data_iters.minibatcher:Set 2 being assigned zero documents for author 065, maybe increase minimum docs per author?\n",
      "WARNING:data_iters.minibatcher:Set 1 being assigned zero documents for author 064, maybe increase minimum docs per author?\n",
      "WARNING:data_iters.minibatcher:Set 2 being assigned zero documents for author 064, maybe increase minimum docs per author?\n",
      "WARNING:data_iters.minibatcher:Set 1 being assigned zero documents for author 067, maybe increase minimum docs per author?\n",
      "WARNING:data_iters.minibatcher:Set 2 being assigned zero documents for author 067, maybe increase minimum docs per author?\n",
      "WARNING:data_iters.minibatcher:Set 1 being assigned zero documents for author 066, maybe increase minimum docs per author?\n",
      "WARNING:data_iters.minibatcher:Set 2 being assigned zero documents for author 066, maybe increase minimum docs per author?\n",
      "WARNING:data_iters.minibatcher:Set 1 being assigned zero documents for author 069, maybe increase minimum docs per author?\n",
      "WARNING:data_iters.minibatcher:Set 2 being assigned zero documents for author 069, maybe increase minimum docs per author?\n",
      "WARNING:data_iters.minibatcher:Set 1 being assigned zero documents for author 068, maybe increase minimum docs per author?\n",
      "WARNING:data_iters.minibatcher:Set 2 being assigned zero documents for author 068, maybe increase minimum docs per author?\n",
      "WARNING:data_iters.minibatcher:Set 1 being assigned zero documents for author 076, maybe increase minimum docs per author?\n",
      "WARNING:data_iters.minibatcher:Set 2 being assigned zero documents for author 076, maybe increase minimum docs per author?\n",
      "WARNING:data_iters.minibatcher:Set 1 being assigned zero documents for author 077, maybe increase minimum docs per author?\n",
      "WARNING:data_iters.minibatcher:Set 2 being assigned zero documents for author 077, maybe increase minimum docs per author?\n",
      "WARNING:data_iters.minibatcher:Set 1 being assigned zero documents for author 074, maybe increase minimum docs per author?\n",
      "WARNING:data_iters.minibatcher:Set 2 being assigned zero documents for author 074, maybe increase minimum docs per author?\n",
      "WARNING:data_iters.minibatcher:Set 1 being assigned zero documents for author 075, maybe increase minimum docs per author?\n",
      "WARNING:data_iters.minibatcher:Set 2 being assigned zero documents for author 075, maybe increase minimum docs per author?\n",
      "WARNING:data_iters.minibatcher:Set 1 being assigned zero documents for author 072, maybe increase minimum docs per author?\n",
      "WARNING:data_iters.minibatcher:Set 2 being assigned zero documents for author 072, maybe increase minimum docs per author?\n",
      "WARNING:data_iters.minibatcher:Set 1 being assigned zero documents for author 073, maybe increase minimum docs per author?\n",
      "WARNING:data_iters.minibatcher:Set 2 being assigned zero documents for author 073, maybe increase minimum docs per author?\n",
      "WARNING:data_iters.minibatcher:Set 1 being assigned zero documents for author 070, maybe increase minimum docs per author?\n",
      "WARNING:data_iters.minibatcher:Set 2 being assigned zero documents for author 070, maybe increase minimum docs per author?\n",
      "WARNING:data_iters.minibatcher:Set 1 being assigned zero documents for author 071, maybe increase minimum docs per author?\n",
      "WARNING:data_iters.minibatcher:Set 2 being assigned zero documents for author 071, maybe increase minimum docs per author?\n",
      "WARNING:data_iters.minibatcher:Set 1 being assigned zero documents for author 078, maybe increase minimum docs per author?\n",
      "WARNING:data_iters.minibatcher:Set 2 being assigned zero documents for author 078, maybe increase minimum docs per author?\n",
      "WARNING:data_iters.minibatcher:Set 1 being assigned zero documents for author 079, maybe increase minimum docs per author?\n",
      "WARNING:data_iters.minibatcher:Set 2 being assigned zero documents for author 079, maybe increase minimum docs per author?\n",
      "WARNING:data_iters.minibatcher:Set 1 being assigned zero documents for author 089, maybe increase minimum docs per author?\n",
      "WARNING:data_iters.minibatcher:Set 2 being assigned zero documents for author 089, maybe increase minimum docs per author?\n",
      "WARNING:data_iters.minibatcher:Set 1 being assigned zero documents for author 088, maybe increase minimum docs per author?\n",
      "WARNING:data_iters.minibatcher:Set 2 being assigned zero documents for author 088, maybe increase minimum docs per author?\n",
      "WARNING:data_iters.minibatcher:Set 1 being assigned zero documents for author 083, maybe increase minimum docs per author?\n",
      "WARNING:data_iters.minibatcher:Set 2 being assigned zero documents for author 083, maybe increase minimum docs per author?\n",
      "WARNING:data_iters.minibatcher:Set 1 being assigned zero documents for author 082, maybe increase minimum docs per author?\n",
      "WARNING:data_iters.minibatcher:Set 2 being assigned zero documents for author 082, maybe increase minimum docs per author?\n",
      "WARNING:data_iters.minibatcher:Set 1 being assigned zero documents for author 081, maybe increase minimum docs per author?\n",
      "WARNING:data_iters.minibatcher:Set 2 being assigned zero documents for author 081, maybe increase minimum docs per author?\n",
      "WARNING:data_iters.minibatcher:Set 1 being assigned zero documents for author 080, maybe increase minimum docs per author?\n",
      "WARNING:data_iters.minibatcher:Set 2 being assigned zero documents for author 080, maybe increase minimum docs per author?\n",
      "WARNING:data_iters.minibatcher:Set 1 being assigned zero documents for author 087, maybe increase minimum docs per author?\n",
      "WARNING:data_iters.minibatcher:Set 2 being assigned zero documents for author 087, maybe increase minimum docs per author?\n",
      "WARNING:data_iters.minibatcher:Set 1 being assigned zero documents for author 086, maybe increase minimum docs per author?\n",
      "WARNING:data_iters.minibatcher:Set 2 being assigned zero documents for author 086, maybe increase minimum docs per author?\n",
      "WARNING:data_iters.minibatcher:Set 1 being assigned zero documents for author 085, maybe increase minimum docs per author?\n",
      "WARNING:data_iters.minibatcher:Set 2 being assigned zero documents for author 085, maybe increase minimum docs per author?\n",
      "WARNING:data_iters.minibatcher:Set 1 being assigned zero documents for author 084, maybe increase minimum docs per author?\n",
      "WARNING:data_iters.minibatcher:Set 2 being assigned zero documents for author 084, maybe increase minimum docs per author?\n",
      "WARNING:data_iters.minibatcher:Set 1 being assigned zero documents for author 003, maybe increase minimum docs per author?\n",
      "WARNING:data_iters.minibatcher:Set 2 being assigned zero documents for author 003, maybe increase minimum docs per author?\n",
      "WARNING:data_iters.minibatcher:Set 1 being assigned zero documents for author 002, maybe increase minimum docs per author?\n",
      "WARNING:data_iters.minibatcher:Set 2 being assigned zero documents for author 002, maybe increase minimum docs per author?\n",
      "WARNING:data_iters.minibatcher:Set 1 being assigned zero documents for author 001, maybe increase minimum docs per author?\n",
      "WARNING:data_iters.minibatcher:Set 2 being assigned zero documents for author 001, maybe increase minimum docs per author?\n",
      "WARNING:data_iters.minibatcher:Set 1 being assigned zero documents for author 007, maybe increase minimum docs per author?\n",
      "WARNING:data_iters.minibatcher:Set 2 being assigned zero documents for author 007, maybe increase minimum docs per author?\n",
      "WARNING:data_iters.minibatcher:Set 1 being assigned zero documents for author 006, maybe increase minimum docs per author?\n",
      "WARNING:data_iters.minibatcher:Set 2 being assigned zero documents for author 006, maybe increase minimum docs per author?\n",
      "WARNING:data_iters.minibatcher:Set 1 being assigned zero documents for author 005, maybe increase minimum docs per author?\n",
      "WARNING:data_iters.minibatcher:Set 2 being assigned zero documents for author 005, maybe increase minimum docs per author?\n",
      "WARNING:data_iters.minibatcher:Set 1 being assigned zero documents for author 004, maybe increase minimum docs per author?\n",
      "WARNING:data_iters.minibatcher:Set 2 being assigned zero documents for author 004, maybe increase minimum docs per author?\n",
      "WARNING:data_iters.minibatcher:Set 1 being assigned zero documents for author 009, maybe increase minimum docs per author?\n",
      "WARNING:data_iters.minibatcher:Set 2 being assigned zero documents for author 009, maybe increase minimum docs per author?\n",
      "WARNING:data_iters.minibatcher:Set 1 being assigned zero documents for author 008, maybe increase minimum docs per author?\n",
      "WARNING:data_iters.minibatcher:Set 2 being assigned zero documents for author 008, maybe increase minimum docs per author?\n"
     ]
    },
    {
     "name": "stdout",
     "output_type": "stream",
     "text": [
      "Shape=(640, 120, 120), Max=1.0\n"
     ]
    },
    {
     "data": {
      "image/png": "[encoded data removed]",
      "text/plain": [
       "<matplotlib.figure.Figure at 0x7f56d6009450>"
      ]
     },
     "metadata": {},
     "output_type": "display_data"
    }
   ],
   "source": [
    "iam_m = IAM_MiniBatcher(hdf5_file, num_authors, num_forms_per_author, shingle_dim=shingle_dim, default_mode=MiniBatcher.TRAIN, batch_size=batch_size, train_pct=1.0, test_pct=0.0, val_pct = 0.0)\n",
    "\n",
    "[X_test, Y_test] = iam_m.get_train_batch(batch_size*20)\n",
    "print \"Shape=\"+str(X_test.shape)+\", Max=\"+str(X_test.max())\n",
    "\n",
    "plt.clf\n",
    "plt.subplots(3,3)\n",
    "plt.tight_layout()\n",
    "s = np.random.choice(32,9, replace=False)\n",
    "\n",
    "for i in xrange(9):\n",
    "    plt.subplot(3,3,i+1)\n",
    "    plt.imshow(X_test[s[i]])"
   ]
  },
  {
   "cell_type": "markdown",
   "metadata": {},
   "source": [
    "### Load a neural network model"
   ]
  },
  {
   "cell_type": "code",
   "execution_count": 5,
   "metadata": {
    "collapsed": false
   },
   "outputs": [
    {
     "name": "stdout",
     "output_type": "stream",
     "text": [
      "Compiling model\n",
      "Finished compilation\n",
      "Getting the first validation batch\n",
      "Finished getting 320 data points\n"
     ]
    }
   ],
   "source": [
    "model=fielnet(neural_network_params, layer='fc7')\n",
    "print \"Compiling model\"\n",
    "sgd = SGD(lr=0.1, decay=1e-6, momentum=0.7, nesterov=False)\n",
    "model.compile(loss='categorical_crossentropy', optimizer=sgd)\n",
    "print \"Finished compilation\"\n",
    "\n",
    "print \"Getting the first validation batch\"\n",
    "[X_val, Y_val] = iam_m.get_train_batch(batch_size*10)\n",
    "X_val = np.expand_dims(X_val, 1)\n",
    "Y_val = to_categorical(Y_val, num_authors)\n",
    "print \"Finished getting \"+str(batch_size*10)+\" data points\""
   ]
  },
  {
   "cell_type": "code",
   "execution_count": null,
   "metadata": {
    "collapsed": false
   },
   "outputs": [],
   "source": [
    "# Unclear if this is needed\n",
    "from PIL import Image\n",
    "def randangle(batch):\n",
    "    newbatch = np.zeros(batch.shape)\n",
    "    for i,im in enumerate(batch):\n",
    "        imangle = np.asarray(Image.fromarray(im.squeeze()).rotate(7.5*np.random.randn()))\n",
    "        newbatch[i]=imangle\n",
    "    return newbatch"
   ]
  },
  {
   "cell_type": "markdown",
   "metadata": {},
   "source": [
    "### Do the neural network feature extractor"
   ]
  },
  {
   "cell_type": "code",
   "execution_count": null,
   "metadata": {
    "collapsed": false
   },
   "outputs": [],
   "source": [
    "features = np.zeros(  )\n",
    "for batch_iter in xrange(total_iters):\n",
    "    [X_train, Y_train] = iam_m.get_train_batch(batch_size*100)\n",
    "    X_train = np.expand_dims(X_train, 1)\n",
    "    features[batch_iter] = model.predict(X_train)"
   ]
  },
  {
   "cell_type": "code",
   "execution_count": null,
   "metadata": {
    "collapsed": false
   },
   "outputs": [],
   "source": []
  },
  {
   "cell_type": "code",
   "execution_count": null,
   "metadata": {
    "collapsed": true
   },
   "outputs": [],
   "source": []
  }
 ],
 "metadata": {
  "kernelspec": {
   "display_name": "Python 2",
   "language": "python",
   "name": "python2"
  },
  "language_info": {
   "codemirror_mode": {
    "name": "ipython",
    "version": 2
   },
   "file_extension": ".py",
   "mimetype": "text/x-python",
   "name": "python",
   "nbconvert_exporter": "python",
   "pygments_lexer": "ipython2",
   "version": "2.7.6"
  }
 },
 "nbformat": 4,
 "nbformat_minor": 0
}
