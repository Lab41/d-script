{
 "cells": [
  {
   "cell_type": "code",
   "execution_count": 1,
   "metadata": {
    "collapsed": false
   },
   "outputs": [
    {
     "name": "stderr",
     "output_type": "stream",
     "text": [
      "Using gpu device 0: GeForce GTX TITAN X (CNMeM is disabled)\n"
     ]
    }
   ],
   "source": [
    "import sys\n",
    "import logging\n",
    "import time\n",
    "import random\n",
    "import numpy as np\n",
    "from collections import defaultdict, namedtuple\n",
    "from optparse import OptionParser\n",
    "\n",
    "# Required libraries\n",
    "import h5py\n",
    "import keras\n",
    "from keras.models import Sequential\n",
    "from keras.layers.core import Dense, Dropout, Activation, Flatten\n",
    "from keras.layers.convolutional import Convolution2D, MaxPooling2D\n",
    "from keras.optimizers import SGD\n",
    "from keras.utils.np_utils import to_categorical\n",
    "from keras.layers.normalization import BatchNormalization as BN\n",
    "\n",
    "import IPython.display\n",
    "import matplotlib.pylab as plt\n",
    "%matplotlib inline\n",
    "\n",
    "import sys\n",
    "sys.path.append('../')\n",
    "# d-script imports\n",
    "from data_iters.minibatcher import MiniBatcher\n",
    "from data_iters.iam_hdf5_iterator import IAM_MiniBatcher\n",
    "from fielutil import fielnet\n",
    "import viz_tools.array_to_png as a2p"
   ]
  },
  {
   "cell_type": "markdown",
   "metadata": {},
   "source": [
    "## Parameter settings"
   ]
  },
  {
   "cell_type": "code",
   "execution_count": 2,
   "metadata": {
    "collapsed": true
   },
   "outputs": [],
   "source": [
    "hdf5_file = '/fileserver/icdar13/benchmarking-processed/author_icdar_be.hdf5'\n",
    "neural_network_params = '../convnets/fielnet/fielnet.hdf5'\n",
    "num_authors=100\n",
    "num_forms_per_author=-1\n",
    "shingle_dim=(120,120)\n",
    "use_form=True\n",
    "\n",
    "batch_size=32\n",
    "lr = 0.01"
   ]
  },
  {
   "cell_type": "markdown",
   "metadata": {},
   "source": [
    "## Initialize Classification Minibatcher"
   ]
  },
  {
   "cell_type": "code",
   "execution_count": 3,
   "metadata": {
    "collapsed": false
   },
   "outputs": [],
   "source": [
    "from class_icdar_iterator import StepShingler"
   ]
  },
  {
   "cell_type": "markdown",
   "metadata": {},
   "source": [
    "## Load a neural network model"
   ]
  },
  {
   "cell_type": "code",
   "execution_count": 5,
   "metadata": {
    "collapsed": false
   },
   "outputs": [
    {
     "name": "stdout",
     "output_type": "stream",
     "text": [
      "Compiling model\n",
      "Finished compilation\n"
     ]
    }
   ],
   "source": [
    "model=fielnet(neural_network_params, layer='fc7')\n",
    "print \"Compiling model\"\n",
    "sgd = SGD(lr=0.1, decay=1e-6, momentum=0.7, nesterov=False)\n",
    "model.compile(loss='categorical_crossentropy', optimizer=sgd)\n",
    "print \"Finished compilation\""
   ]
  },
  {
   "cell_type": "markdown",
   "metadata": {},
   "source": [
    "## Processing to get the image hash\n",
    "1. Get the shingle through the step shingler\n",
    "2. Extract the feature with FielNet\n",
    "3. Aggregate all the features with mean averaging"
   ]
  },
  {
   "cell_type": "code",
   "execution_count": null,
   "metadata": {
    "collapsed": true
   },
   "outputs": [],
   "source": [
    "def preprocshingle( shingle ):\n",
    "    \n",
    "    return shingle"
   ]
  },
  {
   "cell_type": "code",
   "execution_count": 17,
   "metadata": {
    "collapsed": false
   },
   "outputs": [
    {
     "name": "stdout",
     "output_type": "stream",
     "text": [
      "Working on author 001 on image 001_1.tif\n",
      "Got imgshingle\n"
     ]
    },
    {
     "data": {
      "text/plain": [
       "(120, 120)"
      ]
     },
     "execution_count": 17,
     "metadata": {},
     "output_type": "execute_result"
    }
   ],
   "source": [
    "icdar_hdf5 = h5py.File(hdf5_file, \"r\")\n",
    "authors = icdar_hdf5.keys()\n",
    "\n",
    "input_buffer = np.zeros( img_minibatch )\n",
    "output_buffer = np.zeros((0,128))\n",
    "\n",
    "k = 0; lb=0; le=0\n",
    "for author in authors:\n",
    "    fragments = icdar_hdf5[author].keys()\n",
    "    for fragment in fragments:\n",
    "        print \"Working on author %s on image %s\" %(author, fragment)\n",
    "        img = icdar_hdf5[author][fragment]\n",
    "        imgshingler = StepShingler(img, hstep=90, vstep=120, shingle_size=(120,120))\n",
    "        for imgshingle in imgshingler:\n",
    "            feature_batch = model.predict( img_minibatch )\n",
    "        average_feature = feature_batches.mean(axis=1)\n",
    "        \n",
    "\n",
    "        # shinglebuffer = np.zeros(1)\n",
    "        # for icdar_shingle, author_id, fragment_id in icdar_shingles:\n",
    "        #     shinglebuffer[i] = imgshingler()\n"
   ]
  },
  {
   "cell_type": "markdown",
   "metadata": {},
   "source": [
    "## Save Features for Classifier? (Into Train/Test/Validation?)"
   ]
  },
  {
   "cell_type": "code",
   "execution_count": null,
   "metadata": {
    "collapsed": true
   },
   "outputs": [],
   "source": []
  }
 ],
 "metadata": {
  "kernelspec": {
   "display_name": "Python 2",
   "language": "python",
   "name": "python2"
  },
  "language_info": {
   "codemirror_mode": {
    "name": "ipython",
    "version": 2
   },
   "file_extension": ".py",
   "mimetype": "text/x-python",
   "name": "python",
   "nbconvert_exporter": "python",
   "pygments_lexer": "ipython2",
   "version": "2.7.6"
  }
 },
 "nbformat": 4,
 "nbformat_minor": 0
}
