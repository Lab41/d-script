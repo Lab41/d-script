{
 "cells": [
  {
   "cell_type": "markdown",
   "metadata": {},
   "source": [
    "# Inference Pipeline\n",
    "\n",
    "### Imports"
   ]
  },
  {
   "cell_type": "code",
   "execution_count": 1,
   "metadata": {
    "collapsed": false
   },
   "outputs": [
    {
     "name": "stdout",
     "output_type": "stream",
     "text": [
      "Using Theano backend.\n"
     ]
    },
    {
     "name": "stderr",
     "output_type": "stream",
     "text": [
      "Using gpu device 0: GeForce GTX 980\n"
     ]
    }
   ],
   "source": [
    "import numpy as np\n",
    "import h5py\n",
    "import sys\n",
    "import logging\n",
    "sys.path.append('..')\n",
    "\n",
    "# Neural network stuff\n",
    "from fielutil import load_verbatimnet\n",
    "from featextractor import extract_imfeats\n",
    "\n",
    "# Logging\n",
    "# logging.getLogger('featextractor').setLevel(logging.DEBUG)"
   ]
  },
  {
   "cell_type": "markdown",
   "metadata": {},
   "source": [
    "### Parameters"
   ]
  },
  {
   "cell_type": "code",
   "execution_count": 21,
   "metadata": {
    "collapsed": true
   },
   "outputs": [],
   "source": [
    "# Do you want to load the features in? Or save them to a file?\n",
    "load_features = True\n",
    "\n",
    "# All the images that you require extraction should be in this HDF5 file\n",
    "# hdf5images='icdar13data/benchmarking-processed/icdar_be.hdf5'\n",
    "# hdf5images = 'icdar13data/experimental-processed/icdar13_ex.hdf5'\n",
    "# hdf5images='nmecdata/nmec_scaled_flat.hdf5'\n",
    "hdf5images='nmecdata/flat_nmec_bin_uint8.hdf5'\n",
    "\n",
    "# This is the file that you will load the features from or save the features to\n",
    "# featurefile = 'icdar13data/benchmarking-processed/icdar13be_fiel657.npy'\n",
    "# featurefile = 'icdar13data/experimental-processed/icdar13ex_fiel657.npy'\n",
    "featurefile = 'nmecdata/nmec_bw_fiel657_features_steps5_thresh.15.npy'\n",
    "\n",
    "# This is the neural networks and parameters you are deciding to use\n",
    "paramsfile = '/fileserver/iam/iam-processed/models/fiel_657.hdf5'"
   ]
  },
  {
   "cell_type": "markdown",
   "metadata": {},
   "source": [
    "### Full image HDF5 file\n",
    "\n",
    "Each entry in the HDF5 file is a full image/form/document"
   ]
  },
  {
   "cell_type": "code",
   "execution_count": 10,
   "metadata": {
    "collapsed": false
   },
   "outputs": [
    {
     "name": "stdout",
     "output_type": "stream",
     "text": [
      "[u'FR-003-001.bin.tif', u'FR-003-002.bin.tif', u'FR-003-003.bin.tif', u'FR-003-004.bin.tif', u'FR-003-005.bin.tif', u'FR-003-006.bin.tif', u'FR-003-007.bin.tif', u'FR-003-008.bin.tif', u'FR-004-001.bin.tif', u'FR-004-002.bin.tif', u'FR-004-003.bin.tif', u'FR-004-004.bin.tif', u'FR-004-005.bin.tif', u'FR-004-006.bin.tif', u'FR-004-007.bin.tif', u'FR-004-008.bin.tif', u'FR-005-001.bin.tif', u'FR-005-002.bin.tif', u'FR-005-003.bin.tif', u'FR-005-004.bin.tif', u'FR-005-005.bin.tif', u'FR-005-006.bin.tif', u'FR-005-007.bin.tif', u'FR-005-008.bin.tif', u'FR-006-001.bin.tif', u'FR-006-002.bin.tif', u'FR-006-003.bin.tif', u'FR-006-004.bin.tif', u'FR-006-005.bin.tif', u'FR-006-006.bin.tif', u'FR-006-007.bin.tif', u'FR-006-008.bin.tif', u'FR-007-001.bin.tif', u'FR-007-002.bin.tif', u'FR-007-003.bin.tif', u'FR-007-004.bin.tif', u'FR-007-005.bin.tif', u'FR-007-006.bin.tif', u'FR-007-007.bin.tif', u'FR-007-008.bin.tif', u'FR-008-001.bin.tif', u'FR-008-002.bin.tif', u'FR-008-003.bin.tif', u'FR-008-004.bin.tif', u'FR-008-005.bin.tif', u'FR-008-006.bin.tif', u'FR-008-007.bin.tif', u'FR-008-008.bin.tif', u'FR-009-001.bin.tif', u'FR-009-002.bin.tif', u'FR-009-003.bin.tif', u'FR-009-004.bin.tif', u'FR-009-005.bin.tif', u'FR-009-006.bin.tif', u'FR-009-007.bin.tif', u'FR-009-008.bin.tif', u'FR-010-001.bin.tif', u'FR-010-002.bin.tif', u'FR-010-003.bin.tif', u'FR-010-004.bin.tif', u'FR-010-005.bin.tif', u'FR-010-006.bin.tif', u'FR-010-007.bin.tif', u'FR-010-008.bin.tif', u'FR-011-001.bin.tif', u'FR-011-002.bin.tif', u'FR-011-003.bin.tif', u'FR-011-004.bin.tif', u'FR-011-005.bin.tif', u'FR-011-006.bin.tif', u'FR-011-007.bin.tif', u'FR-011-008.bin.tif', u'FR-012-001.bin.tif', u'FR-012-002.bin.tif', u'FR-012-003.bin.tif', u'FR-012-004.bin.tif', u'FR-012-005.bin.tif', u'FR-012-006.bin.tif', u'FR-012-007.bin.tif', u'FR-012-008.bin.tif', u'FR-014-001.bin.tif', u'FR-014-002.bin.tif', u'FR-014-003.bin.tif', u'FR-014-004.bin.tif', u'FR-014-005.bin.tif', u'FR-014-006.bin.tif', u'FR-014-007.bin.tif', u'FR-014-008.bin.tif', u'FR-015-001.bin.tif', u'FR-015-002.bin.tif', u'FR-015-003.bin.tif', u'FR-015-004.bin.tif', u'FR-015-005.bin.tif', u'FR-015-006.bin.tif', u'FR-015-007.bin.tif', u'FR-015-008.bin.tif', u'FR-016-001.bin.tif', u'FR-016-002.bin.tif', u'FR-016-003.bin.tif', u'FR-016-004.bin.tif', u'FR-016-005.bin.tif', u'FR-016-006.bin.tif', u'FR-016-007.bin.tif', u'FR-016-008.bin.tif', u'FR-017-001.bin.tif', u'FR-017-002.bin.tif', u'FR-017-003.bin.tif', u'FR-017-004.bin.tif', u'FR-017-005.bin.tif', u'FR-017-006.bin.tif', u'FR-017-007.bin.tif', u'FR-017-008.bin.tif', u'FR-018-001.bin.tif', u'FR-018-002.bin.tif', u'FR-018-003.bin.tif', u'FR-018-004.bin.tif', u'FR-018-005.bin.tif', u'FR-018-006.bin.tif', u'FR-018-007.bin.tif', u'FR-018-008.bin.tif', u'FR-019-001.bin.tif', u'FR-019-002.bin.tif', u'FR-019-003.bin.tif', u'FR-019-004.bin.tif', u'FR-019-005.bin.tif', u'FR-019-006.bin.tif', u'FR-019-007.bin.tif', u'FR-019-008.bin.tif', u'FR-020-001.bin.tif', u'FR-020-002.bin.tif', u'FR-020-003.bin.tif', u'FR-020-004.bin.tif', u'FR-020-005.bin.tif', u'FR-020-006.bin.tif', u'FR-020-007.bin.tif', u'FR-020-008.bin.tif', u'FR-021-001.bin.tif', u'FR-021-002.bin.tif', u'FR-021-003.bin.tif', u'FR-021-004.bin.tif', u'FR-021-005.bin.tif', u'FR-021-006.bin.tif', u'FR-021-007.bin.tif', u'FR-021-008.bin.tif', u'FR-022-001.bin.tif', u'FR-022-002.bin.tif', u'FR-022-003.bin.tif', u'FR-022-004.bin.tif', u'FR-022-005.bin.tif', u'FR-022-006.bin.tif', u'FR-022-007.bin.tif', u'FR-022-008.bin.tif', u'FR-023-001.bin.tif', u'FR-023-002.bin.tif', u'FR-023-003.bin.tif', u'FR-023-004.bin.tif', u'FR-023-005.bin.tif', u'FR-023-006.bin.tif', u'FR-023-007.bin.tif', u'FR-023-008.bin.tif', u'FR-024-001.bin.tif', u'FR-024-002.bin.tif', u'FR-024-003.bin.tif', u'FR-024-004.bin.tif', u'FR-024-005.bin.tif', u'FR-024-006.bin.tif', u'FR-024-007.bin.tif', u'FR-024-008.bin.tif', u'FR-026-001.bin.tif', u'FR-026-002.bin.tif', u'FR-026-003.bin.tif', u'FR-026-004.bin.tif', u'FR-026-005.bin.tif', u'FR-026-006.bin.tif', u'FR-026-007.bin.tif', u'FR-026-008.bin.tif', u'FR-027-001.bin.tif', u'FR-027-002.bin.tif', u'FR-027-003.bin.tif', u'FR-027-004.bin.tif', u'FR-027-005.bin.tif', u'FR-027-006.bin.tif', u'FR-027-007.bin.tif', u'FR-027-008.bin.tif', u'FR-028-001.bin.tif', u'FR-028-002.bin.tif', u'FR-028-003.bin.tif', u'FR-028-004.bin.tif', u'FR-028-005.bin.tif', u'FR-028-006.bin.tif', u'FR-028-007.bin.tif', u'FR-028-008.bin.tif', u'FR-029-001.bin.tif', u'FR-029-002.bin.tif', u'FR-029-003.bin.tif', u'FR-029-004.bin.tif', u'FR-029-005.bin.tif', u'FR-029-006.bin.tif', u'FR-029-007.bin.tif', u'FR-029-008.bin.tif', u'FR-030-001.bin.tif', u'FR-030-002.bin.tif', u'FR-030-003.bin.tif', u'FR-030-004.bin.tif', u'FR-030-005.bin.tif', u'FR-030-006.bin.tif', u'FR-030-007.bin.tif', u'FR-030-008.bin.tif', u'FR-031-001.bin.tif', u'FR-031-002.bin.tif', u'FR-031-003.bin.tif', u'FR-031-004.bin.tif', u'FR-031-005.bin.tif', u'FR-031-006.bin.tif', u'FR-031-007.bin.tif', u'FR-031-008.bin.tif', u'FR-032-001.bin.tif', u'FR-032-002.bin.tif', u'FR-032-003.bin.tif', u'FR-032-004.bin.tif', u'FR-032-005.bin.tif', u'FR-032-006.bin.tif', u'FR-032-007.bin.tif', u'FR-032-008.bin.tif', u'FR-033-001.bin.tif', u'FR-033-002.bin.tif', u'FR-033-003.bin.tif', u'FR-033-004.bin.tif', u'FR-033-005.bin.tif', u'FR-033-006.bin.tif', u'FR-033-007.bin.tif', u'FR-033-008.bin.tif', u'FR-034-001.bin.tif', u'FR-034-002.bin.tif', u'FR-034-003.bin.tif', u'FR-034-004.bin.tif', u'FR-034-005.bin.tif', u'FR-034-006.bin.tif', u'FR-034-007.bin.tif', u'FR-034-008.bin.tif', u'FR-035-001.bin.tif', u'FR-035-002.bin.tif', u'FR-035-003.bin.tif', u'FR-035-004.bin.tif', u'FR-035-005.bin.tif', u'FR-035-006.bin.tif', u'FR-035-007.bin.tif', u'FR-035-008.bin.tif', u'FR-036-001.bin.tif', u'FR-036-002.bin.tif', u'FR-036-003.bin.tif', u'FR-036-004.bin.tif', u'FR-036-005.bin.tif', u'FR-036-006.bin.tif', u'FR-036-007.bin.tif', u'FR-036-008.bin.tif', u'FR-037-001.bin.tif', u'FR-037-002.bin.tif', u'FR-037-003.bin.tif', u'FR-037-004.bin.tif', u'FR-037-005.bin.tif', u'FR-037-006.bin.tif', u'FR-037-007.bin.tif', u'FR-037-008.bin.tif', u'FR-038-001.bin.tif', u'FR-038-002.bin.tif', u'FR-038-003.bin.tif', u'FR-038-004.bin.tif', u'FR-038-005.bin.tif', u'FR-038-006.bin.tif', u'FR-038-007.bin.tif', u'FR-038-008.bin.tif', u'FR-039-001.bin.tif', u'FR-039-002.bin.tif', u'FR-039-003.bin.tif', u'FR-039-004.bin.tif', u'FR-039-005.bin.tif', u'FR-039-006.bin.tif', u'FR-039-007.bin.tif', u'FR-039-008.bin.tif', u'FR-040-001.bin.tif', u'FR-040-002.bin.tif', u'FR-040-003.bin.tif', u'FR-040-004.bin.tif', u'FR-040-005.bin.tif', u'FR-040-006.bin.tif', u'FR-040-007.bin.tif', u'FR-040-008.bin.tif', u'FR-041-001.bin.tif', u'FR-041-002.bin.tif', u'FR-041-003.bin.tif', u'FR-041-004.bin.tif', u'FR-041-005.bin.tif', u'FR-041-006.bin.tif', u'FR-041-007.bin.tif', u'FR-041-008.bin.tif', u'FR-042-001.bin.tif', u'FR-042-002.bin.tif', u'FR-042-003.bin.tif', u'FR-042-004.bin.tif', u'FR-042-005.bin.tif', u'FR-042-006.bin.tif', u'FR-042-007.bin.tif', u'FR-042-008.bin.tif', u'FR-043-001.bin.tif', u'FR-043-002.bin.tif', u'FR-043-003.bin.tif', u'FR-043-004.bin.tif', u'FR-043-005.bin.tif', u'FR-043-006.bin.tif', u'FR-043-007.bin.tif', u'FR-043-008.bin.tif', u'FR-044-001.bin.tif', u'FR-044-002.bin.tif', u'FR-044-003.bin.tif', u'FR-044-004.bin.tif', u'FR-044-005.bin.tif', u'FR-044-006.bin.tif', u'FR-044-007.bin.tif', u'FR-044-008.bin.tif', u'FR-045-001.bin.tif', u'FR-045-002.bin.tif', u'FR-045-003.bin.tif', u'FR-045-004.bin.tif', u'FR-045-005.bin.tif', u'FR-045-006.bin.tif', u'FR-045-007.bin.tif', u'FR-045-008.bin.tif', u'FR-046-001.bin.tif', u'FR-046-002.bin.tif', u'FR-046-003.bin.tif', u'FR-046-004.bin.tif', u'FR-046-005.bin.tif', u'FR-046-006.bin.tif', u'FR-046-007.bin.tif', u'FR-046-008.bin.tif', u'FR-047-001.bin.tif', u'FR-047-002.bin.tif', u'FR-047-003.bin.tif', u'FR-047-004.bin.tif', u'FR-047-005.bin.tif', u'FR-047-006.bin.tif', u'FR-047-007.bin.tif', u'FR-047-008.bin.tif', u'FR-048-001.bin.tif', u'FR-048-002.bin.tif', u'FR-048-003.bin.tif', u'FR-048-004.bin.tif', u'FR-048-005.bin.tif', u'FR-048-006.bin.tif', u'FR-048-007.bin.tif', u'FR-048-008.bin.tif', u'FR-049-001.bin.tif', u'FR-049-002.bin.tif', u'FR-049-003.bin.tif', u'FR-049-004.bin.tif', u'FR-049-005.bin.tif', u'FR-049-006.bin.tif', u'FR-049-007.bin.tif', u'FR-049-008.bin.tif', u'FR-050-001.bin.tif', u'FR-050-002.bin.tif', u'FR-050-003.bin.tif', u'FR-050-004.bin.tif', u'FR-050-005.bin.tif', u'FR-050-006.bin.tif', u'FR-050-007.bin.tif', u'FR-050-008.bin.tif', u'FR-051-001.bin.tif', u'FR-051-002.bin.tif', u'FR-051-003.bin.tif', u'FR-051-004.bin.tif', u'FR-051-005.bin.tif', u'FR-051-006.bin.tif', u'FR-051-007.bin.tif', u'FR-051-008.bin.tif', u'FR-053-001.bin.tif', u'FR-053-002.bin.tif', u'FR-053-003.bin.tif', u'FR-053-004.bin.tif', u'FR-053-005.bin.tif', u'FR-053-006.bin.tif', u'FR-053-007.bin.tif', u'FR-053-008.bin.tif', u'FR-055-001.bin.tif', u'FR-055-002.bin.tif', u'FR-055-003.bin.tif', u'FR-055-004.bin.tif', u'FR-055-005.bin.tif', u'FR-055-006.bin.tif', u'FR-055-007.bin.tif', u'FR-055-008.bin.tif', u'FR-056-001.bin.tif', u'FR-056-002.bin.tif', u'FR-056-003.bin.tif', u'FR-056-004.bin.tif', u'FR-056-005.bin.tif', u'FR-056-006.bin.tif', u'FR-056-007.bin.tif', u'FR-056-008.bin.tif', u'FR-057-001.bin.tif', u'FR-057-002.bin.tif', u'FR-057-003.bin.tif', u'FR-057-004.bin.tif', u'FR-057-005.bin.tif', u'FR-057-006.bin.tif', u'FR-057-007.bin.tif', u'FR-057-008.bin.tif', u'FR-058-001.bin.tif', u'FR-058-002.bin.tif', u'FR-058-003.bin.tif', u'FR-058-004.bin.tif', u'FR-058-005.bin.tif', u'FR-058-006.bin.tif', u'FR-058-007.bin.tif', u'FR-058-008.bin.tif', u'FR-059-001.bin.tif', u'FR-059-002.bin.tif', u'FR-059-003.bin.tif', u'FR-059-004.bin.tif', u'FR-059-005.bin.tif', u'FR-059-006.bin.tif', u'FR-059-007.bin.tif', u'FR-059-008.bin.tif', u'FR-060-001.bin.tif', u'FR-060-002.bin.tif', u'FR-060-003.bin.tif', u'FR-060-004.bin.tif', u'FR-060-005.bin.tif', u'FR-060-006.bin.tif', u'FR-060-007.bin.tif', u'FR-060-008.bin.tif', u'FR-061-001.bin.tif', u'FR-061-002.bin.tif', u'FR-061-003.bin.tif', u'FR-061-004.bin.tif', u'FR-061-005.bin.tif', u'FR-061-006.bin.tif', u'FR-061-007.bin.tif', u'FR-061-008.bin.tif', u'FR-062-001.bin.tif', u'FR-062-002.bin.tif', u'FR-062-003.bin.tif', u'FR-062-004.bin.tif', u'FR-062-005.bin.tif', u'FR-062-006.bin.tif', u'FR-062-007.bin.tif', u'FR-062-008.bin.tif', u'FR-063-001.bin.tif', u'FR-063-002.bin.tif', u'FR-063-003.bin.tif', u'FR-063-004.bin.tif', u'FR-063-005.bin.tif', u'FR-063-006.bin.tif', u'FR-063-007.bin.tif', u'FR-063-008.bin.tif', u'FR-064-001.bin.tif', u'FR-064-002.bin.tif', u'FR-064-003.bin.tif', u'FR-064-004.bin.tif', u'FR-064-005.bin.tif', u'FR-064-006.bin.tif', u'FR-064-007.bin.tif', u'FR-064-008.bin.tif', u'FR-065-001.bin.tif', u'FR-065-002.bin.tif', u'FR-065-003.bin.tif', u'FR-065-004.bin.tif', u'FR-065-005.bin.tif', u'FR-065-006.bin.tif', u'FR-065-007.bin.tif', u'FR-065-008.bin.tif', u'FR-066-001.bin.tif', u'FR-066-002.bin.tif', u'FR-066-003.bin.tif', u'FR-066-004.bin.tif', u'FR-066-005.bin.tif', u'FR-066-006.bin.tif', u'FR-066-007.bin.tif', u'FR-066-008.bin.tif', u'FR-067-001.bin.tif', u'FR-067-002.bin.tif', u'FR-067-003.bin.tif', u'FR-067-004.bin.tif', u'FR-067-005.bin.tif', u'FR-067-006.bin.tif', u'FR-067-007.bin.tif', u'FR-067-008.bin.tif', u'FR-068-001.bin.tif', u'FR-068-002.bin.tif', u'FR-068-003.bin.tif', u'FR-068-004.bin.tif', u'FR-068-005.bin.tif', u'FR-068-006.bin.tif', u'FR-068-007.bin.tif', u'FR-068-008.bin.tif', u'FR-069-001.bin.tif', u'FR-069-002.bin.tif', u'FR-069-003.bin.tif', u'FR-069-004.bin.tif', u'FR-069-005.bin.tif', u'FR-069-006.bin.tif', u'FR-069-007.bin.tif', u'FR-069-008.bin.tif', u'FR-070-001.bin.tif', u'FR-070-002.bin.tif', u'FR-070-003.bin.tif', u'FR-070-004.bin.tif', u'FR-070-005.bin.tif', u'FR-070-006.bin.tif', u'FR-070-007.bin.tif', u'FR-070-008.bin.tif', u'FR-071-001.bin.tif', u'FR-071-002.bin.tif', u'FR-071-003.bin.tif', u'FR-071-004.bin.tif', u'FR-071-005.bin.tif', u'FR-071-006.bin.tif', u'FR-071-007.bin.tif', u'FR-071-008.bin.tif', u'FR-072-001.bin.tif', u'FR-072-002.bin.tif', u'FR-072-003.bin.tif', u'FR-072-004.bin.tif', u'FR-072-005.bin.tif', u'FR-072-006.bin.tif', u'FR-072-007.bin.tif', u'FR-072-008.bin.tif', u'FR-073-001.bin.tif', u'FR-073-002.bin.tif', u'FR-073-003.bin.tif', u'FR-073-004.bin.tif', u'FR-073-005.bin.tif', u'FR-073-006.bin.tif', u'FR-073-007.bin.tif', u'FR-073-008.bin.tif', u'FR-074-001.bin.tif', u'FR-074-002.bin.tif', u'FR-074-003.bin.tif', u'FR-074-004.bin.tif', u'FR-074-005.bin.tif', u'FR-074-006.bin.tif', u'FR-074-007.bin.tif', u'FR-074-008.bin.tif', u'FR-075-001.bin.tif', u'FR-075-002.bin.tif', u'FR-075-003.bin.tif', u'FR-075-004.bin.tif', u'FR-075-005.bin.tif', u'FR-075-006.bin.tif', u'FR-075-007.bin.tif', u'FR-075-008.bin.tif', u'FR-077-001.bin.tif', u'FR-077-002.bin.tif', u'FR-077-003.bin.tif', u'FR-077-004.bin.tif', u'FR-077-005.bin.tif', u'FR-077-006.bin.tif', u'FR-077-007.bin.tif', u'FR-077-008.bin.tif', u'FR-078-001.bin.tif', u'FR-078-002.bin.tif', u'FR-078-003.bin.tif', u'FR-078-004.bin.tif', u'FR-078-005.bin.tif', u'FR-078-006.bin.tif', u'FR-078-007.bin.tif', u'FR-078-008.bin.tif', u'FR-079-001.bin.tif', u'FR-079-002.bin.tif', u'FR-079-003.bin.tif', u'FR-079-004.bin.tif', u'FR-079-005.bin.tif', u'FR-079-006.bin.tif', u'FR-079-007.bin.tif', u'FR-079-008.bin.tif', u'FR-081-001.bin.tif', u'FR-081-002.bin.tif', u'FR-081-003.bin.tif', u'FR-081-004.bin.tif', u'FR-081-005.bin.tif', u'FR-081-006.bin.tif', u'FR-081-007.bin.tif', u'FR-081-008.bin.tif', u'FR-082-001.bin.tif', u'FR-082-002.bin.tif', u'FR-082-003.bin.tif', u'FR-082-004.bin.tif', u'FR-082-005.bin.tif', u'FR-082-006.bin.tif', u'FR-082-007.bin.tif', u'FR-082-008.bin.tif', u'FR-083-001.bin.tif', u'FR-083-002.bin.tif', u'FR-083-003.bin.tif', u'FR-083-004.bin.tif', u'FR-083-005.bin.tif', u'FR-083-006.bin.tif', u'FR-083-007.bin.tif', u'FR-083-008.bin.tif', u'FR-084-001.bin.tif', u'FR-084-002.bin.tif', u'FR-084-003.bin.tif', u'FR-084-004.bin.tif', u'FR-084-005.bin.tif', u'FR-084-006.bin.tif', u'FR-084-007.bin.tif', u'FR-084-008.bin.tif', u'FR-085-001.bin.tif', u'FR-085-002.bin.tif', u'FR-085-003.bin.tif', u'FR-085-004.bin.tif', u'FR-085-005.bin.tif', u'FR-085-006.bin.tif', u'FR-085-007.bin.tif', u'FR-085-008.bin.tif', u'FR-086-001.bin.tif', u'FR-086-002.bin.tif', u'FR-086-003.bin.tif', u'FR-086-004.bin.tif', u'FR-086-005.bin.tif', u'FR-086-006.bin.tif', u'FR-086-007.bin.tif', u'FR-086-008.bin.tif', u'FR-087-001.bin.tif', u'FR-087-002.bin.tif', u'FR-087-003.bin.tif', u'FR-087-004.bin.tif', u'FR-087-005.bin.tif', u'FR-087-006.bin.tif', u'FR-087-007.bin.tif', u'FR-087-008.bin.tif', u'FR-088-001.bin.tif', u'FR-088-002.bin.tif', u'FR-088-003.bin.tif', u'FR-088-004.bin.tif', u'FR-088-005.bin.tif', u'FR-088-006.bin.tif', u'FR-088-007.bin.tif', u'FR-088-008.bin.tif', u'FR-089-001.bin.tif', u'FR-089-002.bin.tif', u'FR-089-003.bin.tif', u'FR-089-004.bin.tif', u'FR-089-005.bin.tif', u'FR-089-006.bin.tif', u'FR-089-007.bin.tif', u'FR-089-008.bin.tif', u'FR-090-001.bin.tif', u'FR-090-002.bin.tif', u'FR-090-003.bin.tif', u'FR-090-004.bin.tif', u'FR-090-005.bin.tif', u'FR-090-006.bin.tif', u'FR-090-007.bin.tif', u'FR-090-008.bin.tif', u'FR-091-001.bin.tif', u'FR-091-002.bin.tif', u'FR-091-003.bin.tif', u'FR-091-004.bin.tif', u'FR-091-005.bin.tif', u'FR-091-006.bin.tif', u'FR-091-007.bin.tif', u'FR-091-008.bin.tif', u'FR-092-001.bin.tif', u'FR-092-002.bin.tif', u'FR-092-003.bin.tif', u'FR-092-004.bin.tif', u'FR-092-005.bin.tif', u'FR-092-006.bin.tif', u'FR-092-007.bin.tif', u'FR-092-008.bin.tif', u'FR-093-001.bin.tif', u'FR-093-002.bin.tif', u'FR-093-003.bin.tif', u'FR-093-004.bin.tif', u'FR-093-005.bin.tif', u'FR-093-006.bin.tif', u'FR-093-007.bin.tif', u'FR-093-008.bin.tif', u'FR-094-001.bin.tif', u'FR-094-002.bin.tif', u'FR-094-003.bin.tif', u'FR-094-004.bin.tif', u'FR-094-005.bin.tif', u'FR-094-006.bin.tif', u'FR-094-007.bin.tif', u'FR-094-008.bin.tif', u'FR-095-001.bin.tif', u'FR-095-002.bin.tif', u'FR-095-003.bin.tif', u'FR-095-004.bin.tif', u'FR-095-005.bin.tif', u'FR-095-006.bin.tif', u'FR-095-007.bin.tif', u'FR-095-008.bin.tif', u'FR-098-001.bin.tif', u'FR-098-002.bin.tif', u'FR-098-003.bin.tif', u'FR-098-004.bin.tif', u'FR-098-005.bin.tif', u'FR-098-006.bin.tif', u'FR-098-007.bin.tif', u'FR-098-008.bin.tif', u'FR-099-001.bin.tif', u'FR-099-002.bin.tif', u'FR-099-003.bin.tif', u'FR-099-004.bin.tif', u'FR-099-005.bin.tif', u'FR-099-006.bin.tif', u'FR-099-007.bin.tif', u'FR-099-008.bin.tif', u'FR-100-001.bin.tif', u'FR-100-002.bin.tif', u'FR-100-003.bin.tif', u'FR-100-004.bin.tif', u'FR-100-005.bin.tif', u'FR-100-006.bin.tif', u'FR-100-007.bin.tif', u'FR-100-008.bin.tif']\n"
     ]
    }
   ],
   "source": [
    "labels = h5py.File(hdf5images).keys()"
   ]
  },
  {
   "cell_type": "markdown",
   "metadata": {},
   "source": [
    "### Load feature extractor neural network"
   ]
  },
  {
   "cell_type": "code",
   "execution_count": 11,
   "metadata": {
    "collapsed": false
   },
   "outputs": [
    {
     "name": "stdout",
     "output_type": "stream",
     "text": [
      "Establishing Fiel's verbatim network\n",
      "Loaded neural network up to fc7 layer\n"
     ]
    }
   ],
   "source": [
    "vnet = load_verbatimnet( 'fc7', paramsfile=paramsfile )\n",
    "vnet.compile(loss='mse', optimizer='sgd')"
   ]
  },
  {
   "cell_type": "markdown",
   "metadata": {},
   "source": [
    "### Image features\n",
    "\n",
    "Currently taken as averages of all shard features in the image. You can either load them or extract everything manually, depending on if you have the .npy array."
   ]
  },
  {
   "cell_type": "code",
   "execution_count": 22,
   "metadata": {
    "collapsed": false
   },
   "outputs": [
    {
     "name": "stdout",
     "output_type": "stream",
     "text": [
      "Loading features in from nmecdata/nmec_bw_fiel657_features_steps5_thresh.15.npy\n"
     ]
    },
    {
     "ename": "IOError",
     "evalue": "[Errno 2] No such file or directory: 'nmecdata/nmec_bw_fiel657_features_steps5_thresh.15.npy'",
     "output_type": "error",
     "traceback": [
      "\u001b[1;31m---------------------------------------------------------------------------\u001b[0m",
      "\u001b[1;31mIOError\u001b[0m                                   Traceback (most recent call last)",
      "\u001b[1;32m<ipython-input-22-e8db034316ef>\u001b[0m in \u001b[0;36m<module>\u001b[1;34m()\u001b[0m\n\u001b[0;32m      1\u001b[0m \u001b[1;32mif\u001b[0m \u001b[0mload_features\u001b[0m\u001b[1;33m:\u001b[0m\u001b[1;33m\u001b[0m\u001b[0m\n\u001b[0;32m      2\u001b[0m     \u001b[1;32mprint\u001b[0m \u001b[1;34m\"Loading features in from \"\u001b[0m\u001b[1;33m+\u001b[0m\u001b[0mfeaturefile\u001b[0m\u001b[1;33m\u001b[0m\u001b[0m\n\u001b[1;32m----> 3\u001b[1;33m     \u001b[0mimfeats\u001b[0m \u001b[1;33m=\u001b[0m \u001b[0mnp\u001b[0m\u001b[1;33m.\u001b[0m\u001b[0mload\u001b[0m\u001b[1;33m(\u001b[0m\u001b[0mfeaturefile\u001b[0m\u001b[1;33m)\u001b[0m\u001b[1;33m\u001b[0m\u001b[0m\n\u001b[0m\u001b[0;32m      4\u001b[0m     \u001b[1;32mprint\u001b[0m \u001b[1;34m\"Loaded features\"\u001b[0m\u001b[1;33m\u001b[0m\u001b[0m\n\u001b[0;32m      5\u001b[0m \u001b[1;32melse\u001b[0m\u001b[1;33m:\u001b[0m\u001b[1;33m\u001b[0m\u001b[0m\n",
      "\u001b[1;32m/usr/lib/python2.7/dist-packages/numpy/lib/npyio.pyc\u001b[0m in \u001b[0;36mload\u001b[1;34m(file, mmap_mode)\u001b[0m\n\u001b[0;32m    368\u001b[0m     \u001b[0mown_fid\u001b[0m \u001b[1;33m=\u001b[0m \u001b[0mFalse\u001b[0m\u001b[1;33m\u001b[0m\u001b[0m\n\u001b[0;32m    369\u001b[0m     \u001b[1;32mif\u001b[0m \u001b[0misinstance\u001b[0m\u001b[1;33m(\u001b[0m\u001b[0mfile\u001b[0m\u001b[1;33m,\u001b[0m \u001b[0mbasestring\u001b[0m\u001b[1;33m)\u001b[0m\u001b[1;33m:\u001b[0m\u001b[1;33m\u001b[0m\u001b[0m\n\u001b[1;32m--> 370\u001b[1;33m         \u001b[0mfid\u001b[0m \u001b[1;33m=\u001b[0m \u001b[0mopen\u001b[0m\u001b[1;33m(\u001b[0m\u001b[0mfile\u001b[0m\u001b[1;33m,\u001b[0m \u001b[1;34m\"rb\"\u001b[0m\u001b[1;33m)\u001b[0m\u001b[1;33m\u001b[0m\u001b[0m\n\u001b[0m\u001b[0;32m    371\u001b[0m         \u001b[0mown_fid\u001b[0m \u001b[1;33m=\u001b[0m \u001b[0mTrue\u001b[0m\u001b[1;33m\u001b[0m\u001b[0m\n\u001b[0;32m    372\u001b[0m     \u001b[1;32melif\u001b[0m \u001b[0misinstance\u001b[0m\u001b[1;33m(\u001b[0m\u001b[0mfile\u001b[0m\u001b[1;33m,\u001b[0m \u001b[0mgzip\u001b[0m\u001b[1;33m.\u001b[0m\u001b[0mGzipFile\u001b[0m\u001b[1;33m)\u001b[0m\u001b[1;33m:\u001b[0m\u001b[1;33m\u001b[0m\u001b[0m\n",
      "\u001b[1;31mIOError\u001b[0m: [Errno 2] No such file or directory: 'nmecdata/nmec_bw_fiel657_features_steps5_thresh.15.npy'"
     ]
    }
   ],
   "source": [
    "if load_features:\n",
    "    print \"Loading features in from \"+featurefile\n",
    "    imfeats = np.load(featurefile)\n",
    "    print \"Loaded features\"\n",
    "else:\n",
    "    print \"Begin extracting features from \"+hdf5images\n",
    "    imfeats = extract_imfeats( hdf5images, vnet, steps=(5,5), varthresh=0.35 )\n",
    "    print h5py.File(hdf5images).keys()\n",
    "    np.save( featurefile, imfeats )"
   ]
  },
  {
   "cell_type": "markdown",
   "metadata": {},
   "source": [
    "### Build classifier"
   ]
  },
  {
   "cell_type": "code",
   "execution_count": 16,
   "metadata": {
    "collapsed": false
   },
   "outputs": [],
   "source": [
    "imfeats = ( imfeats.T / np.linalg.norm( imfeats, axis=1 ) ).T\n",
    "F = imfeats.dot(imfeats.T)\n",
    "np.fill_diagonal( F , -1 )"
   ]
  },
  {
   "cell_type": "markdown",
   "metadata": {},
   "source": [
    "### Evaluate classifier on HDF5 file (ICDAR 2013)"
   ]
  },
  {
   "cell_type": "code",
   "execution_count": 17,
   "metadata": {
    "collapsed": false
   },
   "outputs": [
    {
     "ename": "ZeroDivisionError",
     "evalue": "float division by zero",
     "output_type": "error",
     "traceback": [
      "\u001b[1;31m---------------------------------------------------------------------------\u001b[0m",
      "\u001b[1;31mZeroDivisionError\u001b[0m                         Traceback (most recent call last)",
      "\u001b[1;32m<ipython-input-17-5d72737099dd>\u001b[0m in \u001b[0;36m<module>\u001b[1;34m()\u001b[0m\n\u001b[0;32m     20\u001b[0m \u001b[1;33m\u001b[0m\u001b[0m\n\u001b[0;32m     21\u001b[0m \u001b[1;31m# Print out results\u001b[0m\u001b[1;33m\u001b[0m\u001b[1;33m\u001b[0m\u001b[0m\n\u001b[1;32m---> 22\u001b[1;33m \u001b[1;32mprint\u001b[0m \u001b[1;34m\"Top %d (soft criteria) = %f\"\u001b[0m \u001b[1;33m%\u001b[0m\u001b[1;33m(\u001b[0m \u001b[0mk\u001b[0m\u001b[1;33m,\u001b[0m \u001b[1;33m(\u001b[0m\u001b[0msoftcorrect\u001b[0m\u001b[1;33m+\u001b[0m\u001b[1;36m0.0\u001b[0m\u001b[1;33m)\u001b[0m \u001b[1;33m/\u001b[0m \u001b[0mtotalnum\u001b[0m \u001b[1;33m)\u001b[0m\u001b[1;33m\u001b[0m\u001b[0m\n\u001b[0m\u001b[0;32m     23\u001b[0m \u001b[1;32mprint\u001b[0m \u001b[1;34m\"Top %d (hard criteria) = %f\"\u001b[0m \u001b[1;33m%\u001b[0m\u001b[1;33m(\u001b[0m \u001b[0mk\u001b[0m\u001b[1;33m,\u001b[0m \u001b[1;33m(\u001b[0m\u001b[0mhardcorrect\u001b[0m\u001b[1;33m+\u001b[0m\u001b[1;36m0.0\u001b[0m\u001b[1;33m)\u001b[0m \u001b[1;33m/\u001b[0m \u001b[0mtotalnum\u001b[0m \u001b[1;33m/\u001b[0m \u001b[0mmaxtop\u001b[0m \u001b[1;33m)\u001b[0m\u001b[1;33m\u001b[0m\u001b[0m\n",
      "\u001b[1;31mZeroDivisionError\u001b[0m: float division by zero"
     ]
    }
   ],
   "source": [
    "# Top k (soft criteria)\n",
    "k = 10\n",
    "# Max top (hard criteria)\n",
    "maxtop = 2\n",
    "# Number of examples per image\n",
    "g = 8\n",
    "\n",
    "# Run through the adjacency matrix\n",
    "softcorrect = 0\n",
    "hardcorrect = 0\n",
    "totalnum = 0\n",
    "for j, i in enumerate(F):\n",
    "    topk = i.argsort()[-k:]\n",
    "    # Soft criteria\n",
    "    if j/g in topk/g:\n",
    "        softcorrect += 1\n",
    "    totalnum +=1\n",
    "    # Hard criteria\n",
    "    hardcorrect+= sum([1 for jj in (j/g == topk[-maxtop:]/g) if jj])\n",
    "    \n",
    "# Print out results    \n",
    "print \"Top %d (soft criteria) = %f\" %( k, (softcorrect+0.0) / totalnum )\n",
    "print \"Top %d (hard criteria) = %f\" %( k, (hardcorrect+0.0) / totalnum / maxtop )"
   ]
  },
  {
   "cell_type": "code",
   "execution_count": 20,
   "metadata": {
    "collapsed": false
   },
   "outputs": [
    {
     "data": {
      "text/plain": [
       "array([], shape=(0, 4096), dtype=float64)"
      ]
     },
     "execution_count": 20,
     "metadata": {},
     "output_type": "execute_result"
    }
   ],
   "source": [
    "imfeats"
   ]
  },
  {
   "cell_type": "code",
   "execution_count": null,
   "metadata": {
    "collapsed": true
   },
   "outputs": [],
   "source": []
  }
 ],
 "metadata": {
  "kernelspec": {
   "display_name": "Python 2",
   "language": "python",
   "name": "python2"
  },
  "language_info": {
   "codemirror_mode": {
    "name": "ipython",
    "version": 2
   },
   "file_extension": ".py",
   "mimetype": "text/x-python",
   "name": "python",
   "nbconvert_exporter": "python",
   "pygments_lexer": "ipython2",
   "version": "2.7.6"
  }
 },
 "nbformat": 4,
 "nbformat_minor": 0
}
