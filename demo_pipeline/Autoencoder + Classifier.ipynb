{
 "cells": [
  {
   "cell_type": "code",
   "execution_count": null,
   "metadata": {
    "collapsed": false
   },
   "outputs": [],
   "source": [
    "import keras\n",
    "import theano\n",
    "import numpy as np\n",
    "from itertools import islice, izip\n",
    "\n",
    "import sys\n",
    "sys.path.append('..')\n",
    "from data_iters.archive.iam_iterator import IAM_MiniBatcher\n",
    "from data_iters.archive.minibatcher import MiniBatcher"
   ]
  },
  {
   "cell_type": "code",
   "execution_count": null,
   "metadata": {
    "collapsed": false
   },
   "outputs": [],
   "source": [
    "from keras.layers import Dense, Flatten, Convolution2D, Activation\n",
    "from keras.models import Graph, Sequential\n",
    "from keras.objectives import mean_squared_error, binary_crossentropy, categorical_crossentropy\n",
    "from keras.optimizers import SGD\n",
    "\n",
    "from keras.utils.np_utils import to_categorical"
   ]
  },
  {
   "cell_type": "code",
   "execution_count": null,
   "metadata": {
    "collapsed": false
   },
   "outputs": [],
   "source": [
    "%pylab inline"
   ]
  },
  {
   "cell_type": "code",
   "execution_count": null,
   "metadata": {
    "collapsed": false
   },
   "outputs": [],
   "source": [
    "hdf5authors=\"/fileserver/iam/iam-processed/writing/authors_writing.hdf5\"\n",
    "num_authors=100\n",
    "num_forms_per_author=5\n",
    "shingle_dim=(56,56)\n",
    "batch_size=12000\n",
    "nb_epochs=10000\n",
    "mini_m = IAM_MiniBatcher(hdf5authors, num_authors, num_forms_per_author,\n",
    "                           shingle_dim=shingle_dim, default_mode=MiniBatcher.TRAIN,\n",
    "                           batch_size=batch_size,train_pct=0.5,test_pct=0.25,val_pct=0.25)\n"
   ]
  },
  {
   "cell_type": "code",
   "execution_count": null,
   "metadata": {
    "collapsed": false
   },
   "outputs": [],
   "source": [
    "def gen_data(img_shape):\n",
    "    canvas = np.zeros(img_shape)\n",
    "    # choose label\n",
    "    label = np.random.randint(0, 2)\n",
    "    if label == 0:\n",
    "        for i in canvas.shape[0]:\n",
    "            for j in canvas.shape[1]:\n",
    "                canvas = i + j\n",
    "    \n",
    "def make_graph(input_name, img_shape):\n",
    "    graph = Graph()\n",
    "    graph.add_input(name=input_name, input_shape=img_shape)\n",
    "    return graph\n",
    "\n",
    "def autoencoder_layers(graph, input_name, img_shape):\n",
    "    graph.add_node(Flatten(), name='dnae_flatten1', input=input_name)\n",
    "    graph.add_node(Dense(2000, activation='relu'), name='dnae_dense2', input='dnae_flatten1')\n",
    "    graph.add_node(Dense(750, activation='relu'), name='dnae_dense3',  input='dnae_dense2')\n",
    "    graph.add_node(Dense(1500, activation='relu'), name='dnae_dense4', input='dnae_dense3')\n",
    "    graph.add_node(Dense(2500, activation='relu'), name='dnae_dense5', input='dnae_dense4')\n",
    "    graph.add_node(Dense(np.prod(img_shape), activation='sigmoid'), name='dnae_reconstruction4', input='dnae_dense5')\n",
    "    return 'dnae_reconstruction4'\n",
    "\n",
    "def classifier_layers(graph, input_name, output_size):\n",
    "    graph.add_node(Flatten(), 'cls_flatten1', input=input_name)\n",
    "    graph.add_node(Dense(2000, activation='relu'), name='cls_dense2', input='cls_flatten1')\n",
    "    graph.add_node(Dense(output_size, activation='sigmoid'), name='cls_dense3', input='cls_dense2')\n",
    "    return 'cls_dense3'\n",
    "\n",
    "scale_coef=2.0\n",
    "def recon_loss(*args):\n",
    "    return scale_coef * mean_squared_error(*args)\n",
    "\n",
    "def tie_a_bow(graph, rc_layer_name, cl_layer_name):\n",
    "    graph.add_output(name='rc_output', input=rc_layer_name)\n",
    "    graph.add_output(name='cl_output', input=cl_layer_name)\n",
    "    losses = { 'rc_output': recon_loss, 'cl_output': categorical_crossentropy }\n",
    "    optimizer = SGD(lr=0.001, decay = 1e-6, momentum=0.9)\n",
    "    graph.compile(optimizer=optimizer, loss=losses)\n",
    "    return ['rc_output', 'cl_output']\n",
    "    \n",
    "def do_fitting(graph, batcher, nb_epochs, input_name, rc_output_name, cl_output_name, output_size):\n",
    "    model_input = graph.get_input(train=False)['img_input']\n",
    "    model_output = graph.nodes['dnae_reconstruction4'].get_output(train=False)\n",
    "    getrecon = theano.function([model_input], model_output, allow_input_downcast=True)\n",
    "\n",
    "    for i in range(nb_epochs):\n",
    "        (X_train,Y_train) = batcher.get_train_batch()\n",
    "        X_train = 1. - (X_train/255.)\n",
    "        #X_train = np.expand_dims(X_train, 1)\n",
    "        X_rec = X_train.reshape((X_train.shape[0], -1))[:]\n",
    "        Y_train = to_categorical(Y_train, output_size)\n",
    "        data_hash = {input_name: X_train, \n",
    "                     rc_output_name: X_rec,\n",
    "                     cl_output_name: Y_train}\n",
    "        recons = getrecon(X_train[:5])\n",
    "        plt.figure()\n",
    "        for j,(img,recon) in enumerate(zip(X_train[:5],recons)):\n",
    "            plt.subplot(2,5,j+1)\n",
    "            plt.imshow(img.reshape(X_train.shape[1],-1), cmap='gray')\n",
    "            plt.subplot(2,5,5+j+1)\n",
    "            plt.imshow(recon.reshape(X_train.shape[1],-1), cmap='gray')\n",
    "        plt.show()\n",
    "        history = graph.fit(data=data_hash, batch_size=X_train.shape[0], nb_epoch=1, verbose=2, validation_split=0.05)\n"
   ]
  },
  {
   "cell_type": "code",
   "execution_count": null,
   "metadata": {
    "collapsed": false
   },
   "outputs": [],
   "source": [
    "\n",
    "input_name='img_input'\n",
    "graph = make_graph(input_name, shingle_dim)\n",
    "rc_layer_name = autoencoder_layers(graph, input_name, shingle_dim)\n",
    "cl_layer_name = classifier_layers(graph, input_name, num_authors)\n",
    "rc_output_name, cl_output_name = tie_a_bow(graph, rc_layer_name, cl_layer_name)"
   ]
  },
  {
   "cell_type": "code",
   "execution_count": null,
   "metadata": {
    "collapsed": false,
    "scrolled": false
   },
   "outputs": [],
   "source": [
    "do_fitting(graph, mini_m, nb_epochs, input_name, rc_output_name, cl_output_name, num_authors)"
   ]
  },
  {
   "cell_type": "code",
   "execution_count": null,
   "metadata": {
    "collapsed": true
   },
   "outputs": [],
   "source": []
  }
 ],
 "metadata": {
  "kernelspec": {
   "display_name": "Python 2",
   "language": "python",
   "name": "python2"
  },
  "language_info": {
   "codemirror_mode": {
    "name": "ipython",
    "version": 2
   },
   "file_extension": ".py",
   "mimetype": "text/x-python",
   "name": "python",
   "nbconvert_exporter": "python",
   "pygments_lexer": "ipython2",
   "version": "2.7.9"
  }
 },
 "nbformat": 4,
 "nbformat_minor": 0
}
