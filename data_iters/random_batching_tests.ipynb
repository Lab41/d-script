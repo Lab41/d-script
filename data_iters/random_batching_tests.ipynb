{
 "cells": [
  {
   "cell_type": "code",
   "execution_count": null,
   "metadata": {
    "collapsed": false
   },
   "outputs": [],
   "source": [
    "%pylab inline\n",
    "#import iam_hdf5_iterator\n",
    "import hdf5_iterator\n",
    "reload(hdf5_iterator)\n",
    "\n",
    "import logging\n",
    "#logging.getLogger().setLevel(logging.DEBUG)\n",
    "#logging.getLogger('hdf5_iterator').setLevel(logging.DEBUG)"
   ]
  },
  {
   "cell_type": "code",
   "execution_count": null,
   "metadata": {
    "collapsed": false,
    "scrolled": true
   },
   "outputs": [],
   "source": [
    "def plot_shingles(batch, nr_to_plot, nr_per_row=3):\n",
    "    nr_rows = nr_to_plot // nr_per_row + min(nr_to_plot % nr_per_row, 1)\n",
    "    for row_i in range(nr_rows):\n",
    "        for col_i in range(nr_per_row):\n",
    "            subplot_cell_id = row_i * nr_per_row + col_i + 1\n",
    "            # handle partial final row case\n",
    "            if subplot_cell_id > nr_to_plot:\n",
    "                break\n",
    "            \n",
    "            batch_img = batch[subplot_cell_id-1]\n",
    "            \n",
    "            plt.subplot(nr_rows, nr_per_row, subplot_cell_id)\n",
    "            plt.imshow(-batch_img, cmap=\"gray\")\n",
    "            plt.gca().axes.get_xaxis().set_ticks([])\n",
    "            plt.gca().axes.get_yaxis().set_ticks([])\n",
    "            \n",
    "    \n",
    "    \n",
    "def demo_nmec(nmec_hdf5,\n",
    "        shingle_size=(120,120),\n",
    "        batch_size=32,\n",
    "        num_authors=50,\n",
    "        num_forms_per_author=8):\n",
    "    print \"NMEC Iteration Demo\"\n",
    "    nmec_iterator = hdf5_iterator.Hdf5MiniBatcher(nmec_hdf5, \n",
    "                                                     num_authors=num_authors, \n",
    "                                                     num_forms_per_author=num_forms_per_author,\n",
    "                                                     shingle_dim=shingle_size,\n",
    "                                                     batch_size=batch_size,\n",
    "                                                     rng_seed=888,\n",
    "                                                     scale_factor=0.45,\n",
    "                                                     std_threshold=15.)    \n",
    "    print \"First batch: \"\n",
    "    mb = nmec_iterator.get_train_batch()\n",
    "    plt.figure(figsize=(9,3))\n",
    "    plot_shingles(mb[0], 18, 6)\n",
    "    plt.show()\n",
    "    print \"Next batch: \"\n",
    "    mb2 = nmec_iterator.get_train_batch()\n",
    "    plt.figure(figsize=(9,3))\n",
    "    plot_shingles(mb2[0], 18, 6)\n",
    "    plt.show()\n",
    "\n",
    "        \n",
    "def demo_iam(iam_hdf5,\n",
    "             shingle_size=(120,120),\n",
    "             batch_size=32,\n",
    "             num_authors=100,\n",
    "             num_forms_per_author=9):\n",
    "    print \"Sampling demo.\"\n",
    "    print \"Each batch should be different within iterations and identical across iterations.\"\n",
    "    for iter_i in range(3):\n",
    "        print \"Iteration {0}.................\".format(iter_i+1)\n",
    "        iam_iterator = hdf5_iterator.Hdf5MiniBatcher(iam_hdf5, \n",
    "                                                     num_authors=num_authors, \n",
    "                                                     num_forms_per_author=num_forms_per_author,\n",
    "                                                     shingle_dim=shingle_size,\n",
    "                                                     batch_size=batch_size,\n",
    "                                                     rng_seed=888)\n",
    "    \n",
    "        print \"First batch: \"\n",
    "        mb = iam_iterator.get_train_batch()\n",
    "        plt.figure(figsize=(9,3))\n",
    "        plot_shingles(mb[0], 18, 6)\n",
    "        plt.show()\n",
    "        print \"Next batch: \"\n",
    "        mb2 = iam_iterator.get_train_batch()\n",
    "        plt.figure(figsize=(9,3))\n",
    "        plot_shingles(mb2[0], 18, 6)\n",
    "        plt.show()\n",
    "        \n",
    "    print \"No repeats demo\"\n",
    "    print \"The probability of a repeated shingle in a single epoch should be very small.\"\n",
    "    iam_iterator = hdf5_iterator.Hdf5MiniBatcher(iam_hdf5, \n",
    "                                                     num_authors=num_authors, \n",
    "                                                     num_forms_per_author=num_forms_per_author,\n",
    "                                                     shingle_dim=shingle_size,\n",
    "                                                     batch_size=batch_size)\n",
    "    nr_iters = 5\n",
    "    unique_imgs = set()\n",
    "    for i in range(nr_iters):\n",
    "        print \"Batch {0}\".format(i)\n",
    "        mb = iam_iterator.get_train_batch()\n",
    "        plt.figure(figsize=(9,9))\n",
    "        plot_shingles(mb[0], batch_size, 6)\n",
    "        plt.show()\n",
    "        unique_imgs.update([mb[0][img_i].tostring() for img_i in range(batch_size)])\n",
    "        print \"**Unique shingles so far: {0} (should be {1})**\".format(len(unique_imgs), (i+1) * batch_size)\n",
    "\n",
    "def main():\n",
    "    #demo_iam(\"/fileserver/iam/iam-processed/lines/author_lines.hdf5\")\n",
    "    demo_nmec(\"/fileserver/nmec-handwriting/nmec.hdf5\")\n",
    "        \n",
    "    \n",
    "       \n",
    "    \n",
    "    "
   ]
  },
  {
   "cell_type": "code",
   "execution_count": null,
   "metadata": {
    "collapsed": false,
    "scrolled": false
   },
   "outputs": [],
   "source": [
    "# Main Test Cell\n",
    "main()"
   ]
  },
  {
   "cell_type": "code",
   "execution_count": null,
   "metadata": {
    "collapsed": true
   },
   "outputs": [],
   "source": []
  }
 ],
 "metadata": {
  "kernelspec": {
   "display_name": "Python 2",
   "language": "python",
   "name": "python2"
  },
  "language_info": {
   "codemirror_mode": {
    "name": "ipython",
    "version": 2
   },
   "file_extension": ".py",
   "mimetype": "text/x-python",
   "name": "python",
   "nbconvert_exporter": "python",
   "pygments_lexer": "ipython2",
   "version": "2.7.6"
  }
 },
 "nbformat": 4,
 "nbformat_minor": 0
}
