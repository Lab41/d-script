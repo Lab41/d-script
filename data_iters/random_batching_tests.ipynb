{
 "cells": [
  {
   "cell_type": "code",
   "execution_count": 1,
   "metadata": {
    "collapsed": false
   },
   "outputs": [
    {
     "name": "stdout",
     "output_type": "stream",
     "text": [
      "Populating the interactive namespace from numpy and matplotlib\n"
     ]
    }
   ],
   "source": [
    "import timeit\n",
    "%pylab inline\n",
    "#import iam_hdf5_iterator\n",
    "import hdf5_iterator\n",
    "reload(hdf5_iterator)\n",
    "import CoffeeStainer\n",
    "reload(CoffeeStainer)\n",
    "from PIL import Image\n",
    "import logging\n",
    "logging.getLogger().setLevel(logging.INFO)\n",
    "logging.getLogger('hdf5_iterator').setLevel(logging.INFO)\n",
    "logging.getLogger('hdf5_iterator.viz_tools.array_to_png').setLevel(logging.INFO)\n",
    "logging.getLogger('hdf5_iterator.minibatcher').setLevel(logging.INFO)"
   ]
  },
  {
   "cell_type": "code",
   "execution_count": 2,
   "metadata": {
    "collapsed": false,
    "scrolled": true
   },
   "outputs": [],
   "source": [
    "def plot_shingles(batch, nr_to_plot, nr_per_row=3):\n",
    "    nr_rows = nr_to_plot // nr_per_row + min(nr_to_plot % nr_per_row, 1)\n",
    "    for row_i in range(nr_rows):\n",
    "        for col_i in range(nr_per_row):\n",
    "            subplot_cell_id = row_i * nr_per_row + col_i + 1\n",
    "            # handle partial final row case\n",
    "            if subplot_cell_id > nr_to_plot:\n",
    "                break\n",
    "            \n",
    "            batch_img = batch[subplot_cell_id-1]\n",
    "            \n",
    "            plt.subplot(nr_rows, nr_per_row, subplot_cell_id)\n",
    "            plt.imshow(-batch_img, cmap=\"gray\")\n",
    "            plt.gca().axes.get_xaxis().set_ticks([])\n",
    "            plt.gca().axes.get_yaxis().set_ticks([])\n",
    "            \n",
    "    \n",
    "    \n",
    "def demo_nmec(nmec_hdf5,\n",
    "        shingle_size=(110,60),\n",
    "        batch_size=32,\n",
    "        num_authors=50,\n",
    "        num_forms_per_author=8,\n",
    "        stdev_threshold=10.,\n",
    "        add_rotation=True):\n",
    "    print \"NMEC Iteration Demo\"\n",
    "    #nmec_pre = hdf5_iterator.nmec_pre\n",
    "    nmec_pre=None\n",
    "    def nmec_post(x, **kwargs):\n",
    "        stainer = CoffeeStainer.CoffeeStainer()\n",
    "        x = stainer.get_rand_stain_w_random_brightness(Image.fromarray(x, 'L'), shingle_size, kwargs[\"rng\"])\n",
    "        x = hdf5_iterator.zero_one(x)\n",
    "        #x = hdf5_iterator.noise_for_example(x, extent=100, intensity=0.2, **kwargs)\n",
    "\n",
    "        return x\n",
    "    \n",
    "    nmec_iterator = hdf5_iterator.Hdf5MiniBatcher(nmec_hdf5, \n",
    "                         num_authors=num_authors, \n",
    "                         num_forms_per_author=num_forms_per_author,\n",
    "                         shingle_dim=shingle_size,\n",
    "                         batch_size=batch_size,\n",
    "                         rng_seed=888,\n",
    "                         preprocess=nmec_pre,\n",
    "                         postprocess=nmec_post,\n",
    "                         add_rotation=add_rotation,\n",
    "                         stdev_threshold=stdev_threshold)    \n",
    "    print \"First batch: \"\n",
    "    mb = nmec_iterator.get_train_batch()\n",
    "    plt.figure(figsize=(9,3))\n",
    "    plot_shingles(mb[0], 18, 6)\n",
    "    plt.show()\n",
    "    print \"Next batch: \"\n",
    "    mb2 = nmec_iterator.get_train_batch()\n",
    "    plt.figure(figsize=(9,3))\n",
    "    plot_shingles(mb2[0], 18, 6)\n",
    "    plt.show()\n",
    "\n",
    "        \n",
    "def demo_iam(iam_hdf5,\n",
    "             shingle_size=(120,120),\n",
    "             batch_size=32,\n",
    "             num_authors=100,\n",
    "             num_forms_per_author=9):\n",
    "    print \"Sampling demo.\"\n",
    "    print \"Each batch should be different within iterations and identical across iterations.\"\n",
    "    for iter_i in range(3):\n",
    "        print \"Iteration {0}.................\".format(iter_i+1)\n",
    "        iam_iterator = hdf5_iterator.Hdf5MiniBatcher(iam_hdf5, \n",
    "                         num_authors=num_authors, \n",
    "                         num_forms_per_author=num_forms_per_author,\n",
    "                         shingle_dim=shingle_size,\n",
    "                         batch_size=batch_size,\n",
    "                         rng_seed=888)\n",
    "    \n",
    "        print \"First batch: \"\n",
    "        get_t1 = time.clock()\n",
    "        mb = iam_iterator.get_train_batch()\n",
    "        get_t2 = time.clock()\n",
    "        print \"Time to retrieve: {0}\".format(get_t2-get_t1)\n",
    "        plt.figure(figsize=(9,3))\n",
    "        plot_shingles(mb[0], 18, 6)\n",
    "        plt.show()\n",
    "        print \"Next batch: \"\n",
    "        mb2 = iam_iterator.get_train_batch()\n",
    "        plt.figure(figsize=(9,3))\n",
    "        plot_shingles(mb2[0], 18, 6)\n",
    "        plt.show()\n",
    "        \n",
    "    print \"No repeats demo\"\n",
    "    print \"The probability of a repeated shingle in a single epoch should be very small.\"\n",
    "    iam_iterator = hdf5_iterator.Hdf5MiniBatcher(iam_hdf5, \n",
    "                     num_authors=num_authors, \n",
    "                     num_forms_per_author=num_forms_per_author,\n",
    "                     shingle_dim=shingle_size,\n",
    "                     batch_size=batch_size)\n",
    "    nr_iters = 5\n",
    "    unique_imgs = set()\n",
    "    for i in range(nr_iters):\n",
    "        print \"Batch {0}\".format(i)\n",
    "        mb = iam_iterator.get_train_batch()\n",
    "        plt.figure(figsize=(9,9))\n",
    "        plot_shingles(mb[0], batch_size, 6)\n",
    "        plt.show()\n",
    "        unique_imgs.update([mb[0][img_i].tostring() for img_i in range(batch_size)])\n",
    "        print \"**Unique shingles so far: {0} (should be {1})**\".format(len(unique_imgs), \n",
    "                                                                       (i+1) * batch_size)\n",
    "\n",
    "def main():\n",
    "    #demo_iam(\"/fileserver/iam/iam-processed/lines/author_lines.hdf5\")\n",
    "    demo_time = timeit.timeit(lambda: demo_nmec(\"/fileserver/nmec-handwriting/nmec_scaled_author_form.hdf5\", \n",
    "                                                stdev_threshold=None, add_rotation=False, shingle_size=(200,200)), number=1)\n",
    "    #demo_time = timeit.timeit(lambda: demo_nmec(\"/fileserver/nmec-handwriting/nmec.hdf5\"), number=1)\n",
    "    print \"{0} seconds\".format(demo_time)\n",
    "        \n",
    "    \n",
    "       \n",
    "    \n",
    "    "
   ]
  },
  {
   "cell_type": "code",
   "execution_count": 3,
   "metadata": {
    "collapsed": false,
    "scrolled": false
   },
   "outputs": [
    {
     "name": "stdout",
     "output_type": "stream",
     "text": [
      "NMEC Iteration Demo\n",
      "First batch: \n"
     ]
    },
    {
     "ename": "IOError",
     "evalue": "[Errno 2] No such file or directory: '/work/johnm/d-script/data_iters/coffee_stain_1.jpg'",
     "output_type": "error",
     "traceback": [
      "\u001b[1;31m---------------------------------------------------------------------------\u001b[0m",
      "\u001b[1;31mIOError\u001b[0m                                   Traceback (most recent call last)",
      "\u001b[1;32m<ipython-input-3-dcf0306fa5a3>\u001b[0m in \u001b[0;36m<module>\u001b[1;34m()\u001b[0m\n\u001b[0;32m      1\u001b[0m \u001b[1;31m# Main Test Cell\u001b[0m\u001b[1;33m\u001b[0m\u001b[1;33m\u001b[0m\u001b[0m\n\u001b[0;32m      2\u001b[0m \u001b[1;31m#%pdb on\u001b[0m\u001b[1;33m\u001b[0m\u001b[1;33m\u001b[0m\u001b[0m\n\u001b[1;32m----> 3\u001b[1;33m \u001b[0mmain\u001b[0m\u001b[1;33m(\u001b[0m\u001b[1;33m)\u001b[0m\u001b[1;33m\u001b[0m\u001b[0m\n\u001b[0m",
      "\u001b[1;32m<ipython-input-2-79f88a6667a2>\u001b[0m in \u001b[0;36mmain\u001b[1;34m()\u001b[0m\n\u001b[0;32m    109\u001b[0m     \u001b[1;31m#demo_iam(\"/fileserver/iam/iam-processed/lines/author_lines.hdf5\")\u001b[0m\u001b[1;33m\u001b[0m\u001b[1;33m\u001b[0m\u001b[0m\n\u001b[0;32m    110\u001b[0m     demo_time = timeit.timeit(lambda: demo_nmec(\"/fileserver/nmec-handwriting/nmec_scaled_author_form.hdf5\", \n\u001b[1;32m--> 111\u001b[1;33m                                                 stdev_threshold=None, add_rotation=False, shingle_size=(200,200)), number=1)\n\u001b[0m\u001b[0;32m    112\u001b[0m     \u001b[1;31m#demo_time = timeit.timeit(lambda: demo_nmec(\"/fileserver/nmec-handwriting/nmec.hdf5\"), number=1)\u001b[0m\u001b[1;33m\u001b[0m\u001b[1;33m\u001b[0m\u001b[0m\n\u001b[0;32m    113\u001b[0m     \u001b[1;32mprint\u001b[0m \u001b[1;34m\"{0} seconds\"\u001b[0m\u001b[1;33m.\u001b[0m\u001b[0mformat\u001b[0m\u001b[1;33m(\u001b[0m\u001b[0mdemo_time\u001b[0m\u001b[1;33m)\u001b[0m\u001b[1;33m\u001b[0m\u001b[0m\n",
      "\u001b[1;32m/usr/lib/python2.7/timeit.pyc\u001b[0m in \u001b[0;36mtimeit\u001b[1;34m(stmt, setup, timer, number)\u001b[0m\n\u001b[0;32m    228\u001b[0m            number=default_number):\n\u001b[0;32m    229\u001b[0m     \u001b[1;34m\"\"\"Convenience function to create Timer object and call timeit method.\"\"\"\u001b[0m\u001b[1;33m\u001b[0m\u001b[0m\n\u001b[1;32m--> 230\u001b[1;33m     \u001b[1;32mreturn\u001b[0m \u001b[0mTimer\u001b[0m\u001b[1;33m(\u001b[0m\u001b[0mstmt\u001b[0m\u001b[1;33m,\u001b[0m \u001b[0msetup\u001b[0m\u001b[1;33m,\u001b[0m \u001b[0mtimer\u001b[0m\u001b[1;33m)\u001b[0m\u001b[1;33m.\u001b[0m\u001b[0mtimeit\u001b[0m\u001b[1;33m(\u001b[0m\u001b[0mnumber\u001b[0m\u001b[1;33m)\u001b[0m\u001b[1;33m\u001b[0m\u001b[0m\n\u001b[0m\u001b[0;32m    231\u001b[0m \u001b[1;33m\u001b[0m\u001b[0m\n\u001b[0;32m    232\u001b[0m def repeat(stmt=\"pass\", setup=\"pass\", timer=default_timer,\n",
      "\u001b[1;32m/usr/lib/python2.7/timeit.pyc\u001b[0m in \u001b[0;36mtimeit\u001b[1;34m(self, number)\u001b[0m\n\u001b[0;32m    193\u001b[0m         \u001b[0mgc\u001b[0m\u001b[1;33m.\u001b[0m\u001b[0mdisable\u001b[0m\u001b[1;33m(\u001b[0m\u001b[1;33m)\u001b[0m\u001b[1;33m\u001b[0m\u001b[0m\n\u001b[0;32m    194\u001b[0m         \u001b[1;32mtry\u001b[0m\u001b[1;33m:\u001b[0m\u001b[1;33m\u001b[0m\u001b[0m\n\u001b[1;32m--> 195\u001b[1;33m             \u001b[0mtiming\u001b[0m \u001b[1;33m=\u001b[0m \u001b[0mself\u001b[0m\u001b[1;33m.\u001b[0m\u001b[0minner\u001b[0m\u001b[1;33m(\u001b[0m\u001b[0mit\u001b[0m\u001b[1;33m,\u001b[0m \u001b[0mself\u001b[0m\u001b[1;33m.\u001b[0m\u001b[0mtimer\u001b[0m\u001b[1;33m)\u001b[0m\u001b[1;33m\u001b[0m\u001b[0m\n\u001b[0m\u001b[0;32m    196\u001b[0m         \u001b[1;32mfinally\u001b[0m\u001b[1;33m:\u001b[0m\u001b[1;33m\u001b[0m\u001b[0m\n\u001b[0;32m    197\u001b[0m             \u001b[1;32mif\u001b[0m \u001b[0mgcold\u001b[0m\u001b[1;33m:\u001b[0m\u001b[1;33m\u001b[0m\u001b[0m\n",
      "\u001b[1;32m/usr/lib/python2.7/timeit.pyc\u001b[0m in \u001b[0;36minner\u001b[1;34m(_it, _timer, _func)\u001b[0m\n\u001b[0;32m     98\u001b[0m         \u001b[0m_t0\u001b[0m \u001b[1;33m=\u001b[0m \u001b[0m_timer\u001b[0m\u001b[1;33m(\u001b[0m\u001b[1;33m)\u001b[0m\u001b[1;33m\u001b[0m\u001b[0m\n\u001b[0;32m     99\u001b[0m         \u001b[1;32mfor\u001b[0m \u001b[0m_i\u001b[0m \u001b[1;32min\u001b[0m \u001b[0m_it\u001b[0m\u001b[1;33m:\u001b[0m\u001b[1;33m\u001b[0m\u001b[0m\n\u001b[1;32m--> 100\u001b[1;33m             \u001b[0m_func\u001b[0m\u001b[1;33m(\u001b[0m\u001b[1;33m)\u001b[0m\u001b[1;33m\u001b[0m\u001b[0m\n\u001b[0m\u001b[0;32m    101\u001b[0m         \u001b[0m_t1\u001b[0m \u001b[1;33m=\u001b[0m \u001b[0m_timer\u001b[0m\u001b[1;33m(\u001b[0m\u001b[1;33m)\u001b[0m\u001b[1;33m\u001b[0m\u001b[0m\n\u001b[0;32m    102\u001b[0m         \u001b[1;32mreturn\u001b[0m \u001b[0m_t1\u001b[0m \u001b[1;33m-\u001b[0m \u001b[0m_t0\u001b[0m\u001b[1;33m\u001b[0m\u001b[0m\n",
      "\u001b[1;32m<ipython-input-2-79f88a6667a2>\u001b[0m in \u001b[0;36m<lambda>\u001b[1;34m()\u001b[0m\n\u001b[0;32m    109\u001b[0m     \u001b[1;31m#demo_iam(\"/fileserver/iam/iam-processed/lines/author_lines.hdf5\")\u001b[0m\u001b[1;33m\u001b[0m\u001b[1;33m\u001b[0m\u001b[0m\n\u001b[0;32m    110\u001b[0m     demo_time = timeit.timeit(lambda: demo_nmec(\"/fileserver/nmec-handwriting/nmec_scaled_author_form.hdf5\", \n\u001b[1;32m--> 111\u001b[1;33m                                                 stdev_threshold=None, add_rotation=False, shingle_size=(200,200)), number=1)\n\u001b[0m\u001b[0;32m    112\u001b[0m     \u001b[1;31m#demo_time = timeit.timeit(lambda: demo_nmec(\"/fileserver/nmec-handwriting/nmec.hdf5\"), number=1)\u001b[0m\u001b[1;33m\u001b[0m\u001b[1;33m\u001b[0m\u001b[0m\n\u001b[0;32m    113\u001b[0m     \u001b[1;32mprint\u001b[0m \u001b[1;34m\"{0} seconds\"\u001b[0m\u001b[1;33m.\u001b[0m\u001b[0mformat\u001b[0m\u001b[1;33m(\u001b[0m\u001b[0mdemo_time\u001b[0m\u001b[1;33m)\u001b[0m\u001b[1;33m\u001b[0m\u001b[0m\n",
      "\u001b[1;32m<ipython-input-2-79f88a6667a2>\u001b[0m in \u001b[0;36mdemo_nmec\u001b[1;34m(nmec_hdf5, shingle_size, batch_size, num_authors, num_forms_per_author, stdev_threshold, add_rotation)\u001b[0m\n\u001b[0;32m     46\u001b[0m                          stdev_threshold=stdev_threshold)    \n\u001b[0;32m     47\u001b[0m     \u001b[1;32mprint\u001b[0m \u001b[1;34m\"First batch: \"\u001b[0m\u001b[1;33m\u001b[0m\u001b[0m\n\u001b[1;32m---> 48\u001b[1;33m     \u001b[0mmb\u001b[0m \u001b[1;33m=\u001b[0m \u001b[0mnmec_iterator\u001b[0m\u001b[1;33m.\u001b[0m\u001b[0mget_train_batch\u001b[0m\u001b[1;33m(\u001b[0m\u001b[1;33m)\u001b[0m\u001b[1;33m\u001b[0m\u001b[0m\n\u001b[0m\u001b[0;32m     49\u001b[0m     \u001b[0mplt\u001b[0m\u001b[1;33m.\u001b[0m\u001b[0mfigure\u001b[0m\u001b[1;33m(\u001b[0m\u001b[0mfigsize\u001b[0m\u001b[1;33m=\u001b[0m\u001b[1;33m(\u001b[0m\u001b[1;36m9\u001b[0m\u001b[1;33m,\u001b[0m\u001b[1;36m3\u001b[0m\u001b[1;33m)\u001b[0m\u001b[1;33m)\u001b[0m\u001b[1;33m\u001b[0m\u001b[0m\n\u001b[0;32m     50\u001b[0m     \u001b[0mplot_shingles\u001b[0m\u001b[1;33m(\u001b[0m\u001b[0mmb\u001b[0m\u001b[1;33m[\u001b[0m\u001b[1;36m0\u001b[0m\u001b[1;33m]\u001b[0m\u001b[1;33m,\u001b[0m \u001b[1;36m18\u001b[0m\u001b[1;33m,\u001b[0m \u001b[1;36m6\u001b[0m\u001b[1;33m)\u001b[0m\u001b[1;33m\u001b[0m\u001b[0m\n",
      "\u001b[1;32m/work/code/repo/d-script/data_iters/hdf5_iterator.pyc\u001b[0m in \u001b[0;36mget_train_batch\u001b[1;34m(self, num_items)\u001b[0m\n\u001b[0;32m    253\u001b[0m         \u001b[1;32mif\u001b[0m \u001b[0mnum_items\u001b[0m \u001b[1;32mis\u001b[0m \u001b[0mNone\u001b[0m\u001b[1;33m:\u001b[0m\u001b[1;33m\u001b[0m\u001b[0m\n\u001b[0;32m    254\u001b[0m             \u001b[0mnum_items\u001b[0m \u001b[1;33m=\u001b[0m \u001b[0mself\u001b[0m\u001b[1;33m.\u001b[0m\u001b[0mbatch_size\u001b[0m\u001b[1;33m\u001b[0m\u001b[0m\n\u001b[1;32m--> 255\u001b[1;33m         \u001b[1;32mreturn\u001b[0m \u001b[0mself\u001b[0m\u001b[1;33m.\u001b[0m\u001b[0mget_batch\u001b[0m\u001b[1;33m(\u001b[0m\u001b[0mnum_items\u001b[0m\u001b[1;33m,\u001b[0m \u001b[0mMiniBatcher\u001b[0m\u001b[1;33m.\u001b[0m\u001b[0mTRAIN\u001b[0m\u001b[1;33m)\u001b[0m\u001b[1;33m\u001b[0m\u001b[0m\n\u001b[0m\u001b[0;32m    256\u001b[0m \u001b[1;33m\u001b[0m\u001b[0m\n\u001b[0;32m    257\u001b[0m     \u001b[1;32mdef\u001b[0m \u001b[0mget_val_batch\u001b[0m\u001b[1;33m(\u001b[0m\u001b[0mself\u001b[0m\u001b[1;33m,\u001b[0m \u001b[0mnum_items\u001b[0m\u001b[1;33m=\u001b[0m\u001b[0mNone\u001b[0m\u001b[1;33m)\u001b[0m\u001b[1;33m:\u001b[0m\u001b[1;33m\u001b[0m\u001b[0m\n",
      "\u001b[1;32m/work/code/repo/d-script/data_iters/hdf5_iterator.pyc\u001b[0m in \u001b[0;36mget_batch\u001b[1;34m(self, num_items, mode)\u001b[0m\n\u001b[0;32m    265\u001b[0m         \u001b[0mself\u001b[0m\u001b[1;33m.\u001b[0m\u001b[0mm\u001b[0m\u001b[1;33m.\u001b[0m\u001b[0mset_mode\u001b[0m\u001b[1;33m(\u001b[0m\u001b[0mmode\u001b[0m\u001b[1;33m)\u001b[0m\u001b[1;33m\u001b[0m\u001b[0m\n\u001b[0;32m    266\u001b[0m         \u001b[0mself\u001b[0m\u001b[1;33m.\u001b[0m\u001b[0mm\u001b[0m\u001b[1;33m.\u001b[0m\u001b[0mbatch_size\u001b[0m \u001b[1;33m=\u001b[0m \u001b[0mnum_items\u001b[0m\u001b[1;33m\u001b[0m\u001b[0m\n\u001b[1;32m--> 267\u001b[1;33m         \u001b[1;32mreturn\u001b[0m \u001b[0mself\u001b[0m\u001b[1;33m.\u001b[0m\u001b[0mm\u001b[0m\u001b[1;33m.\u001b[0m\u001b[0mget_batch\u001b[0m\u001b[1;33m(\u001b[0m\u001b[1;33m)\u001b[0m\u001b[1;33m\u001b[0m\u001b[0m\n\u001b[0m\u001b[0;32m    268\u001b[0m \u001b[1;33m\u001b[0m\u001b[0m\n\u001b[0;32m    269\u001b[0m \u001b[1;33m\u001b[0m\u001b[0m\n",
      "\u001b[1;32m/work/code/repo/d-script/data_iters/minibatcher.pyc\u001b[0m in \u001b[0;36mget_batch\u001b[1;34m(self)\u001b[0m\n\u001b[0;32m    132\u001b[0m             \u001b[0mtop_ind\u001b[0m \u001b[1;33m=\u001b[0m \u001b[0mself\u001b[0m\u001b[1;33m.\u001b[0m\u001b[0mname_2_id\u001b[0m\u001b[1;33m[\u001b[0m\u001b[0mtop_key\u001b[0m\u001b[1;33m]\u001b[0m\u001b[1;33m\u001b[0m\u001b[0m\n\u001b[0;32m    133\u001b[0m \u001b[1;33m\u001b[0m\u001b[0m\n\u001b[1;32m--> 134\u001b[1;33m             \u001b[0mdata\u001b[0m \u001b[1;33m=\u001b[0m \u001b[0mself\u001b[0m\u001b[1;33m.\u001b[0m\u001b[0mitem_getter\u001b[0m\u001b[1;33m(\u001b[0m\u001b[0mself\u001b[0m\u001b[1;33m.\u001b[0m\u001b[0mfIn\u001b[0m\u001b[1;33m,\u001b[0m \u001b[0mkey\u001b[0m\u001b[1;33m)\u001b[0m\u001b[1;33m\u001b[0m\u001b[0m\n\u001b[0m\u001b[0;32m    135\u001b[0m             \u001b[0mlogger\u001b[0m \u001b[1;33m=\u001b[0m \u001b[0mlogging\u001b[0m\u001b[1;33m.\u001b[0m\u001b[0mgetLogger\u001b[0m\u001b[1;33m(\u001b[0m\u001b[0m__name__\u001b[0m\u001b[1;33m)\u001b[0m\u001b[1;33m\u001b[0m\u001b[0m\n\u001b[0;32m    136\u001b[0m \u001b[1;33m\u001b[0m\u001b[0m\n",
      "\u001b[1;32m/work/code/repo/d-script/data_iters/hdf5_iterator.pyc\u001b[0m in \u001b[0;36m<lambda>\u001b[1;34m(f, key)\u001b[0m\n\u001b[0;32m    232\u001b[0m                                                                         \u001b[0mpostprocess\u001b[0m\u001b[1;33m=\u001b[0m\u001b[0mpostprocess\u001b[0m\u001b[1;33m,\u001b[0m\u001b[1;33m\u001b[0m\u001b[0m\n\u001b[0;32m    233\u001b[0m                                                                         \u001b[0mstdev_threshold\u001b[0m\u001b[1;33m=\u001b[0m\u001b[0mstdev_threshold\u001b[0m\u001b[1;33m,\u001b[0m\u001b[1;33m\u001b[0m\u001b[0m\n\u001b[1;32m--> 234\u001b[1;33m                                                                         add_rotation=add_rotation)\n\u001b[0m\u001b[0;32m    235\u001b[0m \u001b[1;33m\u001b[0m\u001b[0m\n\u001b[0;32m    236\u001b[0m         \u001b[0mself\u001b[0m\u001b[1;33m.\u001b[0m\u001b[0mbatch_size\u001b[0m \u001b[1;33m=\u001b[0m \u001b[0mbatch_size\u001b[0m\u001b[1;33m\u001b[0m\u001b[0m\n",
      "\u001b[1;32m/work/code/repo/d-script/data_iters/hdf5_iterator.pyc\u001b[0m in \u001b[0;36mshingle_item_getter\u001b[1;34m(f, key, shingle_dim, fill_value, rng, preprocess, postprocess, add_rotation, stdev_threshold)\u001b[0m\n\u001b[0;32m    163\u001b[0m \u001b[1;33m\u001b[0m\u001b[0m\n\u001b[0;32m    164\u001b[0m         \u001b[1;32mif\u001b[0m \u001b[0mpostprocess\u001b[0m \u001b[1;32mis\u001b[0m \u001b[1;32mnot\u001b[0m \u001b[0mNone\u001b[0m\u001b[1;33m:\u001b[0m\u001b[1;33m\u001b[0m\u001b[0m\n\u001b[1;32m--> 165\u001b[1;33m             \u001b[0moutput_arr\u001b[0m \u001b[1;33m=\u001b[0m \u001b[0mpostprocess\u001b[0m\u001b[1;33m(\u001b[0m\u001b[0moutput_arr\u001b[0m\u001b[1;33m,\u001b[0m \u001b[0mrng\u001b[0m\u001b[1;33m=\u001b[0m\u001b[0mrng\u001b[0m\u001b[1;33m,\u001b[0m \u001b[0mshingle_dim\u001b[0m\u001b[1;33m=\u001b[0m\u001b[0mshingle_dim\u001b[0m\u001b[1;33m)\u001b[0m\u001b[1;33m\u001b[0m\u001b[0m\n\u001b[0m\u001b[0;32m    166\u001b[0m \u001b[1;33m\u001b[0m\u001b[0m\n\u001b[0;32m    167\u001b[0m         \u001b[1;32mreturn\u001b[0m \u001b[0moutput_arr\u001b[0m\u001b[1;33m\u001b[0m\u001b[0m\n",
      "\u001b[1;32m<ipython-input-2-79f88a6667a2>\u001b[0m in \u001b[0;36mnmec_post\u001b[1;34m(x, **kwargs)\u001b[0m\n\u001b[0;32m     28\u001b[0m     \u001b[0mnmec_pre\u001b[0m\u001b[1;33m=\u001b[0m\u001b[0mNone\u001b[0m\u001b[1;33m\u001b[0m\u001b[0m\n\u001b[0;32m     29\u001b[0m     \u001b[1;32mdef\u001b[0m \u001b[0mnmec_post\u001b[0m\u001b[1;33m(\u001b[0m\u001b[0mx\u001b[0m\u001b[1;33m,\u001b[0m \u001b[1;33m**\u001b[0m\u001b[0mkwargs\u001b[0m\u001b[1;33m)\u001b[0m\u001b[1;33m:\u001b[0m\u001b[1;33m\u001b[0m\u001b[0m\n\u001b[1;32m---> 30\u001b[1;33m         \u001b[0mstainer\u001b[0m \u001b[1;33m=\u001b[0m \u001b[0mCoffeeStainer\u001b[0m\u001b[1;33m.\u001b[0m\u001b[0mCoffeeStainer\u001b[0m\u001b[1;33m(\u001b[0m\u001b[1;33m)\u001b[0m\u001b[1;33m\u001b[0m\u001b[0m\n\u001b[0m\u001b[0;32m     31\u001b[0m         \u001b[0mx\u001b[0m \u001b[1;33m=\u001b[0m \u001b[0mstainer\u001b[0m\u001b[1;33m.\u001b[0m\u001b[0mget_rand_stain_w_random_brightness\u001b[0m\u001b[1;33m(\u001b[0m\u001b[0mImage\u001b[0m\u001b[1;33m.\u001b[0m\u001b[0mfromarray\u001b[0m\u001b[1;33m(\u001b[0m\u001b[0mx\u001b[0m\u001b[1;33m,\u001b[0m \u001b[1;34m'L'\u001b[0m\u001b[1;33m)\u001b[0m\u001b[1;33m,\u001b[0m \u001b[0mshingle_size\u001b[0m\u001b[1;33m,\u001b[0m \u001b[0mkwargs\u001b[0m\u001b[1;33m[\u001b[0m\u001b[1;34m\"rng\"\u001b[0m\u001b[1;33m]\u001b[0m\u001b[1;33m)\u001b[0m\u001b[1;33m\u001b[0m\u001b[0m\n\u001b[0;32m     32\u001b[0m         \u001b[0mx\u001b[0m \u001b[1;33m=\u001b[0m \u001b[0mhdf5_iterator\u001b[0m\u001b[1;33m.\u001b[0m\u001b[0mzero_one\u001b[0m\u001b[1;33m(\u001b[0m\u001b[0mx\u001b[0m\u001b[1;33m)\u001b[0m\u001b[1;33m\u001b[0m\u001b[0m\n",
      "\u001b[1;32m/work/code/repo/d-script/data_iters/CoffeeStainer.pyc\u001b[0m in \u001b[0;36m__init__\u001b[1;34m(self)\u001b[0m\n\u001b[0;32m     14\u001b[0m \u001b[1;33m\u001b[0m\u001b[0m\n\u001b[0;32m     15\u001b[0m     \u001b[1;32mdef\u001b[0m \u001b[0m__init__\u001b[0m\u001b[1;33m(\u001b[0m\u001b[0mself\u001b[0m\u001b[1;33m)\u001b[0m\u001b[1;33m:\u001b[0m\u001b[1;33m\u001b[0m\u001b[0m\n\u001b[1;32m---> 16\u001b[1;33m         \u001b[0mself\u001b[0m\u001b[1;33m.\u001b[0m\u001b[0mstain\u001b[0m \u001b[1;33m=\u001b[0m \u001b[0mImage\u001b[0m\u001b[1;33m.\u001b[0m\u001b[0mopen\u001b[0m\u001b[1;33m(\u001b[0m\u001b[1;34m\"/work/johnm/d-script/data_iters/coffee_stain_1.jpg\"\u001b[0m\u001b[1;33m)\u001b[0m\u001b[1;33m.\u001b[0m\u001b[0mconvert\u001b[0m\u001b[1;33m(\u001b[0m\u001b[1;34m'RGBA'\u001b[0m\u001b[1;33m)\u001b[0m\u001b[1;33m\u001b[0m\u001b[0m\n\u001b[0m\u001b[0;32m     17\u001b[0m \u001b[1;33m\u001b[0m\u001b[0m\n\u001b[0;32m     18\u001b[0m     \u001b[1;32mdef\u001b[0m \u001b[0mget_rand_stain_w_random_brightness\u001b[0m\u001b[1;33m(\u001b[0m\u001b[0mself\u001b[0m\u001b[1;33m,\u001b[0m \u001b[0mshingle_img\u001b[0m\u001b[1;33m,\u001b[0m \u001b[0mshin_dim\u001b[0m\u001b[1;33m,\u001b[0m \u001b[0mrng\u001b[0m\u001b[1;33m)\u001b[0m\u001b[1;33m:\u001b[0m\u001b[1;33m\u001b[0m\u001b[0m\n",
      "\u001b[1;32m/usr/lib/python2.7/dist-packages/PIL/Image.pyc\u001b[0m in \u001b[0;36mopen\u001b[1;34m(fp, mode)\u001b[0m\n\u001b[0;32m   1994\u001b[0m     \u001b[1;32mif\u001b[0m \u001b[0misPath\u001b[0m\u001b[1;33m(\u001b[0m\u001b[0mfp\u001b[0m\u001b[1;33m)\u001b[0m\u001b[1;33m:\u001b[0m\u001b[1;33m\u001b[0m\u001b[0m\n\u001b[0;32m   1995\u001b[0m         \u001b[0mfilename\u001b[0m \u001b[1;33m=\u001b[0m \u001b[0mfp\u001b[0m\u001b[1;33m\u001b[0m\u001b[0m\n\u001b[1;32m-> 1996\u001b[1;33m         \u001b[0mfp\u001b[0m \u001b[1;33m=\u001b[0m \u001b[0mbuiltins\u001b[0m\u001b[1;33m.\u001b[0m\u001b[0mopen\u001b[0m\u001b[1;33m(\u001b[0m\u001b[0mfp\u001b[0m\u001b[1;33m,\u001b[0m \u001b[1;34m\"rb\"\u001b[0m\u001b[1;33m)\u001b[0m\u001b[1;33m\u001b[0m\u001b[0m\n\u001b[0m\u001b[0;32m   1997\u001b[0m     \u001b[1;32melse\u001b[0m\u001b[1;33m:\u001b[0m\u001b[1;33m\u001b[0m\u001b[0m\n\u001b[0;32m   1998\u001b[0m         \u001b[0mfilename\u001b[0m \u001b[1;33m=\u001b[0m \u001b[1;34m\"\"\u001b[0m\u001b[1;33m\u001b[0m\u001b[0m\n",
      "\u001b[1;31mIOError\u001b[0m: [Errno 2] No such file or directory: '/work/johnm/d-script/data_iters/coffee_stain_1.jpg'"
     ]
    }
   ],
   "source": [
    "# Main Test Cell\n",
    "#%pdb on\n",
    "main()"
   ]
  },
  {
   "cell_type": "code",
   "execution_count": null,
   "metadata": {
    "collapsed": true
   },
   "outputs": [],
   "source": []
  },
  {
   "cell_type": "code",
   "execution_count": null,
   "metadata": {
    "collapsed": true
   },
   "outputs": [],
   "source": []
  },
  {
   "cell_type": "code",
   "execution_count": null,
   "metadata": {
    "collapsed": true
   },
   "outputs": [],
   "source": []
  }
 ],
 "metadata": {
  "kernelspec": {
   "display_name": "Python 2",
   "language": "python",
   "name": "python2"
  },
  "language_info": {
   "codemirror_mode": {
    "name": "ipython",
    "version": 2
   },
   "file_extension": ".py",
   "mimetype": "text/x-python",
   "name": "python",
   "nbconvert_exporter": "python",
   "pygments_lexer": "ipython2",
   "version": "2.7.6"
  }
 },
 "nbformat": 4,
 "nbformat_minor": 0
}
