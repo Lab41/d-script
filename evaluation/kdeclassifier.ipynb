{
 "cells": [
  {
   "cell_type": "code",
   "execution_count": 1,
   "metadata": {
    "collapsed": false
   },
   "outputs": [],
   "source": [
    "import os, sys\n",
    "import matplotlib.pyplot as plt\n",
    "import numpy as np\n",
    "from sklearn import decomposition, manifold\n",
    "\n",
    "% matplotlib notebook"
   ]
  },
  {
   "cell_type": "code",
   "execution_count": 2,
   "metadata": {
    "collapsed": true
   },
   "outputs": [],
   "source": [
    "def compute_distance(x,y):\n",
    "    x = x / np.linalg.norm(x)\n",
    "    y = y / np.linalg.norm(y)\n",
    "    return np.linalg.norm(x-y)"
   ]
  },
  {
   "cell_type": "code",
   "execution_count": 3,
   "metadata": {
    "collapsed": true
   },
   "outputs": [],
   "source": [
    "def print_percentage(n, t):\n",
    "    sys.stdout.write('\\r')\n",
    "    sys.stdout.write(\"[%-20s] %d%%\" % ('=' * ((n * 20/t) + 1) , n * 100/t + 1 ))\n",
    "    sys.stdout.flush()"
   ]
  },
  {
   "cell_type": "code",
   "execution_count": 4,
   "metadata": {
    "collapsed": true
   },
   "outputs": [],
   "source": [
    "def norm_feat(feat):\n",
    "    norms = np.linalg.norm( feat, axis=1)\n",
    "    feat = (feat.T / norms.T).T\n",
    "    return feat[ ~np.isnan(feat[:,0]) ]"
   ]
  },
  {
   "cell_type": "code",
   "execution_count": null,
   "metadata": {
    "collapsed": false
   },
   "outputs": [
    {
     "name": "stdout",
     "output_type": "stream",
     "text": [
      "\r",
      "[=                   ] 1%"
     ]
    }
   ],
   "source": [
    "feature_dir = '/fileserver/nmec-handwriting/localfeatures/nmec_bw_denoised_cc_deNNiam_fiel657_min500/'\n",
    "#feature_dir = '/fileserver/nmec-handwriting/localfeatures/nmec_bw_cc_deNNiam_fiel657_min500'\n",
    "#feature_dir = '/fileserver/nmec-handwriting/localfeatures/nmec_bw_crop_cc_deNNiam120_fiel657-120'\n",
    "\n",
    "files = os.listdir(feature_dir)\n",
    "files.sort()\n",
    "files = files[:-1]\n",
    "\n",
    "C = np.zeros((len(files),len(files)))\n",
    "feature_map = []\n",
    "for i,filei in enumerate(files):\n",
    "    for j, filej in enumerate(files):\n",
    "        # Only calculate upper right hand triangle\n",
    "        if j <= i:\n",
    "            C[i,j] = -1\n",
    "            continue\n",
    "        feati = norm_feat( np.load(feature_dir + \"/\" + filei) )\n",
    "        featj = norm_feat( np.load(feature_dir + \"/\" + filej) )\n",
    "        Cij = np.exp( -feati.dot(featj.T) )\n",
    "        C[i,j] = Cij.sum() / np.prod(Cij.shape)\n",
    "    print_percentage(i, len(files))"
   ]
  },
  {
   "cell_type": "code",
   "execution_count": null,
   "metadata": {
    "collapsed": false
   },
   "outputs": [],
   "source": [
    "a = transform[0]\n",
    "b = transform[1]\n",
    "compute_min_distance(a,b)"
   ]
  },
  {
   "cell_type": "code",
   "execution_count": null,
   "metadata": {
    "collapsed": true
   },
   "outputs": [],
   "source": [
    "transform = feature_map"
   ]
  },
  {
   "cell_type": "code",
   "execution_count": null,
   "metadata": {
    "collapsed": false
   },
   "outputs": [],
   "source": [
    "metric = []\n",
    "for i, image in enumerate(transform):\n",
    "    metricline = [np.array([compute_distance(image, other) for other in transform])]\n",
    "    metric += metricline\n",
    "    print_percentage(i, len(transform))\n",
    "\n",
    "metric = np.array(metric)\n",
    "F = -metric\n",
    "np.fill_diagonal(F, -sys.maxint)"
   ]
  },
  {
   "cell_type": "code",
   "execution_count": null,
   "metadata": {
    "collapsed": false
   },
   "outputs": [],
   "source": [
    "soft_correct = 0\n",
    "hard_correct = 0\n",
    "total_num = 0\n",
    "\n",
    "k = 10\n",
    "g = 8\n",
    "max_top = 3\n",
    "\n",
    "for j, i in enumerate(F):\n",
    "    \n",
    "    total_num += 1\n",
    "    topk = i.argsort()[-k:]\n",
    "    \n",
    "    if files[j][:6] in (files[index][:6] for index in topk):\n",
    "        soft_correct += 1\n",
    "    \n",
    "    hardsample = list(files[index][3:6] for index in topk[-max_top:])\n",
    "    if len(set(hardsample)) == 1 and hardsample[0] == files[j][3:6]:\n",
    "        print \"%s matched %s\" % (files[j][3:10], hardsample)\n",
    "        hard_correct += 1\n",
    "\n",
    "print \"%-30s\" % ( \"-\" * 37 )\n",
    "print \"SOFT CRITERIA: Top %d\\t= %f\" %(k, (soft_correct + 0.0) / total_num)\n",
    "print \"HARD CRITERIA: Top %d\\t= %f\" %(max_top, (hard_correct + 0.0) / total_num)"
   ]
  },
  {
   "cell_type": "code",
   "execution_count": null,
   "metadata": {
    "collapsed": false
   },
   "outputs": [],
   "source": []
  },
  {
   "cell_type": "code",
   "execution_count": null,
   "metadata": {
    "collapsed": true
   },
   "outputs": [],
   "source": []
  }
 ],
 "metadata": {
  "kernelspec": {
   "display_name": "Python 2",
   "language": "python",
   "name": "python2"
  },
  "language_info": {
   "codemirror_mode": {
    "name": "ipython",
    "version": 2
   },
   "file_extension": ".py",
   "mimetype": "text/x-python",
   "name": "python",
   "nbconvert_exporter": "python",
   "pygments_lexer": "ipython2",
   "version": "2.7.6"
  }
 },
 "nbformat": 4,
 "nbformat_minor": 0
}
