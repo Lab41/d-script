{
 "cells": [
  {
   "cell_type": "code",
   "execution_count": 1,
   "metadata": {
    "collapsed": false
   },
   "outputs": [],
   "source": [
    "import os, sys\n",
    "import matplotlib.pyplot as plt\n",
    "import numpy as np\n",
    "from sklearn import decomposition, manifold\n",
    "\n",
    "% matplotlib notebook"
   ]
  },
  {
   "cell_type": "code",
   "execution_count": 2,
   "metadata": {
    "collapsed": true
   },
   "outputs": [],
   "source": [
    "def compute_distance(x,y):\n",
    "    x = x / np.linalg.norm(x)\n",
    "    y = y / np.linalg.norm(y)\n",
    "    return np.linalg.norm(x-y)"
   ]
  },
  {
   "cell_type": "code",
   "execution_count": 96,
   "metadata": {
    "collapsed": true
   },
   "outputs": [],
   "source": [
    "def compute_xcorr(x,y):\n",
    "    return x.dot(y.T).sum()"
   ]
  },
  {
   "cell_type": "code",
   "execution_count": 3,
   "metadata": {
    "collapsed": true
   },
   "outputs": [],
   "source": [
    "def print_percentage(n, t):\n",
    "    sys.stdout.write('\\r')\n",
    "    sys.stdout.write(\"[%-20s] %d%%\" % ('=' * ((n * 20/t) + 1) , n * 100/t + 1 ))\n",
    "    sys.stdout.flush()"
   ]
  },
  {
   "cell_type": "code",
   "execution_count": 4,
   "metadata": {
    "collapsed": true
   },
   "outputs": [],
   "source": [
    "def norm_feat(feat):\n",
    "    norms = np.linalg.norm( feat, axis=1)\n",
    "    feat = (feat.T / norms.T).T\n",
    "    return feat[ ~np.isnan(feat[:,0]) ]"
   ]
  },
  {
   "cell_type": "code",
   "execution_count": 79,
   "metadata": {
    "collapsed": false
   },
   "outputs": [],
   "source": [
    "# def norm_agg_feat(feat):\n",
    "def norm_agg_feat(x):\n",
    "    normx = np.linalg.norm(x.sum(axis=0))\n",
    "    return x/normx"
   ]
  },
  {
   "cell_type": "markdown",
   "metadata": {},
   "source": [
    "### Sum of Radial Basis Function similarities (RBFsim) effectively estimating kernel density estimate (KDE)\n",
    "\n",
    "1. For a given feature directory, read in numpy arrays\n",
    "2. Calculate upper right hand comparisons with RBF kernel function"
   ]
  },
  {
   "cell_type": "code",
   "execution_count": 80,
   "metadata": {
    "collapsed": false
   },
   "outputs": [
    {
     "name": "stdout",
     "output_type": "stream",
     "text": [
      "[====================] 100%"
     ]
    }
   ],
   "source": [
    "feature_dir = '/fileserver/nmec-handwriting/localfeatures/nmec_bw_denoised_cc_deNNiam_fiel657_min500/'\n",
    "#feature_dir = '/fileserver/nmec-handwriting/localfeatures/nmec_bw_cc_deNNiam_fiel657_min500'\n",
    "#feature_dir = '/fileserver/nmec-handwriting/localfeatures/nmec_bw_crop_cc_deNNiam120_fiel657-120'\n",
    "\n",
    "files = os.listdir(feature_dir)\n",
    "files.sort()\n",
    "files = files[:-1]\n",
    "\n",
    "C = np.zeros((len(files),len(files)))\n",
    "feature_map = {}\n",
    "for i,filei in enumerate(files):\n",
    "    feati = norm_agg_feat( np.load(feature_dir+\"/\"+filei) )\n",
    "    feature_map[filei] = feati\n",
    "    # for j, filej in enumerate(files):\n",
    "        # feati = norm_feat( np.load(feature_dir + \"/\" + filei) )\n",
    "        # featj = norm_feat( np.load(feature_dir + \"/\" + filej) )\n",
    "        # Cij = feati.dot(featj.T)\n",
    "        # C[i,j] = Cij.max(axis=0).mean()\n",
    "        # C[i,j] = feati.mean(axis=0).dot(featj.mean(axis=0))\n",
    "        \n",
    "        # feati = np.load(feature_dir+\"/\"+filei).mean(axis=0)\n",
    "        # featj = np.load(feature_dir+\"/\"+filej).mean(axis=0)\n",
    "        # C[i,j] = feati.dot(featj)\n",
    "        \n",
    "    print_percentage(i, len(files))"
   ]
  },
  {
   "cell_type": "code",
   "execution_count": 97,
   "metadata": {
    "collapsed": false
   },
   "outputs": [
    {
     "name": "stdout",
     "output_type": "stream",
     "text": [
      "[====================] 100%"
     ]
    }
   ],
   "source": [
    "metric = []\n",
    "for i, image in enumerate(feature_map):\n",
    "    metricline = [np.array([compute_xcorr(feature_map[image], feature_map[other]) for other in feature_map])]\n",
    "    metric += metricline\n",
    "    print_percentage(i, len(feature_map))\n",
    "\n",
    "metric = np.array(metric)\n",
    "F = -metric\n",
    "np.fill_diagonal(F, -sys.maxint)"
   ]
  },
  {
   "cell_type": "code",
   "execution_count": null,
   "metadata": {
    "collapsed": false
   },
   "outputs": [],
   "source": [
    "Csym = np.zeros(C.shape)\n",
    "Csym[:] = C\n",
    "for i in xrange(len(files)):\n",
    "    for j in xrange(len(files)):\n",
    "        if j > i:\n",
    "            Csym[j,i] = C[i,j]\n",
    "F = Csym"
   ]
  },
  {
   "cell_type": "code",
   "execution_count": 84,
   "metadata": {
    "collapsed": false
   },
   "outputs": [
    {
     "name": "stdout",
     "output_type": "stream",
     "text": [
      "[[-1.  0.  0. ...,  0.  0.  0.]\n",
      " [ 0. -1.  0. ...,  0.  0.  0.]\n",
      " [ 0.  0. -1. ...,  0.  0.  0.]\n",
      " ..., \n",
      " [ 0.  0.  0. ..., -1.  0.  0.]\n",
      " [ 0.  0.  0. ...,  0. -1.  0.]\n",
      " [ 0.  0.  0. ...,  0.  0. -1.]]\n"
     ]
    }
   ],
   "source": [
    "#feati.mean(axis=0).dot(featj.mean(axis=0))\n",
    "F = C\n",
    "np.fill_diagonal(F,-1)\n",
    "print F"
   ]
  },
  {
   "cell_type": "code",
   "execution_count": 85,
   "metadata": {
    "collapsed": false
   },
   "outputs": [
    {
     "name": "stdout",
     "output_type": "stream",
     "text": [
      "100-001 matched ['100']\n",
      "100-002 matched ['100']\n",
      "100-003 matched ['100']\n",
      "100-004 matched ['100']\n",
      "100-005 matched ['100']\n",
      "100-006 matched ['100']\n",
      "-------------------------------------\n",
      "SOFT CRITERIA: Top 10\t= 0.042433\n",
      "HARD CRITERIA: Top 1\t= 0.008487\n"
     ]
    }
   ],
   "source": [
    "soft_correct = 0\n",
    "hard_correct = 0\n",
    "total_num = 0\n",
    "\n",
    "k = 10\n",
    "g = 8\n",
    "max_top = 1\n",
    "\n",
    "for j, i in enumerate(F):\n",
    "    \n",
    "    #if not files[j][7:10]=='004':\n",
    "    #    continue\n",
    "    \n",
    "    total_num += 1\n",
    "    topk = i.argsort()[-k:]\n",
    "    \n",
    "    if files[j][:6] in (files[index][:6] for index in topk):\n",
    "        soft_correct += 1\n",
    "    \n",
    "    hardsample = list(files[index][3:6] for index in topk[-max_top:])\n",
    "    if len(set(hardsample)) == 1 and hardsample[0] == files[j][3:6]:\n",
    "        print \"%s matched %s\" % (files[j][3:10], hardsample)\n",
    "        hard_correct += 1\n",
    "\n",
    "print \"%-30s\" % ( \"-\" * 37 )\n",
    "print \"SOFT CRITERIA: Top %d\\t= %f\" %(k, (soft_correct + 0.0) / total_num)\n",
    "print \"HARD CRITERIA: Top %d\\t= %f\" %(max_top, (hard_correct + 0.0) / total_num)"
   ]
  },
  {
   "cell_type": "code",
   "execution_count": 95,
   "metadata": {
    "collapsed": false
   },
   "outputs": [
    {
     "data": {
      "text/plain": [
       "0.99999999999999922"
      ]
     },
     "execution_count": 95,
     "metadata": {},
     "output_type": "execute_result"
    }
   ],
   "source": [
    "feature_map[filei].dot(feature_map[filei].T).sum()"
   ]
  },
  {
   "cell_type": "code",
   "execution_count": 41,
   "metadata": {
    "collapsed": false
   },
   "outputs": [
    {
     "data": {
      "text/plain": [
       "'001'"
      ]
     },
     "execution_count": 41,
     "metadata": {},
     "output_type": "execute_result"
    }
   ],
   "source": [
    "files[0][7:10]"
   ]
  }
 ],
 "metadata": {
  "kernelspec": {
   "display_name": "Python 2",
   "language": "python",
   "name": "python2"
  },
  "language_info": {
   "codemirror_mode": {
    "name": "ipython",
    "version": 2
   },
   "file_extension": ".py",
   "mimetype": "text/x-python",
   "name": "python",
   "nbconvert_exporter": "python",
   "pygments_lexer": "ipython2",
   "version": "2.7.6"
  }
 },
 "nbformat": 4,
 "nbformat_minor": 0
}
