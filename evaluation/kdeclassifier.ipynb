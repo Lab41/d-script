{
 "cells": [
  {
   "cell_type": "code",
   "execution_count": 1,
   "metadata": {
    "collapsed": false
   },
   "outputs": [],
   "source": [
    "import os, sys\n",
    "import matplotlib.pyplot as plt\n",
    "import numpy as np\n",
    "from sklearn import decomposition, manifold\n",
    "\n",
    "% matplotlib notebook"
   ]
  },
  {
   "cell_type": "code",
   "execution_count": 2,
   "metadata": {
    "collapsed": true
   },
   "outputs": [],
   "source": [
    "def compute_distance(x,y):\n",
    "    x = x / np.linalg.norm(x)\n",
    "    y = y / np.linalg.norm(y)\n",
    "    return np.linalg.norm(x-y)"
   ]
  },
  {
   "cell_type": "code",
   "execution_count": 3,
   "metadata": {
    "collapsed": true
   },
   "outputs": [],
   "source": [
    "def print_percentage(n, t):\n",
    "    sys.stdout.write('\\r')\n",
    "    sys.stdout.write(\"[%-20s] %d%%\" % ('=' * ((n * 20/t) + 1) , n * 100/t + 1 ))\n",
    "    sys.stdout.flush()"
   ]
  },
  {
   "cell_type": "code",
   "execution_count": 4,
   "metadata": {
    "collapsed": true
   },
   "outputs": [],
   "source": [
    "k = 400"
   ]
  },
  {
   "cell_type": "code",
   "execution_count": 5,
   "metadata": {
    "collapsed": false
   },
   "outputs": [
    {
     "name": "stdout",
     "output_type": "stream",
     "text": [
      "[====================] 100%"
     ]
    },
    {
     "data": {
      "text/plain": [
       "(690, 300)"
      ]
     },
     "execution_count": 5,
     "metadata": {},
     "output_type": "execute_result"
    }
   ],
   "source": [
    "#feature_dir = '/fileserver/nmec-handwriting/localfeatures/nmec_bw_denoised_cc_deNNiam_fiel657_min500/'\n",
    "#feature_dir = '/fileserver/nmec-handwriting/localfeatures/nmec_bw_cc_deNNiam_fiel657_min500'\n",
    "feature_dir = '/fileserver/nmec-handwriting/localfeatures/nmec_bw_crop_cc_deNNiam120_fiel657-120'\n",
    "\n",
    "files = os.listdir(feature_dir)\n",
    "files.sort()\n",
    "\n",
    "feature_map = []\n",
    "for i,filename in enumerate(files):\n",
    "    path = feature_dir + \"/\" + filename\n",
    "    #if os.path.isfile(path) and ( '008.' not in filename ):\n",
    "    if os.path.isfile(path):\n",
    "        try:\n",
    "            feature_map.append( np.load(path).mean(axis=0) )\n",
    "        except:\n",
    "            feature_map.append( np.ones([1,4096]) * sys.maxint)\n",
    "    print_percentage(i, len(files))\n",
    "        \n",
    "feature_map = np.array(feature_map)\n",
    "feature_map.shape"
   ]
  },
  {
   "cell_type": "code",
   "execution_count": 33,
   "metadata": {
    "collapsed": false
   },
   "outputs": [
    {
     "data": {
      "text/plain": [
       "(358, 10)"
      ]
     },
     "execution_count": 33,
     "metadata": {},
     "output_type": "execute_result"
    }
   ],
   "source": [
    "pca = decomposition.PCA(n_components=k)\n",
    "transform = pca.fit_transform(feature_map)\n",
    "# transform = transform.T\n",
    "transform.shape"
   ]
  },
  {
   "cell_type": "code",
   "execution_count": null,
   "metadata": {
    "collapsed": false
   },
   "outputs": [],
   "source": [
    "a = transform[0]\n",
    "b = transform[1]\n",
    "compute_min_distance(a,b)"
   ]
  },
  {
   "cell_type": "code",
   "execution_count": 6,
   "metadata": {
    "collapsed": true
   },
   "outputs": [],
   "source": [
    "transform = feature_map"
   ]
  },
  {
   "cell_type": "code",
   "execution_count": 7,
   "metadata": {
    "collapsed": false
   },
   "outputs": [
    {
     "name": "stdout",
     "output_type": "stream",
     "text": [
      "[====================] 100%"
     ]
    }
   ],
   "source": [
    "metric = []\n",
    "for i, image in enumerate(transform):\n",
    "    metricline = [np.array([compute_distance(image, other) for other in transform])]\n",
    "    metric += metricline\n",
    "    print_percentage(i, len(transform))\n",
    "\n",
    "metric = np.array(metric)\n",
    "F = -metric\n",
    "np.fill_diagonal(F, -sys.maxint)"
   ]
  },
  {
   "cell_type": "code",
   "execution_count": 8,
   "metadata": {
    "collapsed": false
   },
   "outputs": [
    {
     "name": "stdout",
     "output_type": "stream",
     "text": [
      "-------------------------------------\n",
      "SOFT CRITERIA: Top 10\t= 0.242029\n",
      "HARD CRITERIA: Top 3\t= 0.000000\n"
     ]
    }
   ],
   "source": [
    "soft_correct = 0\n",
    "hard_correct = 0\n",
    "total_num = 0\n",
    "\n",
    "k = 10\n",
    "g = 8\n",
    "max_top = 3\n",
    "\n",
    "for j, i in enumerate(F):\n",
    "    \n",
    "    total_num += 1\n",
    "    topk = i.argsort()[-k:]\n",
    "    \n",
    "    if files[j][:6] in (files[index][:6] for index in topk):\n",
    "        soft_correct += 1\n",
    "    \n",
    "    hardsample = list(files[index][3:6] for index in topk[-max_top:])\n",
    "    if len(set(hardsample)) == 1 and hardsample[0] == files[j][3:6]:\n",
    "        print \"%s matched %s\" % (files[j][3:10], hardsample)\n",
    "        hard_correct += 1\n",
    "\n",
    "print \"%-30s\" % ( \"-\" * 37 )\n",
    "print \"SOFT CRITERIA: Top %d\\t= %f\" %(k, (soft_correct + 0.0) / total_num)\n",
    "print \"HARD CRITERIA: Top %d\\t= %f\" %(max_top, (hard_correct + 0.0) / total_num)"
   ]
  },
  {
   "cell_type": "code",
   "execution_count": null,
   "metadata": {
    "collapsed": false
   },
   "outputs": [],
   "source": []
  },
  {
   "cell_type": "code",
   "execution_count": null,
   "metadata": {
    "collapsed": true
   },
   "outputs": [],
   "source": []
  }
 ],
 "metadata": {
  "kernelspec": {
   "display_name": "Python 2",
   "language": "python",
   "name": "python2"
  },
  "language_info": {
   "codemirror_mode": {
    "name": "ipython",
    "version": 2
   },
   "file_extension": ".py",
   "mimetype": "text/x-python",
   "name": "python",
   "nbconvert_exporter": "python",
   "pygments_lexer": "ipython2",
   "version": "2.7.6"
  }
 },
 "nbformat": 4,
 "nbformat_minor": 0
}
