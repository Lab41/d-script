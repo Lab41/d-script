{
 "cells": [
  {
   "cell_type": "code",
   "execution_count": 2,
   "metadata": {
    "collapsed": false
   },
   "outputs": [],
   "source": [
    "import numpy as np\n",
    "import matplotlib.pyplot as plt\n",
    "import os, sys, time"
   ]
  },
  {
   "cell_type": "code",
   "execution_count": 3,
   "metadata": {
    "collapsed": false
   },
   "outputs": [],
   "source": [
    "def compute_distance(x,y):\n",
    "    m = np.empty([len(y),len(x)])\n",
    "    for i in range(len(y)):\n",
    "        # m[i] = np.linalg.norm(A-B[i], 1, axis=1)\n",
    "        m[i] = np.abs( x - y[i] ).sum(axis=1)\n",
    "    return np.min(m, axis = 0).sum() / len(x)"
   ]
  },
  {
   "cell_type": "code",
   "execution_count": 4,
   "metadata": {
    "collapsed": true
   },
   "outputs": [],
   "source": [
    "def print_percentage(n, t):\n",
    "    sys.stdout.write('\\r')\n",
    "    sys.stdout.write(\"[%-20s] %d%%\" % ('=' * ((n * 20/t) + 1) , n * 100/t + 1 ))\n",
    "    sys.stdout.flush()"
   ]
  },
  {
   "cell_type": "markdown",
   "metadata": {},
   "source": [
    "Load all features from all files within a directory"
   ]
  },
  {
   "cell_type": "code",
   "execution_count": 5,
   "metadata": {
    "collapsed": false
   },
   "outputs": [
    {
     "name": "stdout",
     "output_type": "stream",
     "text": [
      "[====================] 100%"
     ]
    }
   ],
   "source": [
    "feature_dir = '/fileserver/nmec-handwriting/localfeatures/first-pass/'\n",
    "\n",
    "files = os.listdir(feature_dir)\n",
    "files.sort()\n",
    "\n",
    "feature_map = []\n",
    "for i, filename in enumerate(files):\n",
    "    path = feature_dir + \"/\" + filename\n",
    "    if os.path.isfile(path):\n",
    "        try:\n",
    "            feature_map.append( np.load(path) )\n",
    "        except:\n",
    "            feature_map.append( np.ones([1,4096]) * sys.maxint)\n",
    "        print_percentage(i, len(files))\n",
    "feature_map = np.array(feature_map)"
   ]
  },
  {
   "cell_type": "markdown",
   "metadata": {},
   "source": [
    "Start comparing all the files to each other"
   ]
  },
  {
   "cell_type": "code",
   "execution_count": 6,
   "metadata": {
    "collapsed": false
   },
   "outputs": [
    {
     "name": "stdout",
     "output_type": "stream",
     "text": [
      "[====================] 100%"
     ]
    }
   ],
   "source": [
    "metric = []\n",
    "for i,image in enumerate(feature_map):\n",
    "    metricline = [np.array([compute_distance(image, other) for other in feature_map])]\n",
    "    metric += metricline\n",
    "    print_percentage(i, len(feature_map))\n",
    "\n",
    "metric = np.array(metric)\n",
    "F = -metric\n",
    "np.fill_diagonal(F, -sys.maxint)"
   ]
  },
  {
   "cell_type": "code",
   "execution_count": 7,
   "metadata": {
    "collapsed": false
   },
   "outputs": [
    {
     "data": {
      "text/plain": [
       "(708, 708)"
      ]
     },
     "execution_count": 7,
     "metadata": {},
     "output_type": "execute_result"
    }
   ],
   "source": [
    "metric.shape"
   ]
  },
  {
   "cell_type": "code",
   "execution_count": 9,
   "metadata": {
    "collapsed": false
   },
   "outputs": [
    {
     "name": "stdout",
     "output_type": "stream",
     "text": [
      "056-004 matched ['056', '056', '056']\n",
      "057-008 matched ['057', '057', '057']\n",
      "060-004 matched ['060', '060', '060']\n",
      "060-005 matched ['060', '060', '060']\n",
      "060-008 matched ['060', '060', '060']\n",
      "068-006 matched ['068', '068', '068']\n",
      "-------------------------------------\n",
      "SOFT CRITERIA: Top 10\t= 0.286723\n",
      "HARD CRITERIA: Top 3\t= 0.008475\n"
     ]
    }
   ],
   "source": [
    "soft_correct = 0\n",
    "hard_correct = 0\n",
    "total_num = 0\n",
    "\n",
    "k = 10\n",
    "g = 8\n",
    "max_top = 3\n",
    "\n",
    "for j, i in enumerate(F):\n",
    "    \n",
    "    total_num += 1\n",
    "    topk = i.argsort()[-k:]\n",
    "    \n",
    "    if files[j][:6] in (files[index][:6] for index in topk):\n",
    "        soft_correct += 1\n",
    "    \n",
    "    hardsample = list(files[index][3:6] for index in topk[-max_top:])\n",
    "    if len(set(hardsample)) == 1 and hardsample[0] == files[j][3:6]:\n",
    "        print \"%s matched %s\" % (files[j][3:10], hardsample)\n",
    "        hard_correct += 1\n",
    "\n",
    "print \"%-30s\" % ( \"-\" * 37 )\n",
    "print \"SOFT CRITERIA: Top %d\\t= %f\" %(k, (soft_correct + 0.0) / total_num)\n",
    "print \"HARD CRITERIA: Top %d\\t= %f\" %(max_top, (hard_correct + 0.0) / total_num)"
   ]
  },
  {
   "cell_type": "code",
   "execution_count": null,
   "metadata": {
    "collapsed": true
   },
   "outputs": [],
   "source": []
  }
 ],
 "metadata": {
  "kernelspec": {
   "display_name": "Python 2",
   "language": "python",
   "name": "python2"
  },
  "language_info": {
   "codemirror_mode": {
    "name": "ipython",
    "version": 2
   },
   "file_extension": ".py",
   "mimetype": "text/x-python",
   "name": "python",
   "nbconvert_exporter": "python",
   "pygments_lexer": "ipython2",
   "version": "2.7.6"
  }
 },
 "nbformat": 4,
 "nbformat_minor": 0
}
