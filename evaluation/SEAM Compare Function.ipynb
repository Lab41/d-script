{
 "cells": [
  {
   "cell_type": "code",
   "execution_count": 1,
   "metadata": {
    "collapsed": true
   },
   "outputs": [],
   "source": [
    "import numpy as np\n",
    "import matplotlib.pyplot as plt\n",
    "import os\n",
    "import sys"
   ]
  },
  {
   "cell_type": "code",
   "execution_count": 2,
   "metadata": {
    "collapsed": true
   },
   "outputs": [],
   "source": [
    "def compute_distance(x,y):\n",
    "    m = np.empty([len(y),len(x)])\n",
    "    for i in range(len(y)):\n",
    "        # m[i] = np.linalg.norm(A-B[i], 1, axis=1)\n",
    "        m[i] = np.abs( x - y[i] ).sum(axis=1)\n",
    "    return np.min(m, axis = 0).sum() / len(x)"
   ]
  },
  {
   "cell_type": "code",
   "execution_count": 3,
   "metadata": {
    "collapsed": false
   },
   "outputs": [],
   "source": [
    "#corpdir = '/fileserver/nmec-handwriting/stil-writing-corpus-processed/seamfeats/FR'\n",
    "corpdir = '/fileserver/icdar13/jimbo/processed/seamfeats/'\n",
    "#corpdir = '/fileserver/icdar13/jimbo/processed/TASfeats/'\n",
    "\n",
    "files = os.listdir(corpdir)\n",
    "files.sort()\n",
    "\n",
    "feature_map = []\n",
    "for filename in files:\n",
    "    path = corpdir + \"/\" + filename\n",
    "    if os.path.isfile(path):\n",
    "        feature_file = open(path, 'r').read().splitlines()\n",
    "        alphabet = np.array([np.fromstring(line, dtype=np.float32, sep=' ')[1:129] for line in feature_file])\n",
    "        feature_map.append(alphabet)\n",
    "feature_map = np.array(feature_map)"
   ]
  },
  {
   "cell_type": "code",
   "execution_count": 4,
   "metadata": {
    "collapsed": false
   },
   "outputs": [
    {
     "data": {
      "text/plain": [
       "(110, 128)"
      ]
     },
     "execution_count": 4,
     "metadata": {},
     "output_type": "execute_result"
    }
   ],
   "source": [
    "feature_map[0].shape"
   ]
  },
  {
   "cell_type": "code",
   "execution_count": 5,
   "metadata": {
    "collapsed": false
   },
   "outputs": [
    {
     "data": {
      "text/plain": [
       "0.77114568081769075"
      ]
     },
     "execution_count": 5,
     "metadata": {},
     "output_type": "execute_result"
    }
   ],
   "source": [
    "compute_distance(feature_map[0], feature_map[1])"
   ]
  },
  {
   "cell_type": "code",
   "execution_count": 6,
   "metadata": {
    "collapsed": false
   },
   "outputs": [],
   "source": [
    "metric = []\n",
    "for image in feature_map:\n",
    "    metricline = [np.array([compute_distance(image, other) for other in feature_map])]\n",
    "    metric += metricline\n",
    "\n",
    "metric = np.array(metric)\n",
    "F = -metric\n",
    "np.fill_diagonal(F, -sys.maxint)"
   ]
  },
  {
   "cell_type": "code",
   "execution_count": 7,
   "metadata": {
    "collapsed": false
   },
   "outputs": [
    {
     "name": "stdout",
     "output_type": "stream",
     "text": [
      "33\n",
      "48\n",
      "49\n",
      "50\n",
      "106\n",
      "154\n",
      "172\n",
      "189\n",
      "232\n",
      "234\n",
      "248\n",
      "249\n",
      "250\n",
      "251\n",
      "258\n",
      "263\n",
      "277\n",
      "366\n",
      "Top 10 = 0.992500\n",
      "Top 3 = 0.045000\n"
     ]
    }
   ],
   "source": [
    "soft_correct = 0\n",
    "hard_correct = 0\n",
    "total_num = 0\n",
    "\n",
    "k = 10\n",
    "g = 4\n",
    "max_top = g - 1\n",
    "\n",
    "for j, i in enumerate(F):\n",
    "    topk = i.argsort()[-k:]\n",
    "    if j/g in topk/g:\n",
    "        soft_correct += 1\n",
    "    total_num += 1\n",
    "    hardsample = sum([1 for jj in (j/g == topk[-max_top:]/g) if jj])\n",
    "    if hardsample == max_top:\n",
    "        hard_correct += 1\n",
    "        print j\n",
    "\n",
    "print \"Top %d = %f\" %(k, (soft_correct + 0.0) / total_num)\n",
    "print \"Top %d = %f\" %(max_top, (hard_correct + 0.0) / total_num)"
   ]
  }
 ],
 "metadata": {
  "kernelspec": {
   "display_name": "Python 2",
   "language": "python",
   "name": "python2"
  },
  "language_info": {
   "codemirror_mode": {
    "name": "ipython",
    "version": 2
   },
   "file_extension": ".py",
   "mimetype": "text/x-python",
   "name": "python",
   "nbconvert_exporter": "python",
   "pygments_lexer": "ipython2",
   "version": "2.7.6"
  }
 },
 "nbformat": 4,
 "nbformat_minor": 0
}
