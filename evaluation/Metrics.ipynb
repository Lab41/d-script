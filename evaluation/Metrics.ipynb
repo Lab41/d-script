{
 "cells": [
  {
   "cell_type": "code",
   "execution_count": 1,
   "metadata": {
    "collapsed": true
   },
   "outputs": [],
   "source": [
    "import numpy as np\n",
    "import os"
   ]
  },
  {
   "cell_type": "code",
   "execution_count": 2,
   "metadata": {
    "collapsed": true
   },
   "outputs": [],
   "source": [
    "corpdir = '/fileserver/icdar13/jimbo/processed/TASfeats/Comps'\n",
    "files = os.listdir(corpdir)"
   ]
  },
  {
   "cell_type": "code",
   "execution_count": 3,
   "metadata": {
    "collapsed": true
   },
   "outputs": [],
   "source": [
    "files.sort()\n",
    "metric = []"
   ]
  },
  {
   "cell_type": "code",
   "execution_count": 4,
   "metadata": {
    "collapsed": false
   },
   "outputs": [
    {
     "data": {
      "text/plain": [
       "['027_1.txt',\n",
       " '027_2.txt',\n",
       " '027_3.txt',\n",
       " '027_4.txt',\n",
       " '028_1.txt',\n",
       " '028_2.txt',\n",
       " '028_3.txt',\n",
       " '028_4.txt',\n",
       " '029_1.txt',\n",
       " '029_2.txt',\n",
       " '029_3.txt',\n",
       " '029_4.txt',\n",
       " '030_1.txt',\n",
       " '030_2.txt',\n",
       " '030_3.txt',\n",
       " '030_4.txt',\n",
       " '031_1.txt',\n",
       " '031_2.txt',\n",
       " '031_3.txt',\n",
       " '031_4.txt',\n",
       " '032_1.txt',\n",
       " '032_2.txt',\n",
       " '032_3.txt',\n",
       " '032_4.txt',\n",
       " '033_1.txt',\n",
       " '033_2.txt',\n",
       " '033_3.txt',\n",
       " '033_4.txt',\n",
       " '034_1.txt',\n",
       " '034_2.txt',\n",
       " '034_3.txt',\n",
       " '034_4.txt',\n",
       " '035_1.txt',\n",
       " '035_2.txt',\n",
       " '035_3.txt',\n",
       " '035_4.txt',\n",
       " '036_1.txt',\n",
       " '036_2.txt',\n",
       " '036_3.txt',\n",
       " '036_4.txt',\n",
       " '037_1.txt',\n",
       " '037_2.txt',\n",
       " '037_3.txt',\n",
       " '037_4.txt',\n",
       " '038_1.txt',\n",
       " '038_2.txt',\n",
       " '038_3.txt',\n",
       " '038_4.txt',\n",
       " '039_1.txt',\n",
       " '039_2.txt',\n",
       " '039_3.txt',\n",
       " '039_4.txt',\n",
       " '040_1.txt',\n",
       " '040_2.txt',\n",
       " '040_3.txt',\n",
       " '040_4.txt',\n",
       " '041_1.txt',\n",
       " '041_2.txt',\n",
       " '041_3.txt',\n",
       " '041_4.txt',\n",
       " '042_1.txt',\n",
       " '042_2.txt',\n",
       " '042_3.txt',\n",
       " '042_4.txt',\n",
       " '043_1.txt',\n",
       " '043_2.txt',\n",
       " '043_3.txt',\n",
       " '043_4.txt',\n",
       " '044_1.txt',\n",
       " '044_2.txt',\n",
       " '044_3.txt',\n",
       " '044_4.txt',\n",
       " '045_1.txt',\n",
       " '045_2.txt',\n",
       " '045_3.txt',\n",
       " '045_4.txt',\n",
       " '046_1.txt',\n",
       " '046_2.txt',\n",
       " '046_3.txt',\n",
       " '046_4.txt',\n",
       " '047_1.txt',\n",
       " '047_2.txt',\n",
       " '047_3.txt',\n",
       " '047_4.txt',\n",
       " '048_1.txt',\n",
       " '048_2.txt',\n",
       " '048_3.txt',\n",
       " '048_4.txt',\n",
       " '049_1.txt',\n",
       " '049_2.txt',\n",
       " '049_3.txt',\n",
       " '049_4.txt',\n",
       " '050_1.txt',\n",
       " '050_2.txt',\n",
       " '050_3.txt',\n",
       " '050_4.txt',\n",
       " '051_1.txt',\n",
       " '051_2.txt',\n",
       " '051_3.txt',\n",
       " '051_4.txt',\n",
       " '052_1.txt',\n",
       " '052_2.txt',\n",
       " '052_3.txt',\n",
       " '052_4.txt',\n",
       " '053_1.txt',\n",
       " '053_2.txt',\n",
       " '053_3.txt',\n",
       " '053_4.txt',\n",
       " '054_1.txt',\n",
       " '054_2.txt',\n",
       " '054_3.txt',\n",
       " '054_4.txt',\n",
       " '055_1.txt',\n",
       " '055_2.txt',\n",
       " '055_3.txt',\n",
       " '055_4.txt',\n",
       " '056_1.txt',\n",
       " '056_2.txt',\n",
       " '056_3.txt',\n",
       " '056_4.txt',\n",
       " '057_1.txt',\n",
       " '057_2.txt',\n",
       " '057_3.txt',\n",
       " '057_4.txt',\n",
       " '058_1.txt',\n",
       " '058_2.txt',\n",
       " '058_3.txt',\n",
       " '058_4.txt',\n",
       " '059_1.txt',\n",
       " '059_2.txt',\n",
       " '059_3.txt',\n",
       " '059_4.txt',\n",
       " '060_1.txt',\n",
       " '060_2.txt',\n",
       " '060_3.txt',\n",
       " '060_4.txt',\n",
       " '061_1.txt',\n",
       " '061_2.txt',\n",
       " '061_3.txt',\n",
       " '061_4.txt',\n",
       " '062_1.txt',\n",
       " '062_2.txt',\n",
       " '062_3.txt',\n",
       " '062_4.txt',\n",
       " '063_1.txt',\n",
       " '063_2.txt',\n",
       " '063_3.txt',\n",
       " '063_4.txt',\n",
       " '064_1.txt',\n",
       " '064_2.txt',\n",
       " '064_3.txt',\n",
       " '064_4.txt',\n",
       " '065_1.txt',\n",
       " '065_2.txt',\n",
       " '065_3.txt',\n",
       " '065_4.txt',\n",
       " '066_1.txt',\n",
       " '066_2.txt',\n",
       " '066_3.txt',\n",
       " '066_4.txt',\n",
       " '067_1.txt',\n",
       " '067_2.txt',\n",
       " '067_3.txt',\n",
       " '067_4.txt',\n",
       " '068_1.txt',\n",
       " '068_2.txt',\n",
       " '068_3.txt',\n",
       " '068_4.txt',\n",
       " '069_1.txt',\n",
       " '069_2.txt',\n",
       " '069_3.txt',\n",
       " '069_4.txt',\n",
       " '070_1.txt',\n",
       " '070_2.txt',\n",
       " '070_3.txt',\n",
       " '070_4.txt',\n",
       " '071_1.txt',\n",
       " '071_2.txt',\n",
       " '071_3.txt',\n",
       " '071_4.txt',\n",
       " '072_1.txt',\n",
       " '072_2.txt',\n",
       " '072_3.txt',\n",
       " '072_4.txt',\n",
       " '073_1.txt',\n",
       " '073_2.txt',\n",
       " '073_3.txt',\n",
       " '073_4.txt',\n",
       " '074_1.txt',\n",
       " '074_2.txt',\n",
       " '074_3.txt',\n",
       " '074_4.txt',\n",
       " '075_1.txt',\n",
       " '075_2.txt',\n",
       " '075_3.txt',\n",
       " '075_4.txt',\n",
       " '076_1.txt',\n",
       " '076_2.txt',\n",
       " '076_3.txt',\n",
       " '076_4.txt',\n",
       " '077_1.txt',\n",
       " '077_2.txt',\n",
       " '077_3.txt',\n",
       " '077_4.txt',\n",
       " '078_1.txt',\n",
       " '078_2.txt',\n",
       " '078_3.txt',\n",
       " '078_4.txt',\n",
       " '079_1.txt',\n",
       " '079_2.txt',\n",
       " '079_3.txt',\n",
       " '079_4.txt',\n",
       " '080_1.txt',\n",
       " '080_2.txt',\n",
       " '080_3.txt',\n",
       " '080_4.txt',\n",
       " '081_1.txt',\n",
       " '081_2.txt',\n",
       " '081_3.txt',\n",
       " '081_4.txt',\n",
       " '082_1.txt',\n",
       " '082_2.txt',\n",
       " '082_3.txt',\n",
       " '082_4.txt',\n",
       " '083_1.txt',\n",
       " '083_2.txt',\n",
       " '083_3.txt',\n",
       " '083_4.txt',\n",
       " '084_1.txt',\n",
       " '084_2.txt',\n",
       " '084_3.txt',\n",
       " '084_4.txt',\n",
       " '085_1.txt',\n",
       " '085_2.txt',\n",
       " '085_3.txt',\n",
       " '085_4.txt',\n",
       " '086_1.txt',\n",
       " '086_2.txt',\n",
       " '086_3.txt',\n",
       " '086_4.txt',\n",
       " '087_1.txt',\n",
       " '087_2.txt',\n",
       " '087_3.txt',\n",
       " '087_4.txt',\n",
       " '088_1.txt',\n",
       " '088_2.txt',\n",
       " '088_3.txt',\n",
       " '088_4.txt',\n",
       " '089_1.txt',\n",
       " '089_2.txt',\n",
       " '089_3.txt',\n",
       " '089_4.txt',\n",
       " '090_1.txt',\n",
       " '090_2.txt',\n",
       " '090_3.txt',\n",
       " '090_4.txt',\n",
       " '091_1.txt',\n",
       " '091_2.txt',\n",
       " '091_3.txt',\n",
       " '091_4.txt',\n",
       " '092_1.txt',\n",
       " '092_2.txt',\n",
       " '092_3.txt',\n",
       " '092_4.txt',\n",
       " '093_1.txt',\n",
       " '093_2.txt',\n",
       " '093_3.txt',\n",
       " '093_4.txt',\n",
       " '094_1.txt',\n",
       " '094_2.txt',\n",
       " '094_3.txt',\n",
       " '094_4.txt',\n",
       " '095_1.txt',\n",
       " '095_2.txt',\n",
       " '095_3.txt',\n",
       " '095_4.txt',\n",
       " '096_1.txt',\n",
       " '096_2.txt',\n",
       " '096_3.txt',\n",
       " '096_4.txt',\n",
       " '097_1.txt',\n",
       " '097_2.txt',\n",
       " '097_3.txt',\n",
       " '097_4.txt',\n",
       " '098_1.txt',\n",
       " '098_2.txt',\n",
       " '098_3.txt',\n",
       " '098_4.txt',\n",
       " '099_1.txt',\n",
       " '099_2.txt',\n",
       " '099_3.txt',\n",
       " '099_4.txt',\n",
       " '100_1.txt',\n",
       " '100_2.txt',\n",
       " '100_3.txt',\n",
       " '100_4.txt',\n",
       " '101_1.txt',\n",
       " '101_2.txt',\n",
       " '101_3.txt',\n",
       " '101_4.txt',\n",
       " '102_1.txt',\n",
       " '102_2.txt',\n",
       " '102_3.txt',\n",
       " '102_4.txt',\n",
       " '103_1.txt',\n",
       " '103_2.txt',\n",
       " '103_3.txt',\n",
       " '103_4.txt',\n",
       " '104_1.txt',\n",
       " '104_2.txt',\n",
       " '104_3.txt',\n",
       " '104_4.txt',\n",
       " '105_1.txt',\n",
       " '105_2.txt',\n",
       " '105_3.txt',\n",
       " '105_4.txt',\n",
       " '106_1.txt',\n",
       " '106_2.txt',\n",
       " '106_3.txt',\n",
       " '106_4.txt',\n",
       " '107_1.txt',\n",
       " '107_2.txt',\n",
       " '107_3.txt',\n",
       " '107_4.txt',\n",
       " '108_1.txt',\n",
       " '108_2.txt',\n",
       " '108_3.txt',\n",
       " '108_4.txt',\n",
       " '109_1.txt',\n",
       " '109_2.txt',\n",
       " '109_3.txt',\n",
       " '109_4.txt',\n",
       " '110_1.txt',\n",
       " '110_2.txt',\n",
       " '110_3.txt',\n",
       " '110_4.txt',\n",
       " '111_1.txt',\n",
       " '111_2.txt',\n",
       " '111_3.txt',\n",
       " '111_4.txt',\n",
       " '112_1.txt',\n",
       " '112_2.txt',\n",
       " '112_3.txt',\n",
       " '112_4.txt',\n",
       " '113_1.txt',\n",
       " '113_2.txt',\n",
       " '113_3.txt',\n",
       " '113_4.txt',\n",
       " '114_1.txt',\n",
       " '114_2.txt',\n",
       " '114_3.txt',\n",
       " '114_4.txt',\n",
       " '115_1.txt',\n",
       " '115_2.txt',\n",
       " '115_3.txt',\n",
       " '115_4.txt',\n",
       " '116_1.txt',\n",
       " '116_2.txt',\n",
       " '116_3.txt',\n",
       " '116_4.txt',\n",
       " '117_1.txt',\n",
       " '117_2.txt',\n",
       " '117_3.txt',\n",
       " '117_4.txt',\n",
       " '118_1.txt',\n",
       " '118_2.txt',\n",
       " '118_3.txt',\n",
       " '118_4.txt',\n",
       " '119_1.txt',\n",
       " '119_2.txt',\n",
       " '119_3.txt',\n",
       " '119_4.txt',\n",
       " '120_1.txt',\n",
       " '120_2.txt',\n",
       " '120_3.txt',\n",
       " '120_4.txt',\n",
       " '121_1.txt',\n",
       " '121_2.txt',\n",
       " '121_3.txt',\n",
       " '121_4.txt',\n",
       " '122_1.txt',\n",
       " '122_2.txt',\n",
       " '122_3.txt',\n",
       " '122_4.txt',\n",
       " '123_1.txt',\n",
       " '123_2.txt',\n",
       " '123_3.txt',\n",
       " '123_4.txt',\n",
       " '124_1.txt',\n",
       " '124_2.txt',\n",
       " '124_3.txt',\n",
       " '124_4.txt',\n",
       " '125_1.txt',\n",
       " '125_2.txt',\n",
       " '125_3.txt',\n",
       " '125_4.txt',\n",
       " '126_1.txt',\n",
       " '126_2.txt',\n",
       " '126_3.txt',\n",
       " '126_4.txt']"
      ]
     },
     "execution_count": 4,
     "metadata": {},
     "output_type": "execute_result"
    }
   ],
   "source": [
    "files"
   ]
  },
  {
   "cell_type": "code",
   "execution_count": 5,
   "metadata": {
    "collapsed": false
   },
   "outputs": [],
   "source": [
    "for filename in files:\n",
    "    corpfilename = corpdir + \"/\" + filename\n",
    "    corpfile = open(corpfilename, 'r').read().splitlines()\n",
    "    metricline = [np.array([corpline.split(' ')[1] for corpline in corpfile]).astype(np.float32)]\n",
    "    metric += metricline"
   ]
  },
  {
   "cell_type": "code",
   "execution_count": 6,
   "metadata": {
    "collapsed": false
   },
   "outputs": [],
   "source": [
    "metric = np.array(metric)"
   ]
  },
  {
   "cell_type": "code",
   "execution_count": 7,
   "metadata": {
    "collapsed": true
   },
   "outputs": [],
   "source": [
    "F = -metric"
   ]
  },
  {
   "cell_type": "code",
   "execution_count": 8,
   "metadata": {
    "collapsed": true
   },
   "outputs": [],
   "source": [
    "np.fill_diagonal(F, -1)"
   ]
  },
  {
   "cell_type": "code",
   "execution_count": 9,
   "metadata": {
    "collapsed": false
   },
   "outputs": [
    {
     "data": {
      "text/plain": [
       "array([[-1.       , -0.0490867, -0.0540987, ..., -0.0670812, -0.0713386,\n",
       "        -0.0675054],\n",
       "       [-0.0490867, -1.       , -0.0500069, ..., -0.0619037, -0.0658001,\n",
       "        -0.0636483],\n",
       "       [-0.0540987, -0.0500069, -1.       , ..., -0.0664196, -0.0698018,\n",
       "        -0.0670775],\n",
       "       ..., \n",
       "       [-0.0670812, -0.0619037, -0.0664196, ..., -1.       , -0.0618494,\n",
       "        -0.0647121],\n",
       "       [-0.0713386, -0.0658001, -0.0698018, ..., -0.0618494, -1.       ,\n",
       "        -0.0507757],\n",
       "       [-0.0675054, -0.0636483, -0.0670775, ..., -0.0647121, -0.0507757,\n",
       "        -1.       ]], dtype=float32)"
      ]
     },
     "execution_count": 9,
     "metadata": {},
     "output_type": "execute_result"
    }
   ],
   "source": [
    "F"
   ]
  },
  {
   "cell_type": "code",
   "execution_count": 10,
   "metadata": {
    "collapsed": true
   },
   "outputs": [],
   "source": [
    "k = 10\n",
    "maxtop = 7\n",
    "g = 4"
   ]
  },
  {
   "cell_type": "code",
   "execution_count": 11,
   "metadata": {
    "collapsed": true
   },
   "outputs": [],
   "source": [
    "softcorrect = 0\n",
    "hardcorrect = 0\n",
    "totalnum = 0"
   ]
  },
  {
   "cell_type": "code",
   "execution_count": 12,
   "metadata": {
    "collapsed": false
   },
   "outputs": [
    {
     "data": {
      "text/plain": [
       "array([254,  58, 283, 128, 148, 121,   2, 129,   3,   1])"
      ]
     },
     "execution_count": 12,
     "metadata": {},
     "output_type": "execute_result"
    }
   ],
   "source": [
    "topk = F[0].argsort()[-10:]\n",
    "topk"
   ]
  },
  {
   "cell_type": "code",
   "execution_count": 13,
   "metadata": {
    "collapsed": false
   },
   "outputs": [
    {
     "data": {
      "text/plain": [
       "array([  3, 128, 283, 253,   2, 245, 255,   0, 121, 129])"
      ]
     },
     "execution_count": 13,
     "metadata": {},
     "output_type": "execute_result"
    }
   ],
   "source": [
    "topk = F[1].argsort()[-10:]\n",
    "topk"
   ]
  },
  {
   "cell_type": "code",
   "execution_count": 14,
   "metadata": {
    "collapsed": true
   },
   "outputs": [],
   "source": [
    "maxtop = 3"
   ]
  },
  {
   "cell_type": "code",
   "execution_count": 15,
   "metadata": {
    "collapsed": true
   },
   "outputs": [],
   "source": [
    "softcorrect = 0\n",
    "hardcorrect = 0\n",
    "totalnum = 0\n",
    "for j, i in enumerate(F):\n",
    "    topk = i.argsort()[-k:]\n",
    "    # Soft criteria\n",
    "    if j/g in topk/g:\n",
    "        softcorrect += 1\n",
    "    totalnum +=1\n",
    "    # Hard criteria\n",
    "    hardsample = sum([1 for jj in (j/g == topk[-maxtop:]/g) if jj])\n",
    "    if hardsample==maxtop:\n",
    "        hardcorrect += 1"
   ]
  },
  {
   "cell_type": "code",
   "execution_count": 16,
   "metadata": {
    "collapsed": false
   },
   "outputs": [
    {
     "data": {
      "text/plain": [
       "18"
      ]
     },
     "execution_count": 16,
     "metadata": {},
     "output_type": "execute_result"
    }
   ],
   "source": [
    "hardcorrect"
   ]
  },
  {
   "cell_type": "code",
   "execution_count": 17,
   "metadata": {
    "collapsed": false
   },
   "outputs": [
    {
     "name": "stdout",
     "output_type": "stream",
     "text": [
      "Top 10 (soft criteria) = 0.967500\n",
      "Top 10 (hard criteria) = 0.045000\n"
     ]
    }
   ],
   "source": [
    "print \"Top %d (soft criteria) = %f\" %( k, (softcorrect+0.0) / totalnum )\n",
    "print \"Top %d (hard criteria) = %f\" %( k, (hardcorrect+0.0) / totalnum )"
   ]
  },
  {
   "cell_type": "code",
   "execution_count": null,
   "metadata": {
    "collapsed": true
   },
   "outputs": [],
   "source": []
  }
 ],
 "metadata": {
  "kernelspec": {
   "display_name": "Python 2",
   "language": "python",
   "name": "python2"
  },
  "language_info": {
   "codemirror_mode": {
    "name": "ipython",
    "version": 2
   },
   "file_extension": ".py",
   "mimetype": "text/x-python",
   "name": "python",
   "nbconvert_exporter": "python",
   "pygments_lexer": "ipython2",
   "version": "2.7.6"
  }
 },
 "nbformat": 4,
 "nbformat_minor": 0
}
