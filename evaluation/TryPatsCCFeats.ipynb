{
 "cells": [
  {
   "cell_type": "code",
   "execution_count": 1,
   "metadata": {
    "collapsed": false
   },
   "outputs": [],
   "source": [
    "import os, sys\n",
    "import matplotlib.pyplot as plt\n",
    "import numpy as np\n",
    "from sklearn import decomposition, manifold\n",
    "import h5py\n",
    "\n",
    "% matplotlib notebook"
   ]
  },
  {
   "cell_type": "code",
   "execution_count": 2,
   "metadata": {
    "collapsed": true
   },
   "outputs": [],
   "source": [
    "def compute_distance(x,y):\n",
    "    x = x / np.linalg.norm(x)\n",
    "    y = y / np.linalg.norm(y)\n",
    "    return np.linalg.norm(x-y)"
   ]
  },
  {
   "cell_type": "code",
   "execution_count": 3,
   "metadata": {
    "collapsed": true
   },
   "outputs": [],
   "source": [
    "def print_percentage(n, t):\n",
    "    sys.stdout.write('\\r')\n",
    "    sys.stdout.write(\"[%-20s] %d%%\" % ('=' * ((n * 20/t) + 1) , n * 100/t + 1 ))\n",
    "    sys.stdout.flush()"
   ]
  },
  {
   "cell_type": "code",
   "execution_count": 74,
   "metadata": {
    "collapsed": false
   },
   "outputs": [
    {
     "data": {
      "text/plain": [
       "(720, 4096)"
      ]
     },
     "execution_count": 74,
     "metadata": {},
     "output_type": "execute_result"
    }
   ],
   "source": [
    "np.array(feature_map).shape"
   ]
  },
  {
   "cell_type": "code",
   "execution_count": 79,
   "metadata": {
    "collapsed": false
   },
   "outputs": [
    {
     "name": "stdout",
     "output_type": "stream",
     "text": [
      "[====================] 100%"
     ]
    }
   ],
   "source": [
    "patsfile = h5py.File('/fileserver/nmec-handwriting/localfeatures/iam_fiel_connected_component_activations_nmec.hdf5','r')\n",
    "\n",
    "feature_map = []\n",
    "for i, feats in enumerate(patsfile):\n",
    "    # meanfeats = np.expand_dims( patsfile[feats].value.mean(axis=0), 0 )\n",
    "    meanfeats = np.array(patsfile[feats].value.mean(axis=0), dtype='float')\n",
    "    if meanfeats.shape==():\n",
    "        meanfeats = np.array(np.ones(4096))\n",
    "    feature_map = feature_map + [meanfeats]\n",
    "    print_percentage(i, len(patsfile.keys()))\n",
    "        \n",
    "feature_map = np.array(feature_map)\n",
    "feature_map.shape\n",
    "\n",
    "files = patsfile.keys()"
   ]
  },
  {
   "cell_type": "code",
   "execution_count": 33,
   "metadata": {
    "collapsed": false
   },
   "outputs": [
    {
     "data": {
      "text/plain": [
       "(358, 10)"
      ]
     },
     "execution_count": 33,
     "metadata": {},
     "output_type": "execute_result"
    }
   ],
   "source": [
    "pca = decomposition.PCA(n_components=400)\n",
    "transform = pca.fit_transform(feature_map)\n",
    "# transform = transform.T\n",
    "transform.shape"
   ]
  },
  {
   "cell_type": "code",
   "execution_count": null,
   "metadata": {
    "collapsed": false
   },
   "outputs": [],
   "source": [
    "a = transform[0]\n",
    "b = transform[1]\n",
    "compute_min_distance(a,b)"
   ]
  },
  {
   "cell_type": "code",
   "execution_count": 76,
   "metadata": {
    "collapsed": true
   },
   "outputs": [],
   "source": [
    "transform = feature_map"
   ]
  },
  {
   "cell_type": "code",
   "execution_count": 77,
   "metadata": {
    "collapsed": false
   },
   "outputs": [
    {
     "name": "stdout",
     "output_type": "stream",
     "text": [
      "[====================] 100%"
     ]
    }
   ],
   "source": [
    "metric = []\n",
    "for i, image in enumerate(transform):\n",
    "    metricline = [np.array([compute_distance(image, other) for other in transform])]\n",
    "    metric += metricline\n",
    "    print_percentage(i, len(transform))\n",
    "\n",
    "metric = np.array(metric)\n",
    "F = -metric\n",
    "np.fill_diagonal(F, -sys.maxint)"
   ]
  },
  {
   "cell_type": "code",
   "execution_count": 80,
   "metadata": {
    "collapsed": false
   },
   "outputs": [
    {
     "name": "stdout",
     "output_type": "stream",
     "text": [
      "003-005 matched [u'003', u'003', u'003']\n",
      "006-002 matched [u'006', u'006', u'006']\n",
      "006-004 matched [u'006', u'006', u'006']\n",
      "008-005 matched [u'008', u'008', u'008']\n",
      "009-005 matched [u'009', u'009', u'009']\n",
      "015-005 matched [u'015', u'015', u'015']\n",
      "015-006 matched [u'015', u'015', u'015']\n",
      "026-001 matched [u'026', u'026', u'026']\n",
      "026-003 matched [u'026', u'026', u'026']\n",
      "026-004 matched [u'026', u'026', u'026']\n",
      "038-005 matched [u'038', u'038', u'038']\n",
      "056-001 matched [u'056', u'056', u'056']\n",
      "056-003 matched [u'056', u'056', u'056']\n",
      "056-005 matched [u'056', u'056', u'056']\n",
      "056-006 matched [u'056', u'056', u'056']\n",
      "060-001 matched [u'060', u'060', u'060']\n",
      "060-002 matched [u'060', u'060', u'060']\n",
      "060-005 matched [u'060', u'060', u'060']\n",
      "060-006 matched [u'060', u'060', u'060']\n",
      "060-008 matched [u'060', u'060', u'060']\n",
      "-------------------------------------\n",
      "SOFT CRITERIA: Top 10\t= 0.461111\n",
      "HARD CRITERIA: Top 3\t= 0.027778\n"
     ]
    }
   ],
   "source": [
    "soft_correct = 0\n",
    "hard_correct = 0\n",
    "total_num = 0\n",
    "\n",
    "k = 10\n",
    "g = 8\n",
    "max_top = 3\n",
    "\n",
    "for j, i in enumerate(F):\n",
    "    \n",
    "    total_num += 1\n",
    "    topk = i.argsort()[-k:]\n",
    "    \n",
    "    if files[j][:6] in (files[index][:6] for index in topk):\n",
    "        soft_correct += 1\n",
    "    \n",
    "    hardsample = list(files[index][3:6] for index in topk[-max_top:])\n",
    "    if len(set(hardsample)) == 1 and hardsample[0] == files[j][3:6]:\n",
    "        print \"%s matched %s\" % (files[j][3:10], hardsample)\n",
    "        hard_correct += 1\n",
    "\n",
    "print \"%-30s\" % ( \"-\" * 37 )\n",
    "print \"SOFT CRITERIA: Top %d\\t= %f\" %(k, (soft_correct + 0.0) / total_num)\n",
    "print \"HARD CRITERIA: Top %d\\t= %f\" %(max_top, (hard_correct + 0.0) / total_num)"
   ]
  },
  {
   "cell_type": "code",
   "execution_count": null,
   "metadata": {
    "collapsed": false
   },
   "outputs": [],
   "source": []
  },
  {
   "cell_type": "code",
   "execution_count": null,
   "metadata": {
    "collapsed": true
   },
   "outputs": [],
   "source": []
  }
 ],
 "metadata": {
  "kernelspec": {
   "display_name": "Python 2",
   "language": "python",
   "name": "python2"
  },
  "language_info": {
   "codemirror_mode": {
    "name": "ipython",
    "version": 2
   },
   "file_extension": ".py",
   "mimetype": "text/x-python",
   "name": "python",
   "nbconvert_exporter": "python",
   "pygments_lexer": "ipython2",
   "version": "2.7.6"
  }
 },
 "nbformat": 4,
 "nbformat_minor": 0
}
