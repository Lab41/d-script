{
 "cells": [
  {
   "cell_type": "code",
   "execution_count": 1,
   "metadata": {
    "collapsed": false
   },
   "outputs": [],
   "source": [
    "import os, sys\n",
    "import matplotlib.pyplot as plt\n",
    "import numpy as np\n",
    "from sklearn import decomposition, manifold\n",
    "\n",
    "% matplotlib notebook"
   ]
  },
  {
   "cell_type": "code",
   "execution_count": 2,
   "metadata": {
    "collapsed": true
   },
   "outputs": [],
   "source": [
    "def compute_distance(x,y):\n",
    "    m = np.empty([len(y),len(x)])\n",
    "    for i in range(len(y)):\n",
    "        m[i] = np.abs( x - y[i] ).sum(axis=1)\n",
    "    m = m / np.linalg.norm(m, axis = 0)\n",
    "    return np.min(m, axis = 0).sum() / len(x)"
   ]
  },
  {
   "cell_type": "code",
   "execution_count": 3,
   "metadata": {
    "collapsed": true
   },
   "outputs": [],
   "source": [
    "def print_percentage(n, t):\n",
    "    sys.stdout.write('\\r')\n",
    "    sys.stdout.write(\"[%-20s] %d%%\" % ('=' * ((n * 20/t) + 1) , n * 100/t + 1 ))\n",
    "    if n == t: sys.stdout.write('\\n')\n",
    "    sys.stdout.flush()\n",
    "    "
   ]
  },
  {
   "cell_type": "markdown",
   "metadata": {},
   "source": [
    "## Load files from directory\n",
    "Load all of the numpy arrays from disk. One array will be n by 4096 images, where n in the number of handwriting samples, and will contain the means across all features. This will be used to create the PCA model which will be used to reduce the dimensionality of each patch.\n",
    "\n",
    "The second array will maintain the extracted features for each patch from each sample."
   ]
  },
  {
   "cell_type": "code",
   "execution_count": 4,
   "metadata": {
    "collapsed": false,
    "scrolled": true
   },
   "outputs": [
    {
     "name": "stdout",
     "output_type": "stream",
     "text": [
      "[====================] 100%\n",
      "(708, 4096)\n",
      "(76, 4096)\n"
     ]
    }
   ],
   "source": [
    "#feature_dir = '/fileserver/nmec-handwriting/localfeatures/first-pass/'\n",
    "feature_dir = '/fileserver/nmec-handwriting/localfeatures/nmec_bw_cc_deNNiam_fiel657_min500'\n",
    "\n",
    "files = os.listdir(feature_dir)\n",
    "files.sort()\n",
    "\n",
    "mean_feats = []\n",
    "all_feats  = []\n",
    "for i,filename in enumerate(files):\n",
    "    path = feature_dir + \"/\" + filename\n",
    "    #if os.path.isfile(path) and ( '004.' in filename or '007.' in filename):\n",
    "    if os.path.isfile(path):\n",
    "        x = np.load(path)\n",
    "        mean_feats.append( x.mean(axis=0) )\n",
    "        all_feats.append(x)\n",
    "    print_percentage(i, len(files))\n",
    "sys.stdout.write('\\n')\n",
    "sys.stdout.flush()\n",
    "        \n",
    "mean_feats = np.array(mean_feats)\n",
    "all_feats  = np.array(all_feats)\n",
    "print mean_feats.shape\n",
    "print all_feats[0].shape"
   ]
  },
  {
   "cell_type": "markdown",
   "metadata": {},
   "source": [
    "Create a PCA model based on feature means for all samples"
   ]
  },
  {
   "cell_type": "code",
   "execution_count": 5,
   "metadata": {
    "collapsed": false
   },
   "outputs": [],
   "source": [
    "pca = decomposition.PCA(n_components=128)\n",
    "train = mean_feats\n",
    "train_reduced = pca.fit_transform(train)"
   ]
  },
  {
   "cell_type": "markdown",
   "metadata": {},
   "source": [
    "Iterate over each sample, reducing dimensionality to 128 for all patches"
   ]
  },
  {
   "cell_type": "code",
   "execution_count": 6,
   "metadata": {
    "collapsed": false
   },
   "outputs": [],
   "source": [
    "all_reduced = np.array([pca.transform(sample) for sample in all_feats])"
   ]
  },
  {
   "cell_type": "markdown",
   "metadata": {},
   "source": [
    "Calculate distance between samples"
   ]
  },
  {
   "cell_type": "code",
   "execution_count": 7,
   "metadata": {
    "collapsed": false
   },
   "outputs": [
    {
     "name": "stdout",
     "output_type": "stream",
     "text": [
      "[====================] 100%"
     ]
    }
   ],
   "source": [
    "metric = []\n",
    "for i, image in enumerate(all_reduced):\n",
    "    metricline = [np.array([compute_distance(image, other) for other in all_reduced])]\n",
    "    metric += metricline\n",
    "    print_percentage(i, len(all_reduced))\n",
    "\n",
    "metric = np.array(metric)\n",
    "F = -metric\n",
    "np.fill_diagonal(F, -sys.maxint)"
   ]
  },
  {
   "cell_type": "code",
   "execution_count": 8,
   "metadata": {
    "collapsed": false
   },
   "outputs": [
    {
     "name": "stdout",
     "output_type": "stream",
     "text": [
      "056-002 matched ['056', '056', '056']\n",
      "-------------------------------------\n",
      "SOFT CRITERIA: Top 10\t= 0.186441\n",
      "HARD CRITERIA: Top 3\t= 0.001412\n"
     ]
    }
   ],
   "source": [
    "soft_correct = 0\n",
    "hard_correct = 0\n",
    "total_num = 0\n",
    "\n",
    "k = 10\n",
    "g = 8\n",
    "max_top = 3\n",
    "\n",
    "for j, i in enumerate(F):\n",
    "    \n",
    "    total_num += 1\n",
    "    topk = i.argsort()[-k:]\n",
    "    \n",
    "    if files[j][:6] in (files[index][:6] for index in topk):\n",
    "        soft_correct += 1\n",
    "    \n",
    "    hardsample = list(files[index][3:6] for index in topk[-max_top:])\n",
    "    if len(set(hardsample)) == 1 and hardsample[0] == files[j][3:6]:\n",
    "        print \"%s matched %s\" % (files[j][3:10], hardsample)\n",
    "        hard_correct += 1\n",
    "\n",
    "print \"%-30s\" % ( \"-\" * 37 )\n",
    "print \"SOFT CRITERIA: Top %d\\t= %f\" %(k, (soft_correct + 0.0) / total_num)\n",
    "print \"HARD CRITERIA: Top %d\\t= %f\" %(max_top, (hard_correct + 0.0) / total_num)"
   ]
  },
  {
   "cell_type": "code",
   "execution_count": null,
   "metadata": {
    "collapsed": true
   },
   "outputs": [],
   "source": []
  }
 ],
 "metadata": {
  "kernelspec": {
   "display_name": "Python 2",
   "language": "python",
   "name": "python2"
  },
  "language_info": {
   "codemirror_mode": {
    "name": "ipython",
    "version": 2
   },
   "file_extension": ".py",
   "mimetype": "text/x-python",
   "name": "python",
   "nbconvert_exporter": "python",
   "pygments_lexer": "ipython2",
   "version": "2.7.6"
  }
 },
 "nbformat": 4,
 "nbformat_minor": 0
}
