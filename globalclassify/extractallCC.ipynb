{
 "cells": [
  {
   "cell_type": "code",
   "execution_count": 1,
   "metadata": {
    "collapsed": false
   },
   "outputs": [],
   "source": [
    "import h5py\n",
    "from scipy import ndimage\n",
    "import matplotlib.pylab as plt\n",
    "import numpy as np\n",
    "import sys\n",
    "\n",
    "sys.path.append('../')\n",
    "%matplotlib inline"
   ]
  },
  {
   "cell_type": "markdown",
   "metadata": {},
   "source": [
    "### Shingle items from Yonas's original code"
   ]
  },
  {
   "cell_type": "code",
   "execution_count": 2,
   "metadata": {
    "collapsed": true
   },
   "outputs": [],
   "source": [
    "def shingler(original_line, shingle_dim=(120,120)):\n",
    "\n",
    "    # Pull shingle from the line\n",
    "    # TODO: pull out shingle_dim[n] into two holder variables\n",
    "    (height, width) = original_line.shape\n",
    "    max_x = max(width - shingle_dim[1], 1)\n",
    "    max_y = max(height - shingle_dim[0], 1)\n",
    "    x_start = np.random.randint(0, max_x)\n",
    "    y_start = np.random.randint(0, max_y)\n",
    "    # check if the line is too small on at least one axis\n",
    "    if width < shingle_dim[1]:\n",
    "        x_slice = slice(0,width)\n",
    "    else:\n",
    "        x_slice = slice(x_start, x_start+shingle_dim[1])\n",
    "    if  height < shingle_dim[0]: \n",
    "        y_slice = slice(0,height)\n",
    "    else:\n",
    "        y_slice = slice(y_start, y_start+shingle_dim[1])\n",
    "    slice_width = x_slice.stop - x_slice.start\n",
    "    slice_height = y_slice.stop - y_slice.start\n",
    "    # create an output shingle, copy our thing onto it\n",
    "    output_arr = np.zeros(shingle_dim)\n",
    "    output_arr.fill(255)\n",
    "    output_arr[:slice_height,:slice_width] = original_line[y_slice, x_slice]\n",
    "    return output_arr"
   ]
  },
  {
   "cell_type": "markdown",
   "metadata": {},
   "source": [
    "### Functions for finding the connected components and example"
   ]
  },
  {
   "cell_type": "code",
   "execution_count": 3,
   "metadata": {
    "collapsed": true
   },
   "outputs": [],
   "source": [
    "# Calculate the connected components\n",
    "def connectedcomponents( im ):\n",
    "    im = im.value\n",
    "    if im.max()==1:\n",
    "        im = 255*(1-im)\n",
    "    im = im < 128\n",
    "    return ndimage.label(im > 0.5)\n",
    "\n",
    "# Threshold connected components based on number of pixels\n",
    "def thresholdcc( ccis, minthresh=500 ):\n",
    "    ccs = []\n",
    "    for i in xrange(1,ccis[1]):\n",
    "        if np.array(ccis[0]==i).sum() > minthresh:\n",
    "            ccs+=[i]\n",
    "    return ccs\n",
    "\n",
    "def shinglesfromcc( ccis, minthresh=250, maxthresh=2000, shingle_dim=(56,56) ):\n",
    "    ccs = []\n",
    "    for i in xrange(1,ccis[1]):\n",
    "        energy = np.array(ccis[0]==i).sum()\n",
    "        if energy > minthresh and energy < maxthresh:\n",
    "            ii = np.where( ccis[0] == i )\n",
    "            xb = ii[0].min()\n",
    "            yb = ii[1].min()\n",
    "            xe = ii[0].max()\n",
    "            ye = ii[1].max()\n",
    "            ccs += [ shingler( ccis[0][xb:xe, yb:ye], shingle_dim=shingle_dim ) ]\n",
    "    print \"Finished finding \"+str(len(ccs))+\" features from image.\"\n",
    "    return np.expand_dims( np.array( ccs ), 1 )\n",
    "            "
   ]
  },
  {
   "cell_type": "markdown",
   "metadata": {},
   "source": [
    "### Define feature extractor and denoiser\n",
    "\n",
    "There are two options here. Comment irrelevant network and uncomment relevant one.\n",
    "1. 56x56 Input\n",
    "  1. verbatimnet: 56x56 - 4096 output\n",
    "  2. conv4p56_model: 56x56 denoiser\n",
    "2. 120x120 Input\n",
    "  1. minifielnet: 120x120 - 300 output\n",
    "  2. conv4p_model: 120x120 denoiser\n",
    "  "
   ]
  },
  {
   "cell_type": "code",
   "execution_count": 6,
   "metadata": {
    "collapsed": false
   },
   "outputs": [
    {
     "name": "stdout",
     "output_type": "stream",
     "text": [
      "Establishing 120 input: 4096 layer out\n",
      "Loaded neural network up to fclast layer\n",
      "Compiling model\n",
      "Finished compilation\n"
     ]
    }
   ],
   "source": [
    "from globalclassify.fielutil import load_verbatimnet, load_minifielnet, denoise_conv4p120_model, load_fiel120\n",
    "from denoiser.noisenet import conv4p56_model\n",
    "\n",
    "shingle_dim = (120,120)\n",
    "if shingle_dim[0]==56:\n",
    "    featext  = load_verbatimnet('fc7', paramsfile='/fileserver/iam/iam-processed/models/fiel_657.hdf5')\n",
    "    featext.compile(loss='mse', optimizer='sgd')\n",
    "    denoiser = conv4p56_model()\n",
    "    denoiser.load_weights('/work/models/conv4p_linet56-iambin-tifs.hdf5')\n",
    "    \n",
    "else: # inputshape is 120\n",
    "    ### feature extractor input at 120x120 window size\n",
    "    featext  = load_fiel120()\n",
    "    ### denoiser input at 120x120 window size\n",
    "    denoiser = denoise_conv4p120_model()\n",
    "    denoiser.load_weights('/fileserver/iam/iam-processed/models/noisemodels/conv4p_linet120-iambin-tifs.hdf5')"
   ]
  },
  {
   "cell_type": "markdown",
   "metadata": {},
   "source": [
    "### Run through all the images"
   ]
  },
  {
   "cell_type": "code",
   "execution_count": 7,
   "metadata": {
    "collapsed": false
   },
   "outputs": [
    {
     "ename": "KeyboardInterrupt",
     "evalue": "",
     "output_type": "error",
     "traceback": [
      "\u001b[1;31m---------------------------------------------------------------------------\u001b[0m",
      "\u001b[1;31mKeyboardInterrupt\u001b[0m                         Traceback (most recent call last)",
      "\u001b[1;32m<ipython-input-7-e1fb3d4ac355>\u001b[0m in \u001b[0;36m<module>\u001b[1;34m()\u001b[0m\n\u001b[0;32m      8\u001b[0m \u001b[1;32mfor\u001b[0m \u001b[0mimname\u001b[0m \u001b[1;32min\u001b[0m \u001b[0mflatnmec\u001b[0m\u001b[1;33m.\u001b[0m\u001b[0mkeys\u001b[0m\u001b[1;33m(\u001b[0m\u001b[1;33m)\u001b[0m\u001b[1;33m[\u001b[0m\u001b[1;36m237\u001b[0m\u001b[1;33m:\u001b[0m\u001b[1;33m]\u001b[0m\u001b[1;33m:\u001b[0m\u001b[1;33m\u001b[0m\u001b[0m\n\u001b[0;32m      9\u001b[0m     \u001b[0mccis\u001b[0m \u001b[1;33m=\u001b[0m \u001b[0mconnectedcomponents\u001b[0m\u001b[1;33m(\u001b[0m \u001b[0mflatnmec\u001b[0m\u001b[1;33m[\u001b[0m\u001b[0mimname\u001b[0m\u001b[1;33m]\u001b[0m \u001b[1;33m)\u001b[0m\u001b[1;33m\u001b[0m\u001b[0m\n\u001b[1;32m---> 10\u001b[1;33m     \u001b[0mshards\u001b[0m \u001b[1;33m=\u001b[0m \u001b[0mshinglesfromcc\u001b[0m\u001b[1;33m(\u001b[0m \u001b[0mccis\u001b[0m\u001b[1;33m,\u001b[0m \u001b[0mminthresh\u001b[0m\u001b[1;33m=\u001b[0m\u001b[1;36m500\u001b[0m\u001b[1;33m,\u001b[0m \u001b[0mshingle_dim\u001b[0m\u001b[1;33m=\u001b[0m\u001b[0mshingle_dim\u001b[0m \u001b[1;33m)\u001b[0m\u001b[1;33m\u001b[0m\u001b[0m\n\u001b[0m\u001b[0;32m     11\u001b[0m     \u001b[1;32mif\u001b[0m \u001b[0mlen\u001b[0m\u001b[1;33m(\u001b[0m\u001b[0mshards\u001b[0m\u001b[1;33m)\u001b[0m\u001b[1;33m==\u001b[0m\u001b[1;36m0\u001b[0m\u001b[1;33m:\u001b[0m\u001b[1;33m\u001b[0m\u001b[0m\n\u001b[0;32m     12\u001b[0m         \u001b[1;32mprint\u001b[0m \u001b[1;34m\"WARNING \"\u001b[0m\u001b[1;33m+\u001b[0m\u001b[0mstr\u001b[0m\u001b[1;33m(\u001b[0m\u001b[0mimname\u001b[0m\u001b[1;33m)\u001b[0m\u001b[1;33m+\u001b[0m\u001b[1;34m\" has no features!\"\u001b[0m\u001b[1;33m\u001b[0m\u001b[0m\n",
      "\u001b[1;32m<ipython-input-3-ef3cbcdacfbf>\u001b[0m in \u001b[0;36mshinglesfromcc\u001b[1;34m(ccis, minthresh, maxthresh, shingle_dim)\u001b[0m\n\u001b[0;32m     18\u001b[0m     \u001b[0mccs\u001b[0m \u001b[1;33m=\u001b[0m \u001b[1;33m[\u001b[0m\u001b[1;33m]\u001b[0m\u001b[1;33m\u001b[0m\u001b[0m\n\u001b[0;32m     19\u001b[0m     \u001b[1;32mfor\u001b[0m \u001b[0mi\u001b[0m \u001b[1;32min\u001b[0m \u001b[0mxrange\u001b[0m\u001b[1;33m(\u001b[0m\u001b[1;36m1\u001b[0m\u001b[1;33m,\u001b[0m\u001b[0mccis\u001b[0m\u001b[1;33m[\u001b[0m\u001b[1;36m1\u001b[0m\u001b[1;33m]\u001b[0m\u001b[1;33m)\u001b[0m\u001b[1;33m:\u001b[0m\u001b[1;33m\u001b[0m\u001b[0m\n\u001b[1;32m---> 20\u001b[1;33m         \u001b[0menergy\u001b[0m \u001b[1;33m=\u001b[0m \u001b[0mnp\u001b[0m\u001b[1;33m.\u001b[0m\u001b[0marray\u001b[0m\u001b[1;33m(\u001b[0m\u001b[0mccis\u001b[0m\u001b[1;33m[\u001b[0m\u001b[1;36m0\u001b[0m\u001b[1;33m]\u001b[0m\u001b[1;33m==\u001b[0m\u001b[0mi\u001b[0m\u001b[1;33m)\u001b[0m\u001b[1;33m.\u001b[0m\u001b[0msum\u001b[0m\u001b[1;33m(\u001b[0m\u001b[1;33m)\u001b[0m\u001b[1;33m\u001b[0m\u001b[0m\n\u001b[0m\u001b[0;32m     21\u001b[0m         \u001b[1;32mif\u001b[0m \u001b[0menergy\u001b[0m \u001b[1;33m>\u001b[0m \u001b[0mminthresh\u001b[0m \u001b[1;32mand\u001b[0m \u001b[0menergy\u001b[0m \u001b[1;33m<\u001b[0m \u001b[0mmaxthresh\u001b[0m\u001b[1;33m:\u001b[0m\u001b[1;33m\u001b[0m\u001b[0m\n\u001b[0;32m     22\u001b[0m             \u001b[0mii\u001b[0m \u001b[1;33m=\u001b[0m \u001b[0mnp\u001b[0m\u001b[1;33m.\u001b[0m\u001b[0mwhere\u001b[0m\u001b[1;33m(\u001b[0m \u001b[0mccis\u001b[0m\u001b[1;33m[\u001b[0m\u001b[1;36m0\u001b[0m\u001b[1;33m]\u001b[0m \u001b[1;33m==\u001b[0m \u001b[0mi\u001b[0m \u001b[1;33m)\u001b[0m\u001b[1;33m\u001b[0m\u001b[0m\n",
      "\u001b[1;31mKeyboardInterrupt\u001b[0m: "
     ]
    }
   ],
   "source": [
    "hdf5file='/fileserver/nmec-handwriting/flat_nmec_cropped_bin_uint8.hdf5'\n",
    "# hdf5file='/fileserver/nmec-handwriting/flat_nmec_cleaned56_uint8.hdf5'\n",
    "flatnmec=h5py.File(hdf5file,'r')\n",
    "\n",
    "outputdir = '/fileserver/nmec-handwriting/localfeatures/nmec_bw_crop_cc_deNNiam120_fiel657-120/'\n",
    "\n",
    "# Extract connected components, and then shingles with minimum threshold 500\n",
    "for imname in flatnmec.keys()[237:]:\n",
    "    ccis = connectedcomponents( flatnmec[imname] )\n",
    "    shards = shinglesfromcc( ccis, minthresh=500, shingle_dim=shingle_dim )\n",
    "    if len(shards)==0:\n",
    "        print \"WARNING \"+str(imname)+\" has no features!\"\n",
    "        continue\n",
    "    denoised = denoiser.predict( shards, verbose=1 )\n",
    "    features = featext.predict( np.expand_dims( np.reshape(denoised, (denoised.shape[0],)+shingle_dim), 1), verbose = 1 )\n",
    "    \n",
    "    print imname\n",
    "    np.save(outputdir+imname+'.npy', features)"
   ]
  },
  {
   "cell_type": "code",
   "execution_count": null,
   "metadata": {
    "collapsed": false
   },
   "outputs": [],
   "source": [
    "print imname\n",
    "flatnmec.keys().index('FR-034-007.bin.crop.png.cropcrop.png')"
   ]
  },
  {
   "cell_type": "code",
   "execution_count": null,
   "metadata": {
    "collapsed": true
   },
   "outputs": [],
   "source": []
  }
 ],
 "metadata": {
  "kernelspec": {
   "display_name": "Python 2",
   "language": "python",
   "name": "python2"
  },
  "language_info": {
   "codemirror_mode": {
    "name": "ipython",
    "version": 2
   },
   "file_extension": ".py",
   "mimetype": "text/x-python",
   "name": "python",
   "nbconvert_exporter": "python",
   "pygments_lexer": "ipython2",
   "version": "2.7.9"
  }
 },
 "nbformat": 4,
 "nbformat_minor": 0
}
